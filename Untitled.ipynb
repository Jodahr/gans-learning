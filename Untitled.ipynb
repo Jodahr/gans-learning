{
 "cells": [
  {
   "cell_type": "markdown",
   "metadata": {},
   "source": [
    "# Tensors in Tensorflow\n",
    "\n",
    "- basically it is like the mathematical tensor (collection of arbitrary dimension containing same type of objects)\n",
    "- it has thee properties: label (name), dimension (shape), data type (dtype)"
   ]
  },
  {
   "cell_type": "code",
   "execution_count": 198,
   "metadata": {},
   "outputs": [],
   "source": [
    "import tensorflow as tf\n",
    "import numpy as np"
   ]
  },
  {
   "cell_type": "markdown",
   "metadata": {},
   "source": [
    "### Create a Tensor\n",
    "\n",
    "There are four different operations to create a tensor in tensorflow:\n",
    "\n",
    "- tf.Variable\n",
    "- tf.constant\n",
    "- tf.placeholder\n",
    "- tf.SparseTensor"
   ]
  },
  {
   "cell_type": "markdown",
   "metadata": {},
   "source": [
    "#### 1. tf.constant"
   ]
  },
  {
   "cell_type": "code",
   "execution_count": 199,
   "metadata": {},
   "outputs": [],
   "source": [
    "tensor_const = tf.constant(np.array([0,1,2,3,4,5]), dtype=tf.int16, shape=(6,), name=\"from_numpy\")"
   ]
  },
  {
   "cell_type": "code",
   "execution_count": 200,
   "metadata": {},
   "outputs": [
    {
     "data": {
      "text/plain": [
       "<tf.Tensor: shape=(6,), dtype=int16, numpy=array([0, 1, 2, 3, 4, 5], dtype=int16)>"
      ]
     },
     "execution_count": 200,
     "metadata": {},
     "output_type": "execute_result"
    }
   ],
   "source": [
    "tensor_const"
   ]
  },
  {
   "cell_type": "code",
   "execution_count": 201,
   "metadata": {},
   "outputs": [
    {
     "data": {
      "text/plain": [
       "tf.int16"
      ]
     },
     "execution_count": 201,
     "metadata": {},
     "output_type": "execute_result"
    }
   ],
   "source": [
    "# get type\n",
    "tensor_const.dtype"
   ]
  },
  {
   "cell_type": "code",
   "execution_count": 202,
   "metadata": {},
   "outputs": [
    {
     "data": {
      "text/plain": [
       "array([0, 1, 2, 3, 4, 5], dtype=int16)"
      ]
     },
     "execution_count": 202,
     "metadata": {},
     "output_type": "execute_result"
    }
   ],
   "source": [
    "# get numpy array\n",
    "tensor_const.numpy()"
   ]
  },
  {
   "cell_type": "code",
   "execution_count": 203,
   "metadata": {},
   "outputs": [
    {
     "data": {
      "text/plain": [
       "TensorShape([6])"
      ]
     },
     "execution_count": 203,
     "metadata": {},
     "output_type": "execute_result"
    }
   ],
   "source": [
    "# get shape\n",
    "tensor_const.shape"
   ]
  },
  {
   "cell_type": "code",
   "execution_count": 204,
   "metadata": {},
   "outputs": [
    {
     "data": {
      "text/plain": [
       "[6]"
      ]
     },
     "execution_count": 204,
     "metadata": {},
     "output_type": "execute_result"
    }
   ],
   "source": [
    "tensor_const.shape.as_list()"
   ]
  },
  {
   "cell_type": "code",
   "execution_count": 205,
   "metadata": {},
   "outputs": [
    {
     "data": {
      "text/plain": [
       "<tf.Tensor: shape=(10,), dtype=float32, numpy=array([0., 0., 0., 0., 0., 0., 0., 0., 0., 0.], dtype=float32)>"
      ]
     },
     "execution_count": 205,
     "metadata": {},
     "output_type": "execute_result"
    }
   ],
   "source": [
    "# similar to numpy u can create array of zeros\n",
    "tf.zeros(10)"
   ]
  },
  {
   "cell_type": "code",
   "execution_count": 206,
   "metadata": {},
   "outputs": [
    {
     "data": {
      "text/plain": [
       "<tf.Tensor: shape=(10,), dtype=int32, numpy=array([2, 2, 2, 2, 2, 2, 2, 2, 2, 2], dtype=int32)>"
      ]
     },
     "execution_count": 206,
     "metadata": {},
     "output_type": "execute_result"
    }
   ],
   "source": [
    "# as in numpy: repeat\n",
    "tf.repeat(2, 10)"
   ]
  },
  {
   "cell_type": "markdown",
   "metadata": {},
   "source": [
    "You can perform different operations on tensors:\n",
    "\n",
    "tf.add, tf.substract, tf.multiply, tf,reshape, etc."
   ]
  },
  {
   "cell_type": "code",
   "execution_count": 207,
   "metadata": {},
   "outputs": [
    {
     "name": "stdout",
     "output_type": "stream",
     "text": [
      "tf.Tensor(\n",
      "[[ 0  1  2  3]\n",
      " [ 4  5  6  7]\n",
      " [ 8  9 10 11]], shape=(3, 4), dtype=int32)\n",
      "tf.Tensor(\n",
      "[[ 6  7  8]\n",
      " [ 9 10 11]], shape=(2, 3), dtype=int32)\n",
      "tf.Tensor(\n",
      "[[ 92 113 134 155]\n",
      " [128 158 188 218]], shape=(2, 4), dtype=int32)\n",
      "(3, 4, 2, 3)\n"
     ]
    }
   ],
   "source": [
    "a = tf.reshape(tf.range(0,12), (3,4))\n",
    "print(a)\n",
    "b = tf.reshape(tf.range(6,12), (2,3))\n",
    "print(b)\n",
    "# matrix multiplication (inner product)\n",
    "print(tf.tensordot(b,a, axes=1))\n",
    "# outer product\n",
    "print(tf.tensordot(a,b,axes=0).shape) # x_ij * x_kl  -> xijkl in each cell -> dimension 4"
   ]
  },
  {
   "cell_type": "markdown",
   "metadata": {},
   "source": [
    "#### 2. tf.variable\n",
    "- represent a node where values always change\n",
    "- represents a tensor which can be changed by operations: mutable"
   ]
  },
  {
   "cell_type": "code",
   "execution_count": 58,
   "metadata": {},
   "outputs": [
    {
     "data": {
      "text/plain": [
       "<tf.Variable 'Variable:0' shape=(2,) dtype=int64, numpy=array([1, 2])>"
      ]
     },
     "execution_count": 58,
     "metadata": {},
     "output_type": "execute_result"
    }
   ],
   "source": [
    "tf_var = tf.Variable(np.array([1,2]))\n",
    "tf_var"
   ]
  },
  {
   "cell_type": "code",
   "execution_count": 61,
   "metadata": {},
   "outputs": [
    {
     "data": {
      "text/plain": [
       "<tf.Variable 'UnreadVariable' shape=(2,) dtype=int64, numpy=array([2, 2])>"
      ]
     },
     "execution_count": 61,
     "metadata": {},
     "output_type": "execute_result"
    }
   ],
   "source": [
    "tf_var.assign([2,2])"
   ]
  },
  {
   "cell_type": "code",
   "execution_count": 62,
   "metadata": {},
   "outputs": [
    {
     "data": {
      "text/plain": [
       "<tf.Variable 'UnreadVariable' shape=(2,) dtype=int64, numpy=array([5, 5])>"
      ]
     },
     "execution_count": 62,
     "metadata": {},
     "output_type": "execute_result"
    }
   ],
   "source": [
    "tf_var.assign(tf.add(tf_var, [3,3]))"
   ]
  },
  {
   "cell_type": "code",
   "execution_count": 63,
   "metadata": {},
   "outputs": [
    {
     "data": {
      "text/plain": [
       "<tf.Variable 'Variable:0' shape=(2,) dtype=int64, numpy=array([5, 5])>"
      ]
     },
     "execution_count": 63,
     "metadata": {},
     "output_type": "execute_result"
    }
   ],
   "source": [
    "tf_var"
   ]
  },
  {
   "cell_type": "code",
   "execution_count": 68,
   "metadata": {},
   "outputs": [
    {
     "data": {
      "text/plain": [
       "<tf.Tensor: shape=(2,), dtype=int64, numpy=array([5, 5])>"
      ]
     },
     "execution_count": 68,
     "metadata": {},
     "output_type": "execute_result"
    }
   ],
   "source": [
    "# reads value of variable, returns a constant tensor\n",
    "const = tf_var.value()\n",
    "const"
   ]
  },
  {
   "cell_type": "code",
   "execution_count": 72,
   "metadata": {},
   "outputs": [
    {
     "data": {
      "text/plain": [
       "<tf.Tensor: shape=(1, 2), dtype=int64, numpy=array([[5, 5]])>"
      ]
     },
     "execution_count": 72,
     "metadata": {},
     "output_type": "execute_result"
    }
   ],
   "source": [
    "tf.reshape(const, (1,2))"
   ]
  },
  {
   "cell_type": "markdown",
   "metadata": {},
   "source": [
    "#### 3. tf.placeholder\n",
    "only in tensorflow 1 or eager mode off"
   ]
  },
  {
   "cell_type": "code",
   "execution_count": 86,
   "metadata": {},
   "outputs": [],
   "source": [
    "#tf.compat.v1.disable_eager_execution()"
   ]
  },
  {
   "cell_type": "code",
   "execution_count": 87,
   "metadata": {},
   "outputs": [],
   "source": [
    "#tensor_dummy = tf.compat.v1.placeholder(dtype=tf.int16, shape=(4,4))"
   ]
  },
  {
   "cell_type": "code",
   "execution_count": 88,
   "metadata": {},
   "outputs": [],
   "source": [
    "#tensor_dummy"
   ]
  },
  {
   "cell_type": "markdown",
   "metadata": {},
   "source": [
    "### Tensorflow Custom Layer"
   ]
  },
  {
   "cell_type": "code",
   "execution_count": 6,
   "metadata": {},
   "outputs": [],
   "source": [
    "from tensorflow.keras import layers"
   ]
  },
  {
   "cell_type": "code",
   "execution_count": 7,
   "metadata": {},
   "outputs": [],
   "source": [
    "dense_layer = layers.Dense(10, input_shape=(None, 1))"
   ]
  },
  {
   "cell_type": "code",
   "execution_count": 8,
   "metadata": {},
   "outputs": [
    {
     "name": "stdout",
     "output_type": "stream",
     "text": [
      "(3, 1)\n"
     ]
    },
    {
     "data": {
      "text/plain": [
       "<tf.Tensor: shape=(3, 10), dtype=float32, numpy=\n",
       "array([[ 0.25586367,  0.5584596 ,  0.41278988,  0.2721278 , -0.49258277,\n",
       "         0.24125361,  0.54057914, -0.4388957 , -0.2121926 ,  0.07257062],\n",
       "       [ 0.51172733,  1.1169192 ,  0.82557976,  0.5442556 , -0.98516554,\n",
       "         0.48250723,  1.0811583 , -0.8777914 , -0.4243852 ,  0.14514124],\n",
       "       [ 0.767591  ,  1.6753788 ,  1.2383697 ,  0.8163834 , -1.4777483 ,\n",
       "         0.72376084,  1.6217375 , -1.3166871 , -0.6365778 ,  0.21771187]],\n",
       "      dtype=float32)>"
      ]
     },
     "execution_count": 8,
     "metadata": {},
     "output_type": "execute_result"
    }
   ],
   "source": [
    "array = np.array([[1],[2],[3]])\n",
    "print(array.shape) # batch size, features\n",
    "layer_res = dense_layer(tf.constant(array))\n",
    "layer_res"
   ]
  },
  {
   "cell_type": "code",
   "execution_count": 9,
   "metadata": {},
   "outputs": [
    {
     "name": "stdout",
     "output_type": "stream",
     "text": [
      "(3, 10)\n"
     ]
    }
   ],
   "source": [
    "print(layer_res.shape)"
   ]
  },
  {
   "cell_type": "code",
   "execution_count": 10,
   "metadata": {},
   "outputs": [
    {
     "data": {
      "text/plain": [
       "<tf.Tensor: shape=(3, 10), dtype=float32, numpy=\n",
       "array([[ 0.25586367,  0.5584596 ,  0.41278988,  0.2721278 , -0.49258277,\n",
       "         0.24125361,  0.54057914, -0.4388957 , -0.2121926 ,  0.07257062],\n",
       "       [ 0.51172733,  1.1169192 ,  0.82557976,  0.5442556 , -0.98516554,\n",
       "         0.48250723,  1.0811583 , -0.8777914 , -0.4243852 ,  0.14514124],\n",
       "       [ 0.767591  ,  1.6753788 ,  1.2383697 ,  0.8163834 , -1.4777483 ,\n",
       "         0.72376084,  1.6217375 , -1.3166871 , -0.6365778 ,  0.21771187]],\n",
       "      dtype=float32)>"
      ]
     },
     "execution_count": 10,
     "metadata": {},
     "output_type": "execute_result"
    }
   ],
   "source": [
    "layer_res"
   ]
  },
  {
   "cell_type": "code",
   "execution_count": 11,
   "metadata": {},
   "outputs": [
    {
     "data": {
      "text/plain": [
       "<tf.Tensor: shape=(3, 10), dtype=float32, numpy=\n",
       "array([[ 0.25586367,  0.5584596 ,  0.41278988,  0.2721278 , -0.49258277,\n",
       "         0.24125361,  0.54057914, -0.4388957 , -0.2121926 ,  0.07257062],\n",
       "       [ 0.51172733,  1.1169192 ,  0.82557976,  0.5442556 , -0.98516554,\n",
       "         0.48250723,  1.0811583 , -0.8777914 , -0.4243852 ,  0.14514124],\n",
       "       [ 0.767591  ,  1.6753788 ,  1.2383697 ,  0.8163834 , -1.4777483 ,\n",
       "         0.72376084,  1.6217375 , -1.3166871 , -0.6365778 ,  0.21771187]],\n",
       "      dtype=float32)>"
      ]
     },
     "execution_count": 11,
     "metadata": {},
     "output_type": "execute_result"
    }
   ],
   "source": [
    "dense_layer(tf.constant(array))"
   ]
  },
  {
   "cell_type": "code",
   "execution_count": 12,
   "metadata": {},
   "outputs": [
    {
     "data": {
      "text/plain": [
       "<tf.Tensor: shape=(1, 10), dtype=float32, numpy=\n",
       "array([[ 0.25586367,  0.5584596 ,  0.41278988,  0.2721278 , -0.49258277,\n",
       "         0.24125361,  0.54057914, -0.4388957 , -0.2121926 ,  0.07257062]],\n",
       "      dtype=float32)>"
      ]
     },
     "execution_count": 12,
     "metadata": {},
     "output_type": "execute_result"
    }
   ],
   "source": [
    "dense_layer.variables[0].value()"
   ]
  },
  {
   "cell_type": "code",
   "execution_count": 208,
   "metadata": {},
   "outputs": [
    {
     "name": "stdout",
     "output_type": "stream",
     "text": [
      "[0 1 2 ... 7 8 9]\n"
     ]
    }
   ],
   "source": [
    "import sys\n",
    "tensor = tf.range(10)\n",
    "tf.print(tensor, output_stream=sys.stderr)"
   ]
  },
  {
   "cell_type": "code",
   "execution_count": 209,
   "metadata": {},
   "outputs": [
    {
     "data": {
      "text/plain": [
       "[<tf.Variable 'dense/kernel:0' shape=(1, 10) dtype=float32, numpy=\n",
       " array([[ 0.25586367,  0.5584596 ,  0.41278988,  0.2721278 , -0.49258277,\n",
       "          0.24125361,  0.54057914, -0.4388957 , -0.2121926 ,  0.07257062]],\n",
       "       dtype=float32)>,\n",
       " <tf.Variable 'dense/bias:0' shape=(10,) dtype=float32, numpy=array([0., 0., 0., 0., 0., 0., 0., 0., 0., 0.], dtype=float32)>]"
      ]
     },
     "execution_count": 209,
     "metadata": {},
     "output_type": "execute_result"
    }
   ],
   "source": [
    "dense_layer.variables"
   ]
  },
  {
   "cell_type": "code",
   "execution_count": 210,
   "metadata": {},
   "outputs": [
    {
     "data": {
      "text/plain": [
       "<tf.Variable 'dense/kernel:0' shape=(1, 10) dtype=float32, numpy=\n",
       "array([[ 0.25586367,  0.5584596 ,  0.41278988,  0.2721278 , -0.49258277,\n",
       "         0.24125361,  0.54057914, -0.4388957 , -0.2121926 ,  0.07257062]],\n",
       "      dtype=float32)>"
      ]
     },
     "execution_count": 210,
     "metadata": {},
     "output_type": "execute_result"
    }
   ],
   "source": [
    "dense_layer.kernel"
   ]
  },
  {
   "cell_type": "code",
   "execution_count": 211,
   "metadata": {},
   "outputs": [
    {
     "data": {
      "text/plain": [
       "<tf.Variable 'dense/bias:0' shape=(10,) dtype=float32, numpy=array([0., 0., 0., 0., 0., 0., 0., 0., 0., 0.], dtype=float32)>"
      ]
     },
     "execution_count": 211,
     "metadata": {},
     "output_type": "execute_result"
    }
   ],
   "source": [
    "dense_layer.bias"
   ]
  },
  {
   "cell_type": "code",
   "execution_count": 212,
   "metadata": {},
   "outputs": [],
   "source": [
    "class MyDenseLayer(tf.keras.layers.Layer):\n",
    "    def __init__(self, num_outputs):\n",
    "        super(MyDenseLayer, self).__init__()  # inherit all attributes from super class\n",
    "        self.num_outputs = num_outputs\n",
    "    \n",
    "    # input independent init\n",
    "    def build(self, input_shape):\n",
    "        self.kernel = self.add_variable(\"kernel\", shape=[int(input_shape[-1]), self.num_outputs])\n",
    "        \n",
    "    def call(self, x):\n",
    "        return tf.matmul(x, self.kernel)\n",
    "        "
   ]
  },
  {
   "cell_type": "code",
   "execution_count": 213,
   "metadata": {},
   "outputs": [],
   "source": [
    "my_layer = MyDenseLayer(10)"
   ]
  },
  {
   "cell_type": "code",
   "execution_count": 214,
   "metadata": {},
   "outputs": [
    {
     "data": {
      "text/plain": [
       "<tf.Tensor: shape=(5, 10), dtype=float32, numpy=\n",
       "array([[0., 0., 0., 0., 0., 0., 0., 0., 0., 0.],\n",
       "       [0., 0., 0., 0., 0., 0., 0., 0., 0., 0.],\n",
       "       [0., 0., 0., 0., 0., 0., 0., 0., 0., 0.],\n",
       "       [0., 0., 0., 0., 0., 0., 0., 0., 0., 0.],\n",
       "       [0., 0., 0., 0., 0., 0., 0., 0., 0., 0.]], dtype=float32)>"
      ]
     },
     "execution_count": 214,
     "metadata": {},
     "output_type": "execute_result"
    }
   ],
   "source": [
    "my_layer(tf.zeros([5, 5]))"
   ]
  },
  {
   "cell_type": "code",
   "execution_count": 215,
   "metadata": {},
   "outputs": [],
   "source": [
    "#my_layer.kernel"
   ]
  },
  {
   "cell_type": "markdown",
   "metadata": {},
   "source": [
    "### Custom linear regression model\n",
    "\n",
    "- data: ($\\vec{x}, y$), where $\\vec{x}$ is a 4 dimensional vector (4 features)\n",
    "- layer 1 output: $x_1 = \\vec{x} w + \\vec{b}$ (dimension of output vector is number of hidden neurons)"
   ]
  },
  {
   "cell_type": "code",
   "execution_count": 216,
   "metadata": {},
   "outputs": [],
   "source": [
    "class MyLinear(layers.Layer):\n",
    "    \n",
    "    def __init__(self, units=10):\n",
    "        \n",
    "        # inherit from super class\n",
    "        super(MyLinear, self).__init__()\n",
    "        self.units = units\n",
    "    \n",
    "    def build(self, input_shape):\n",
    "        # weights\n",
    "        w_init = tf.random_normal_initializer()\n",
    "        self.w = tf.Variable(w_init(shape=(input_shape[-1], self.units)), dtype=tf.float32, trainable=True)\n",
    "        \n",
    "        # bias\n",
    "        b_init = tf.zeros_initializer()\n",
    "        self.b = tf.Variable(b_init(shape=(self.units,)), dtype=tf.float32, trainable=True)\n",
    "        \n",
    "    def call(self,inputs):\n",
    "        return tf.matmul(inputs,self.w) + self.b"
   ]
  },
  {
   "cell_type": "code",
   "execution_count": 217,
   "metadata": {},
   "outputs": [],
   "source": [
    "class Linear(layers.Layer):\n",
    "\n",
    "    def __init__(self, units=32):\n",
    "        super(Linear, self).__init__()\n",
    "        self.units = units\n",
    "\n",
    "    def build(self, input_shape):\n",
    "        self.w = self.add_weight(shape=(input_shape[-1], self.units),\n",
    "                             initializer='random_normal',\n",
    "                             trainable=True)\n",
    "        self.b = self.add_weight(shape=(self.units,),\n",
    "                             initializer='random_normal',\n",
    "                             trainable=True)\n",
    "\n",
    "    def call(self, inputs):\n",
    "        return tf.matmul(inputs, self.w) + self.b"
   ]
  },
  {
   "cell_type": "code",
   "execution_count": 218,
   "metadata": {},
   "outputs": [],
   "source": [
    "x = tf.ones((2, 2))"
   ]
  },
  {
   "cell_type": "code",
   "execution_count": 219,
   "metadata": {},
   "outputs": [],
   "source": [
    "mylinear_layer = MyLinear()\n",
    "linear_layer = Linear()"
   ]
  },
  {
   "cell_type": "code",
   "execution_count": 220,
   "metadata": {},
   "outputs": [
    {
     "data": {
      "text/plain": [
       "<tf.Tensor: shape=(2, 10), dtype=float32, numpy=\n",
       "array([[ 0.00324185, -0.01877583, -0.07878166, -0.03504631,  0.16190289,\n",
       "         0.07198575, -0.05032587, -0.0844491 ,  0.04504769, -0.02616073],\n",
       "       [ 0.00324185, -0.01877583, -0.07878166, -0.03504631,  0.16190289,\n",
       "         0.07198575, -0.05032587, -0.0844491 ,  0.04504769, -0.02616073]],\n",
       "      dtype=float32)>"
      ]
     },
     "execution_count": 220,
     "metadata": {},
     "output_type": "execute_result"
    }
   ],
   "source": [
    "mylinear_layer(x)"
   ]
  },
  {
   "cell_type": "code",
   "execution_count": 221,
   "metadata": {},
   "outputs": [
    {
     "data": {
      "text/plain": [
       "<tf.Tensor: shape=(2, 32), dtype=float32, numpy=\n",
       "array([[ 0.08401091, -0.19796091, -0.09266754, -0.07877561, -0.06024545,\n",
       "         0.01236349, -0.1172842 ,  0.1084438 ,  0.03032708, -0.01375853,\n",
       "        -0.15694684, -0.00483333,  0.01135873,  0.18474095, -0.01170298,\n",
       "        -0.11443263,  0.0445405 ,  0.13178304,  0.00501189, -0.00634875,\n",
       "        -0.05340285, -0.16851766,  0.03609808, -0.02855127,  0.06507818,\n",
       "         0.04328365,  0.0479701 ,  0.03461563,  0.05638358, -0.02490864,\n",
       "        -0.07285841, -0.13318636],\n",
       "       [ 0.08401091, -0.19796091, -0.09266754, -0.07877561, -0.06024545,\n",
       "         0.01236349, -0.1172842 ,  0.1084438 ,  0.03032708, -0.01375853,\n",
       "        -0.15694684, -0.00483333,  0.01135873,  0.18474095, -0.01170298,\n",
       "        -0.11443263,  0.0445405 ,  0.13178304,  0.00501189, -0.00634875,\n",
       "        -0.05340285, -0.16851766,  0.03609808, -0.02855127,  0.06507818,\n",
       "         0.04328365,  0.0479701 ,  0.03461563,  0.05638358, -0.02490864,\n",
       "        -0.07285841, -0.13318636]], dtype=float32)>"
      ]
     },
     "execution_count": 221,
     "metadata": {},
     "output_type": "execute_result"
    }
   ],
   "source": [
    "linear_layer(x)"
   ]
  },
  {
   "cell_type": "code",
   "execution_count": 222,
   "metadata": {},
   "outputs": [
    {
     "data": {
      "text/plain": [
       "TensorShape([32])"
      ]
     },
     "execution_count": 222,
     "metadata": {},
     "output_type": "execute_result"
    }
   ],
   "source": [
    "linear_layer.b.shape"
   ]
  },
  {
   "cell_type": "code",
   "execution_count": 223,
   "metadata": {},
   "outputs": [
    {
     "data": {
      "text/plain": [
       "[<tf.Variable 'linear_26/Variable:0' shape=(2, 32) dtype=float32, numpy=\n",
       " array([[ 0.04482418, -0.02771587, -0.11459928,  0.05355045, -0.02450072,\n",
       "         -0.01424528, -0.02398049,  0.0255205 ,  0.06786032, -0.01466976,\n",
       "         -0.0593608 ,  0.0268549 ,  0.03068112,  0.03421604,  0.04313503,\n",
       "         -0.03474509,  0.0448315 , -0.00324809, -0.01246532, -0.05576671,\n",
       "          0.02340184, -0.06299185, -0.08335876, -0.05729913,  0.00662975,\n",
       "          0.01059563,  0.04967117, -0.02316779,  0.03400309, -0.03084098,\n",
       "          0.00682538, -0.04115415],\n",
       "        [ 0.00087918, -0.09631148, -0.04355963, -0.04319327, -0.09955614,\n",
       "          0.04488033, -0.08509871, -0.01114148, -0.01861131, -0.02628305,\n",
       "         -0.04868842, -0.03655138,  0.03252048,  0.10645318, -0.02713592,\n",
       "          0.03681993,  0.06474116,  0.01247919, -0.05335261,  0.02801422,\n",
       "         -0.06748947, -0.06951114,  0.00097534,  0.06097776,  0.0448926 ,\n",
       "         -0.01646326, -0.00903815,  0.07611486, -0.00807113,  0.04210798,\n",
       "         -0.06941053, -0.01302034]], dtype=float32)>,\n",
       " <tf.Variable 'linear_26/Variable:0' shape=(32,) dtype=float32, numpy=\n",
       " array([ 0.03830756, -0.07393357,  0.06549137, -0.08913279,  0.06381141,\n",
       "        -0.01827156, -0.008205  ,  0.09406477, -0.01892192,  0.02719428,\n",
       "        -0.04889761,  0.00486315, -0.05184287,  0.04407172, -0.02770208,\n",
       "        -0.11650749, -0.06503216,  0.12255194,  0.07082982,  0.02140375,\n",
       "        -0.00931522, -0.03601468,  0.11848149, -0.03222991,  0.01355583,\n",
       "         0.04915128,  0.00733707, -0.01833144,  0.03045162, -0.03617564,\n",
       "        -0.01027326, -0.07901187], dtype=float32)>]"
      ]
     },
     "execution_count": 223,
     "metadata": {},
     "output_type": "execute_result"
    }
   ],
   "source": [
    "linear_layer.weights"
   ]
  },
  {
   "cell_type": "markdown",
   "metadata": {},
   "source": [
    "faster way to add weights:\n",
    "\n",
    "self.w = self.add_weight(shape=(input_dim, units),\n",
    "                             initializer='random_normal',\n",
    "                             trainable=True)"
   ]
  },
  {
   "cell_type": "markdown",
   "metadata": {},
   "source": [
    "### 2 d classification problem"
   ]
  },
  {
   "cell_type": "code",
   "execution_count": 224,
   "metadata": {},
   "outputs": [],
   "source": [
    "import pandas as pd\n",
    "from sklearn.datasets import make_classification\n",
    "import seaborn as sns\n",
    "from sklearn.model_selection import train_test_split"
   ]
  },
  {
   "cell_type": "code",
   "execution_count": 225,
   "metadata": {},
   "outputs": [],
   "source": [
    "X,y = make_classification(n_samples=1000, n_features=2, n_redundant=0, n_clusters_per_class=2, random_state=42)"
   ]
  },
  {
   "cell_type": "code",
   "execution_count": 226,
   "metadata": {},
   "outputs": [],
   "source": [
    "X_train, X_test, y_train, y_test = train_test_split(X,y,test_size=0.2, random_state=42)"
   ]
  },
  {
   "cell_type": "code",
   "execution_count": 227,
   "metadata": {},
   "outputs": [],
   "source": [
    "df_train = pd.DataFrame(columns=[\"x1\", \"x2\"], data=X_train)\n",
    "df_train[\"y\"] = y_train"
   ]
  },
  {
   "cell_type": "code",
   "execution_count": 228,
   "metadata": {},
   "outputs": [
    {
     "name": "stderr",
     "output_type": "stream",
     "text": [
      "/home/ec2-user/anaconda3/envs/tf2/lib/python3.7/site-packages/statsmodels/nonparametric/kde.py:487: RuntimeWarning: invalid value encountered in true_divide\n",
      "  binned = fast_linbin(X, a, b, gridsize) / (delta * nobs)\n",
      "/home/ec2-user/anaconda3/envs/tf2/lib/python3.7/site-packages/statsmodels/nonparametric/kdetools.py:34: RuntimeWarning: invalid value encountered in double_scalars\n",
      "  FAC1 = 2*(np.pi*bw/RANGE)**2\n"
     ]
    },
    {
     "data": {
      "text/plain": [
       "<seaborn.axisgrid.PairGrid at 0x7f7504042650>"
      ]
     },
     "execution_count": 228,
     "metadata": {},
     "output_type": "execute_result"
    },
    {
     "data": {
      "image/png": "[encoded data removed]",
      "text/plain": [
       "<Figure size 582.375x540 with 12 Axes>"
      ]
     },
     "metadata": {
      "needs_background": "light"
     },
     "output_type": "display_data"
    }
   ],
   "source": [
    "sns.pairplot(data=df_train, hue=\"y\")"
   ]
  },
  {
   "cell_type": "code",
   "execution_count": 483,
   "metadata": {},
   "outputs": [],
   "source": [
    "class MLPBlock(layers.Layer):\n",
    "    \n",
    "    def __init__(self):\n",
    "        super(MLPBlock, self).__init__()\n",
    "        self.linear_1 = Linear(32)\n",
    "        self.linear_2 = Linear(32)\n",
    "        self.linear_3 = Linear(1)\n",
    "        \n",
    "    def call(self,inputs):\n",
    "        x = self.linear_1(inputs)\n",
    "        x = tf.nn.relu(x)\n",
    "        x = self.linear_2(x)\n",
    "        x = tf.nn.sigmoid(x)\n",
    "        x = self.linear_3(x)\n",
    "        return tf.nn.sigmoid(x)"
   ]
  },
  {
   "cell_type": "code",
   "execution_count": 484,
   "metadata": {},
   "outputs": [],
   "source": [
    "mlp = MLPBlock()"
   ]
  },
  {
   "cell_type": "code",
   "execution_count": 592,
   "metadata": {},
   "outputs": [],
   "source": [
    "model_s = tf.keras.Sequential()\n",
    "model_s.add(layers.Dense(32, input_shape=(None,2,)))\n",
    "model_s.add(Linear(32))\n",
    "model_s.add(layers.Activation(\"sigmoid\"))"
   ]
  },
  {
   "cell_type": "code",
   "execution_count": null,
   "metadata": {},
   "outputs": [],
   "source": []
  },
  {
   "cell_type": "code",
   "execution_count": 593,
   "metadata": {},
   "outputs": [
    {
     "name": "stdout",
     "output_type": "stream",
     "text": [
      "(1000, 2)\n",
      "(800, 1)\n"
     ]
    }
   ],
   "source": [
    "print(X.shape)\n",
    "print(y.shape)"
   ]
  },
  {
   "cell_type": "code",
   "execution_count": 594,
   "metadata": {},
   "outputs": [],
   "source": [
    "y = mlp(X_train)"
   ]
  },
  {
   "cell_type": "code",
   "execution_count": 595,
   "metadata": {},
   "outputs": [
    {
     "data": {
      "text/plain": [
       "[<tf.Variable 'mlp_block_8/linear_38/Variable:0' shape=(2, 32) dtype=float32, numpy=\n",
       " array([[-0.02472652, -0.0104582 , -0.02278747,  0.00866867, -0.0001552 ,\n",
       "         -0.00962497,  0.00551508,  0.01377537, -0.07496725, -0.00011324,\n",
       "          0.03052128, -0.04133154, -0.0473669 ,  0.05599886, -0.00333924,\n",
       "          0.00050808,  0.02086719, -0.03265905,  0.07435736,  0.00470899,\n",
       "         -0.00881629,  0.01511679,  0.00996523, -0.01103058, -0.00998504,\n",
       "         -0.04254804,  0.00249807,  0.00787763,  0.01701091,  0.05417319,\n",
       "         -0.01623551, -0.0146781 ],\n",
       "        [-0.0151879 ,  0.02092172,  0.02010996,  0.02460998,  0.02920251,\n",
       "         -0.01129371,  0.02496402,  0.01662403,  0.05653011,  0.00312499,\n",
       "         -0.00013393, -0.04389574,  0.03426198, -0.04232722,  0.00145523,\n",
       "          0.02070742,  0.00153614, -0.08021291,  0.08168456,  0.00821789,\n",
       "          0.01507923, -0.00691609, -0.00378269, -0.0113843 ,  0.01897322,\n",
       "          0.02685089, -0.00202605, -0.02811114, -0.02368484,  0.03006551,\n",
       "          0.02368516, -0.00799078]], dtype=float32)>,\n",
       " <tf.Variable 'mlp_block_8/linear_38/Variable:0' shape=(32,) dtype=float32, numpy=\n",
       " array([-0.0094042 , -0.09854394, -0.04140012, -0.12947382,  0.00952551,\n",
       "        -0.07280473, -0.14284118,  0.05435048,  0.0812957 , -0.01308045,\n",
       "        -0.13431025, -0.00263187,  0.06467796, -0.04525115, -0.08008441,\n",
       "        -0.08248785,  0.08631746,  0.02650415,  0.02364784, -0.06032352,\n",
       "        -0.06257427, -0.08426419, -0.04369324, -0.09383482, -0.10979724,\n",
       "         0.02011663, -0.03647406, -0.01292438, -0.07874393,  0.03370731,\n",
       "        -0.05455742, -0.10719351], dtype=float32)>,\n",
       " <tf.Variable 'mlp_block_8/linear_39/Variable:0' shape=(32, 32) dtype=float32, numpy=\n",
       " array([[ 1.31940059e-02,  1.79877654e-02, -1.22552752e-01, ...,\n",
       "          1.11166611e-02, -1.60855547e-01,  9.47270468e-02],\n",
       "        [ 6.50797039e-02, -8.80143642e-02, -1.42601575e-03, ...,\n",
       "         -5.17768972e-02,  3.71548608e-02,  4.87101823e-02],\n",
       "        [-8.32675397e-02,  2.07355618e-02, -6.71706647e-02, ...,\n",
       "          3.82277891e-02, -2.38112230e-02,  5.82555272e-02],\n",
       "        ...,\n",
       "        [-3.66305932e-02, -3.49735394e-02,  3.25711556e-02, ...,\n",
       "          3.15377414e-02, -5.66582009e-02, -1.47163868e-04],\n",
       "        [-7.14172423e-02,  6.18007071e-02, -1.04065016e-01, ...,\n",
       "         -1.63898338e-02,  5.17708622e-03, -3.68148610e-02],\n",
       "        [ 1.31629789e-02, -2.12844871e-02,  1.45981424e-02, ...,\n",
       "         -1.00182697e-01,  1.26502458e-02,  6.23191968e-02]], dtype=float32)>,\n",
       " <tf.Variable 'mlp_block_8/linear_39/Variable:0' shape=(32,) dtype=float32, numpy=\n",
       " array([-0.08869131, -0.04490287, -0.10932262, -0.05515284, -0.06105232,\n",
       "         0.04935768, -0.0436504 , -0.08259955, -0.00780886, -0.0781512 ,\n",
       "        -0.04836144, -0.10280014,  0.05385429, -0.01686596, -0.09883054,\n",
       "         0.04205929, -0.02537206, -0.00874957,  0.10263893, -0.07757281,\n",
       "         0.04507466, -0.04377855, -0.02109633,  0.01150345, -0.15969779,\n",
       "         0.03558398,  0.00773469, -0.00601093,  0.05760998,  0.02291297,\n",
       "        -0.02396696, -0.00275291], dtype=float32)>,\n",
       " <tf.Variable 'mlp_block_8/linear_40/Variable:0' shape=(32, 1) dtype=float32, numpy=\n",
       " array([[ 0.03081539],\n",
       "        [-0.06481709],\n",
       "        [-0.00457808],\n",
       "        [ 0.01158503],\n",
       "        [-0.0164785 ],\n",
       "        [-0.04475727],\n",
       "        [-0.01680612],\n",
       "        [ 0.0057095 ],\n",
       "        [ 0.06362543],\n",
       "        [-0.02224052],\n",
       "        [ 0.03641887],\n",
       "        [-0.02109992],\n",
       "        [ 0.04290771],\n",
       "        [ 0.11365364],\n",
       "        [ 0.00792234],\n",
       "        [ 0.03636923],\n",
       "        [-0.04387699],\n",
       "        [-0.02492209],\n",
       "        [ 0.05730312],\n",
       "        [-0.04514993],\n",
       "        [ 0.10853428],\n",
       "        [ 0.04784317],\n",
       "        [-0.04753667],\n",
       "        [ 0.11326903],\n",
       "        [ 0.02780806],\n",
       "        [ 0.03439777],\n",
       "        [-0.10437998],\n",
       "        [-0.07153787],\n",
       "        [-0.03407894],\n",
       "        [-0.03816873],\n",
       "        [ 0.00496149],\n",
       "        [ 0.09486955]], dtype=float32)>,\n",
       " <tf.Variable 'mlp_block_8/linear_40/Variable:0' shape=(1,) dtype=float32, numpy=array([-0.1371881], dtype=float32)>]"
      ]
     },
     "execution_count": 595,
     "metadata": {},
     "output_type": "execute_result"
    }
   ],
   "source": [
    "mlp.weights"
   ]
  },
  {
   "cell_type": "code",
   "execution_count": 596,
   "metadata": {},
   "outputs": [],
   "source": [
    "def loss(y_pred, y_true):\n",
    "    costs = tf.tensordot(y_true, tf.math.log(y_pred), axes=1) + tf.tensordot((1-y_true),tf.math.log(1-y_pred), axes=1)\n",
    "    return costs"
   ]
  },
  {
   "cell_type": "code",
   "execution_count": 597,
   "metadata": {},
   "outputs": [],
   "source": [
    "y_pred = tf.constant([0.9,1,0.8,0.3,0.2], shape=(5,1))\n",
    "y_true = tf.constant([1.0,1.0,1.0,1.0,0.0], shape=(1,5))"
   ]
  },
  {
   "cell_type": "code",
   "execution_count": 598,
   "metadata": {},
   "outputs": [
    {
     "data": {
      "text/plain": [
       "<tf.Tensor: shape=(1, 5), dtype=float32, numpy=array([[1., 1., 1., 1., 0.]], dtype=float32)>"
      ]
     },
     "execution_count": 598,
     "metadata": {},
     "output_type": "execute_result"
    }
   ],
   "source": [
    "y_true"
   ]
  },
  {
   "cell_type": "code",
   "execution_count": 599,
   "metadata": {},
   "outputs": [
    {
     "data": {
      "text/plain": [
       "<tf.Tensor: shape=(5, 1), dtype=float32, numpy=\n",
       "array([[0.9],\n",
       "       [1. ],\n",
       "       [0.8],\n",
       "       [0.3],\n",
       "       [0.2]], dtype=float32)>"
      ]
     },
     "execution_count": 599,
     "metadata": {},
     "output_type": "execute_result"
    }
   ],
   "source": [
    "y_pred"
   ]
  },
  {
   "cell_type": "code",
   "execution_count": 600,
   "metadata": {},
   "outputs": [
    {
     "data": {
      "text/plain": [
       "<tf.Tensor: shape=(1, 1), dtype=float32, numpy=array([[3.]], dtype=float32)>"
      ]
     },
     "execution_count": 600,
     "metadata": {},
     "output_type": "execute_result"
    }
   ],
   "source": [
    "tf.matmul(y_true,y_pred)"
   ]
  },
  {
   "cell_type": "code",
   "execution_count": 601,
   "metadata": {},
   "outputs": [
    {
     "data": {
      "text/plain": [
       "<tf.Tensor: shape=(5, 1), dtype=float32, numpy=\n",
       "array([[0.10000002],\n",
       "       [0.        ],\n",
       "       [0.19999999],\n",
       "       [0.7       ],\n",
       "       [0.8       ]], dtype=float32)>"
      ]
     },
     "execution_count": 601,
     "metadata": {},
     "output_type": "execute_result"
    }
   ],
   "source": [
    "1-y_pred"
   ]
  },
  {
   "cell_type": "code",
   "execution_count": 602,
   "metadata": {},
   "outputs": [
    {
     "data": {
      "text/plain": [
       "<tf.Tensor: shape=(1, 1), dtype=float32, numpy=array([[nan]], dtype=float32)>"
      ]
     },
     "execution_count": 602,
     "metadata": {},
     "output_type": "execute_result"
    }
   ],
   "source": [
    "loss(y_pred, y_true)"
   ]
  },
  {
   "cell_type": "code",
   "execution_count": 603,
   "metadata": {},
   "outputs": [],
   "source": [
    "def keras_loss(y_pred, y_true):\n",
    "    return tf.reduce_mean(tf.keras.metrics.binary_crossentropy(y_true, y_pred))"
   ]
  },
  {
   "cell_type": "code",
   "execution_count": 604,
   "metadata": {},
   "outputs": [
    {
     "data": {
      "text/plain": [
       "<tf.Tensor: shape=(), dtype=float32, numpy=1.2957094>"
      ]
     },
     "execution_count": 604,
     "metadata": {},
     "output_type": "execute_result"
    }
   ],
   "source": [
    "keras_loss(y_pred, y_true)"
   ]
  },
  {
   "cell_type": "code",
   "execution_count": 605,
   "metadata": {},
   "outputs": [],
   "source": [
    "def train_step(X_train_batch, y_train_batch, model, optimizer):\n",
    "    with tf.GradientTape() as tape:\n",
    "        \n",
    "        # preds\n",
    "        y_pred = model(X_train_batch)\n",
    "        \n",
    "        # loss\n",
    "        loss = keras_loss(y_pred, y_train_batch)\n",
    "        \n",
    "        #loss = tf.keras.metrics.binary_crossentropy(y_train_batch, y_pred)\n",
    "        \n",
    "        # print\n",
    "        print(loss)\n",
    "        \n",
    "        #acc = tf.keras.metrics.binary_accuracy(y_pred, y_train_batch)\n",
    "        #print(acc)\n",
    "        \n",
    "        # grads\n",
    "    grads = tape.gradient(loss, model.trainable_weights)\n",
    "        #print(grads)\n",
    "    #dW, db = tape.gradient(loss, [model.weights[0], model.weights[1]])\n",
    "        \n",
    "        # updates\n",
    "    optimizer.apply_gradients(zip(grads, model.trainable_weights))\n",
    "    return model"
   ]
  },
  {
   "cell_type": "code",
   "execution_count": 606,
   "metadata": {},
   "outputs": [
    {
     "data": {
      "text/plain": [
       "<tf.Variable 'mlp_block_8/linear_38/Variable:0' shape=(2, 32) dtype=float32, numpy=\n",
       "array([[-0.02472652, -0.0104582 , -0.02278747,  0.00866867, -0.0001552 ,\n",
       "        -0.00962497,  0.00551508,  0.01377537, -0.07496725, -0.00011324,\n",
       "         0.03052128, -0.04133154, -0.0473669 ,  0.05599886, -0.00333924,\n",
       "         0.00050808,  0.02086719, -0.03265905,  0.07435736,  0.00470899,\n",
       "        -0.00881629,  0.01511679,  0.00996523, -0.01103058, -0.00998504,\n",
       "        -0.04254804,  0.00249807,  0.00787763,  0.01701091,  0.05417319,\n",
       "        -0.01623551, -0.0146781 ],\n",
       "       [-0.0151879 ,  0.02092172,  0.02010996,  0.02460998,  0.02920251,\n",
       "        -0.01129371,  0.02496402,  0.01662403,  0.05653011,  0.00312499,\n",
       "        -0.00013393, -0.04389574,  0.03426198, -0.04232722,  0.00145523,\n",
       "         0.02070742,  0.00153614, -0.08021291,  0.08168456,  0.00821789,\n",
       "         0.01507923, -0.00691609, -0.00378269, -0.0113843 ,  0.01897322,\n",
       "         0.02685089, -0.00202605, -0.02811114, -0.02368484,  0.03006551,\n",
       "         0.02368516, -0.00799078]], dtype=float32)>"
      ]
     },
     "execution_count": 606,
     "metadata": {},
     "output_type": "execute_result"
    }
   ],
   "source": [
    "mlp.weights[0]"
   ]
  },
  {
   "cell_type": "code",
   "execution_count": 607,
   "metadata": {},
   "outputs": [],
   "source": [
    "#model.weights[1]"
   ]
  },
  {
   "cell_type": "code",
   "execution_count": 608,
   "metadata": {},
   "outputs": [],
   "source": [
    "model = mlp\n",
    "optimizer = tf.keras.optimizers.RMSprop(learning_rate=0.01)"
   ]
  },
  {
   "cell_type": "code",
   "execution_count": 609,
   "metadata": {},
   "outputs": [
    {
     "data": {
      "text/plain": [
       "(800, 2)"
      ]
     },
     "execution_count": 609,
     "metadata": {},
     "output_type": "execute_result"
    }
   ],
   "source": [
    "X_train.shape"
   ]
  },
  {
   "cell_type": "code",
   "execution_count": 610,
   "metadata": {},
   "outputs": [
    {
     "name": "stdout",
     "output_type": "stream",
     "text": [
      "tf.Tensor(0.6932621, shape=(), dtype=float32)\n"
     ]
    },
    {
     "data": {
      "text/plain": [
       "<__main__.MLPBlock at 0x7f7504cf9350>"
      ]
     },
     "execution_count": 610,
     "metadata": {},
     "output_type": "execute_result"
    }
   ],
   "source": [
    "train_step(X_train, y_train, model, optimizer)"
   ]
  },
  {
   "cell_type": "code",
   "execution_count": 611,
   "metadata": {},
   "outputs": [],
   "source": [
    "#X_train\n",
    "#y_train"
   ]
  },
  {
   "cell_type": "code",
   "execution_count": 614,
   "metadata": {},
   "outputs": [],
   "source": [
    "def train(X_train, y_train, model, optimizer, epochs=10, batch_size=32):\n",
    "    \n",
    "    len_x = len(y_train)\n",
    "    splits = np.ceil(len_x/batch_size)\n",
    "    \n",
    "    X_train_batches = np.array_split(X_train, splits)\n",
    "    y_train_batches = np.array_split(y_train, splits)\n",
    "    \n",
    "    for i in range(epochs):\n",
    "        for X_batch, y_batch in zip(X_train_batches, y_train_batches):\n",
    "            print(X_train.shape)\n",
    "            print(y_train.shape)\n",
    "            model = train_step(X_batch, y_batch, model, optimizer)\n",
    "    return model"
   ]
  },
  {
   "cell_type": "code",
   "execution_count": 617,
   "metadata": {},
   "outputs": [
    {
     "name": "stdout",
     "output_type": "stream",
     "text": [
      "(800, 2)\n",
      "(800,)\n",
      "tf.Tensor(0.7254795, shape=(), dtype=float32)\n",
      "(800, 2)\n",
      "(800,)\n",
      "tf.Tensor(0.69323057, shape=(), dtype=float32)\n",
      "(800, 2)\n",
      "(800,)\n",
      "tf.Tensor(0.6931223, shape=(), dtype=float32)\n",
      "(800, 2)\n",
      "(800,)\n",
      "tf.Tensor(0.6931192, shape=(), dtype=float32)\n",
      "(800, 2)\n",
      "(800,)\n",
      "tf.Tensor(0.6931189, shape=(), dtype=float32)\n",
      "(800, 2)\n",
      "(800,)\n",
      "tf.Tensor(0.6931189, shape=(), dtype=float32)\n",
      "(800, 2)\n",
      "(800,)\n",
      "tf.Tensor(0.6931189, shape=(), dtype=float32)\n",
      "(800, 2)\n",
      "(800,)\n",
      "tf.Tensor(0.6931189, shape=(), dtype=float32)\n",
      "(800, 2)\n",
      "(800,)\n",
      "tf.Tensor(0.6931189, shape=(), dtype=float32)\n",
      "(800, 2)\n",
      "(800,)\n",
      "tf.Tensor(0.693119, shape=(), dtype=float32)\n"
     ]
    },
    {
     "data": {
      "text/plain": [
       "<__main__.MLPBlock at 0x7f7504cf9350>"
      ]
     },
     "execution_count": 617,
     "metadata": {},
     "output_type": "execute_result"
    }
   ],
   "source": [
    "train(X_train, y_train, model, optimizer, batch_size=len(X_train))"
   ]
  },
  {
   "cell_type": "code",
   "execution_count": 616,
   "metadata": {
    "collapsed": true,
    "jupyter": {
     "outputs_hidden": true
    }
   },
   "outputs": [
    {
     "data": {
      "text/plain": [
       "<tf.Tensor: shape=(800, 1), dtype=float32, numpy=\n",
       "array([[0.62870216],\n",
       "       [0.62869763],\n",
       "       [0.6287338 ],\n",
       "       [0.62865674],\n",
       "       [0.62882733],\n",
       "       [0.6286902 ],\n",
       "       [0.6288933 ],\n",
       "       [0.6283365 ],\n",
       "       [0.62885016],\n",
       "       [0.62848824],\n",
       "       [0.6289295 ],\n",
       "       [0.6287906 ],\n",
       "       [0.6288498 ],\n",
       "       [0.6287067 ],\n",
       "       [0.62893426],\n",
       "       [0.62870383],\n",
       "       [0.6287557 ],\n",
       "       [0.62881905],\n",
       "       [0.62875575],\n",
       "       [0.6286288 ],\n",
       "       [0.6289298 ],\n",
       "       [0.6288412 ],\n",
       "       [0.6289048 ],\n",
       "       [0.6288414 ],\n",
       "       [0.62889004],\n",
       "       [0.6287038 ],\n",
       "       [0.6285604 ],\n",
       "       [0.6283683 ],\n",
       "       [0.6282066 ],\n",
       "       [0.62885034],\n",
       "       [0.6288209 ],\n",
       "       [0.6288506 ],\n",
       "       [0.6286858 ],\n",
       "       [0.6288873 ],\n",
       "       [0.628792  ],\n",
       "       [0.6288668 ],\n",
       "       [0.6287209 ],\n",
       "       [0.62830293],\n",
       "       [0.628892  ],\n",
       "       [0.62875634],\n",
       "       [0.6290246 ],\n",
       "       [0.62890136],\n",
       "       [0.62889314],\n",
       "       [0.6288343 ],\n",
       "       [0.6287568 ],\n",
       "       [0.6284272 ],\n",
       "       [0.6288533 ],\n",
       "       [0.62868404],\n",
       "       [0.6285732 ],\n",
       "       [0.6288907 ],\n",
       "       [0.6287177 ],\n",
       "       [0.62857586],\n",
       "       [0.62866294],\n",
       "       [0.628703  ],\n",
       "       [0.62883055],\n",
       "       [0.62858427],\n",
       "       [0.6287283 ],\n",
       "       [0.6287017 ],\n",
       "       [0.6287801 ],\n",
       "       [0.62825894],\n",
       "       [0.62881196],\n",
       "       [0.6286154 ],\n",
       "       [0.62873745],\n",
       "       [0.6286891 ],\n",
       "       [0.6288617 ],\n",
       "       [0.62887996],\n",
       "       [0.6288508 ],\n",
       "       [0.6286615 ],\n",
       "       [0.62891895],\n",
       "       [0.6287797 ],\n",
       "       [0.6288115 ],\n",
       "       [0.62881577],\n",
       "       [0.62874   ],\n",
       "       [0.6284721 ],\n",
       "       [0.62878907],\n",
       "       [0.62872314],\n",
       "       [0.628759  ],\n",
       "       [0.6285401 ],\n",
       "       [0.6287451 ],\n",
       "       [0.6286488 ],\n",
       "       [0.62888265],\n",
       "       [0.6289052 ],\n",
       "       [0.6287068 ],\n",
       "       [0.62862676],\n",
       "       [0.6288555 ],\n",
       "       [0.6287045 ],\n",
       "       [0.6287291 ],\n",
       "       [0.62890226],\n",
       "       [0.6287471 ],\n",
       "       [0.62878746],\n",
       "       [0.6289018 ],\n",
       "       [0.6288415 ],\n",
       "       [0.6289539 ],\n",
       "       [0.62883705],\n",
       "       [0.62866473],\n",
       "       [0.6288989 ],\n",
       "       [0.6286553 ],\n",
       "       [0.62862754],\n",
       "       [0.628801  ],\n",
       "       [0.6286844 ],\n",
       "       [0.6287744 ],\n",
       "       [0.6288628 ],\n",
       "       [0.6288459 ],\n",
       "       [0.6289939 ],\n",
       "       [0.6287435 ],\n",
       "       [0.62857944],\n",
       "       [0.62882906],\n",
       "       [0.6287109 ],\n",
       "       [0.62887335],\n",
       "       [0.62858415],\n",
       "       [0.6287933 ],\n",
       "       [0.628526  ],\n",
       "       [0.6287645 ],\n",
       "       [0.62895906],\n",
       "       [0.6289284 ],\n",
       "       [0.6289411 ],\n",
       "       [0.62886024],\n",
       "       [0.62878525],\n",
       "       [0.62888473],\n",
       "       [0.62869364],\n",
       "       [0.62886107],\n",
       "       [0.6288136 ],\n",
       "       [0.62870705],\n",
       "       [0.6288847 ],\n",
       "       [0.62853277],\n",
       "       [0.62871695],\n",
       "       [0.62889594],\n",
       "       [0.6288965 ],\n",
       "       [0.6288521 ],\n",
       "       [0.628893  ],\n",
       "       [0.6286089 ],\n",
       "       [0.628866  ],\n",
       "       [0.6286076 ],\n",
       "       [0.6286004 ],\n",
       "       [0.628817  ],\n",
       "       [0.6288213 ],\n",
       "       [0.62885195],\n",
       "       [0.62888306],\n",
       "       [0.62890744],\n",
       "       [0.62871736],\n",
       "       [0.6285173 ],\n",
       "       [0.62891513],\n",
       "       [0.62889016],\n",
       "       [0.6287581 ],\n",
       "       [0.62891775],\n",
       "       [0.62848145],\n",
       "       [0.6284471 ],\n",
       "       [0.6287698 ],\n",
       "       [0.62874943],\n",
       "       [0.6288264 ],\n",
       "       [0.6288948 ],\n",
       "       [0.6289641 ],\n",
       "       [0.6287866 ],\n",
       "       [0.62872154],\n",
       "       [0.6290014 ],\n",
       "       [0.62885976],\n",
       "       [0.62882495],\n",
       "       [0.62862647],\n",
       "       [0.6287933 ],\n",
       "       [0.6289022 ],\n",
       "       [0.6289269 ],\n",
       "       [0.62860817],\n",
       "       [0.62881786],\n",
       "       [0.628845  ],\n",
       "       [0.6288026 ],\n",
       "       [0.6286761 ],\n",
       "       [0.6285726 ],\n",
       "       [0.6288866 ],\n",
       "       [0.62890625],\n",
       "       [0.6288335 ],\n",
       "       [0.6288928 ],\n",
       "       [0.6289226 ],\n",
       "       [0.6288536 ],\n",
       "       [0.62893915],\n",
       "       [0.6288204 ],\n",
       "       [0.6287546 ],\n",
       "       [0.62892115],\n",
       "       [0.6289307 ],\n",
       "       [0.6284966 ],\n",
       "       [0.62883353],\n",
       "       [0.628668  ],\n",
       "       [0.6289018 ],\n",
       "       [0.62869996],\n",
       "       [0.6286179 ],\n",
       "       [0.62893295],\n",
       "       [0.62881505],\n",
       "       [0.6286146 ],\n",
       "       [0.62889934],\n",
       "       [0.6287555 ],\n",
       "       [0.6288656 ],\n",
       "       [0.6289043 ],\n",
       "       [0.6287074 ],\n",
       "       [0.6288391 ],\n",
       "       [0.6289048 ],\n",
       "       [0.6289022 ],\n",
       "       [0.6288625 ],\n",
       "       [0.62871116],\n",
       "       [0.6285521 ],\n",
       "       [0.62877744],\n",
       "       [0.6287312 ],\n",
       "       [0.62810844],\n",
       "       [0.6289044 ],\n",
       "       [0.6287749 ],\n",
       "       [0.62883955],\n",
       "       [0.6288267 ],\n",
       "       [0.62886417],\n",
       "       [0.6287118 ],\n",
       "       [0.6288497 ],\n",
       "       [0.6289018 ],\n",
       "       [0.6289247 ],\n",
       "       [0.62832016],\n",
       "       [0.628776  ],\n",
       "       [0.6286259 ],\n",
       "       [0.6287992 ],\n",
       "       [0.62859446],\n",
       "       [0.62875223],\n",
       "       [0.6289103 ],\n",
       "       [0.6287339 ],\n",
       "       [0.6288084 ],\n",
       "       [0.6289023 ],\n",
       "       [0.6288157 ],\n",
       "       [0.6288548 ],\n",
       "       [0.62882894],\n",
       "       [0.6288184 ],\n",
       "       [0.62893707],\n",
       "       [0.6288671 ],\n",
       "       [0.62894684],\n",
       "       [0.62877023],\n",
       "       [0.62881607],\n",
       "       [0.6288097 ],\n",
       "       [0.6287319 ],\n",
       "       [0.6287503 ],\n",
       "       [0.62852156],\n",
       "       [0.62892056],\n",
       "       [0.6286865 ],\n",
       "       [0.6288891 ],\n",
       "       [0.62855333],\n",
       "       [0.6287554 ],\n",
       "       [0.62880427],\n",
       "       [0.6287715 ],\n",
       "       [0.62890565],\n",
       "       [0.6288099 ],\n",
       "       [0.62885606],\n",
       "       [0.6287954 ],\n",
       "       [0.6285025 ],\n",
       "       [0.62875384],\n",
       "       [0.62883335],\n",
       "       [0.6283273 ],\n",
       "       [0.6285097 ],\n",
       "       [0.628557  ],\n",
       "       [0.6284938 ],\n",
       "       [0.62887764],\n",
       "       [0.62866324],\n",
       "       [0.6289066 ],\n",
       "       [0.62891734],\n",
       "       [0.62883466],\n",
       "       [0.6284034 ],\n",
       "       [0.62889975],\n",
       "       [0.6287627 ],\n",
       "       [0.6289089 ],\n",
       "       [0.6289087 ],\n",
       "       [0.6287374 ],\n",
       "       [0.62877715],\n",
       "       [0.6289052 ],\n",
       "       [0.62859   ],\n",
       "       [0.6288928 ],\n",
       "       [0.6289071 ],\n",
       "       [0.62879515],\n",
       "       [0.6286907 ],\n",
       "       [0.6288896 ],\n",
       "       [0.62890387],\n",
       "       [0.6286149 ],\n",
       "       [0.6287353 ],\n",
       "       [0.6287967 ],\n",
       "       [0.6288979 ],\n",
       "       [0.6287251 ],\n",
       "       [0.62890625],\n",
       "       [0.6286326 ],\n",
       "       [0.6288904 ],\n",
       "       [0.6286664 ],\n",
       "       [0.6288743 ],\n",
       "       [0.62886   ],\n",
       "       [0.62863386],\n",
       "       [0.6287609 ],\n",
       "       [0.6284826 ],\n",
       "       [0.62890106],\n",
       "       [0.6289601 ],\n",
       "       [0.62881136],\n",
       "       [0.62829465],\n",
       "       [0.62890494],\n",
       "       [0.6287042 ],\n",
       "       [0.6288415 ],\n",
       "       [0.62865853],\n",
       "       [0.62884027],\n",
       "       [0.6287288 ],\n",
       "       [0.6288157 ],\n",
       "       [0.6285148 ],\n",
       "       [0.62880355],\n",
       "       [0.62854654],\n",
       "       [0.6288959 ],\n",
       "       [0.62871456],\n",
       "       [0.62879723],\n",
       "       [0.6289235 ],\n",
       "       [0.62891644],\n",
       "       [0.62858737],\n",
       "       [0.6289376 ],\n",
       "       [0.6287938 ],\n",
       "       [0.6287611 ],\n",
       "       [0.62869704],\n",
       "       [0.6287762 ],\n",
       "       [0.62888765],\n",
       "       [0.62839675],\n",
       "       [0.62892616],\n",
       "       [0.6286638 ],\n",
       "       [0.62864304],\n",
       "       [0.6284178 ],\n",
       "       [0.6289181 ],\n",
       "       [0.6284888 ],\n",
       "       [0.6287868 ],\n",
       "       [0.62867635],\n",
       "       [0.62839085],\n",
       "       [0.62852246],\n",
       "       [0.6281113 ],\n",
       "       [0.6286741 ],\n",
       "       [0.6288197 ],\n",
       "       [0.62872463],\n",
       "       [0.6287913 ],\n",
       "       [0.6288721 ],\n",
       "       [0.6290279 ],\n",
       "       [0.6288995 ],\n",
       "       [0.6287858 ],\n",
       "       [0.6288716 ],\n",
       "       [0.6287716 ],\n",
       "       [0.6284432 ],\n",
       "       [0.62882847],\n",
       "       [0.6284558 ],\n",
       "       [0.62889063],\n",
       "       [0.62893957],\n",
       "       [0.6288487 ],\n",
       "       [0.62888294],\n",
       "       [0.62872684],\n",
       "       [0.62875813],\n",
       "       [0.6288225 ],\n",
       "       [0.6288853 ],\n",
       "       [0.6288363 ],\n",
       "       [0.6287551 ],\n",
       "       [0.6288482 ],\n",
       "       [0.6288894 ],\n",
       "       [0.6284553 ],\n",
       "       [0.6287702 ],\n",
       "       [0.6289024 ],\n",
       "       [0.62827826],\n",
       "       [0.62909037],\n",
       "       [0.62824893],\n",
       "       [0.62899214],\n",
       "       [0.6289014 ],\n",
       "       [0.62789255],\n",
       "       [0.6285997 ],\n",
       "       [0.62878096],\n",
       "       [0.62852824],\n",
       "       [0.6289028 ],\n",
       "       [0.6287982 ],\n",
       "       [0.62891275],\n",
       "       [0.6287953 ],\n",
       "       [0.6285015 ],\n",
       "       [0.6288998 ],\n",
       "       [0.6287947 ],\n",
       "       [0.62893516],\n",
       "       [0.6288214 ],\n",
       "       [0.62886894],\n",
       "       [0.62887037],\n",
       "       [0.62851137],\n",
       "       [0.6287817 ],\n",
       "       [0.6287781 ],\n",
       "       [0.6287633 ],\n",
       "       [0.6286049 ],\n",
       "       [0.6286653 ],\n",
       "       [0.6287774 ],\n",
       "       [0.6288186 ],\n",
       "       [0.6288077 ],\n",
       "       [0.62877196],\n",
       "       [0.62885284],\n",
       "       [0.62872875],\n",
       "       [0.62863564],\n",
       "       [0.62877375],\n",
       "       [0.6289323 ],\n",
       "       [0.6288035 ],\n",
       "       [0.6288411 ],\n",
       "       [0.62885505],\n",
       "       [0.6286982 ],\n",
       "       [0.6289142 ],\n",
       "       [0.62884545],\n",
       "       [0.6284873 ],\n",
       "       [0.6287119 ],\n",
       "       [0.62859654],\n",
       "       [0.62891126],\n",
       "       [0.6287691 ],\n",
       "       [0.62849057],\n",
       "       [0.62879896],\n",
       "       [0.62863696],\n",
       "       [0.62896746],\n",
       "       [0.6282908 ],\n",
       "       [0.6285256 ],\n",
       "       [0.62882084],\n",
       "       [0.62889683],\n",
       "       [0.6287879 ],\n",
       "       [0.6286473 ],\n",
       "       [0.6288482 ],\n",
       "       [0.62889004],\n",
       "       [0.6284601 ],\n",
       "       [0.6288243 ],\n",
       "       [0.6288909 ],\n",
       "       [0.6289055 ],\n",
       "       [0.6287966 ],\n",
       "       [0.62887853],\n",
       "       [0.6282088 ],\n",
       "       [0.62877536],\n",
       "       [0.6289634 ],\n",
       "       [0.62876046],\n",
       "       [0.62876153],\n",
       "       [0.6287648 ],\n",
       "       [0.62858826],\n",
       "       [0.62880784],\n",
       "       [0.62885267],\n",
       "       [0.6288118 ],\n",
       "       [0.62881815],\n",
       "       [0.628706  ],\n",
       "       [0.6285326 ],\n",
       "       [0.62874115],\n",
       "       [0.6288583 ],\n",
       "       [0.6285501 ],\n",
       "       [0.62896717],\n",
       "       [0.6288391 ],\n",
       "       [0.62889284],\n",
       "       [0.6287601 ],\n",
       "       [0.62868196],\n",
       "       [0.62893313],\n",
       "       [0.628808  ],\n",
       "       [0.62897676],\n",
       "       [0.62889975],\n",
       "       [0.62877816],\n",
       "       [0.6286125 ],\n",
       "       [0.62877446],\n",
       "       [0.6288125 ],\n",
       "       [0.62880874],\n",
       "       [0.6286766 ],\n",
       "       [0.6288361 ],\n",
       "       [0.628744  ],\n",
       "       [0.6284268 ],\n",
       "       [0.6288495 ],\n",
       "       [0.62880105],\n",
       "       [0.62884516],\n",
       "       [0.628817  ],\n",
       "       [0.6288283 ],\n",
       "       [0.62847584],\n",
       "       [0.6287275 ],\n",
       "       [0.62855995],\n",
       "       [0.6287798 ],\n",
       "       [0.62897336],\n",
       "       [0.6284319 ],\n",
       "       [0.6289965 ],\n",
       "       [0.62899226],\n",
       "       [0.62890756],\n",
       "       [0.6286038 ],\n",
       "       [0.6288756 ],\n",
       "       [0.6288855 ],\n",
       "       [0.62876344],\n",
       "       [0.6288375 ],\n",
       "       [0.62888914],\n",
       "       [0.6288233 ],\n",
       "       [0.6288179 ],\n",
       "       [0.6288844 ],\n",
       "       [0.62864757],\n",
       "       [0.62866426],\n",
       "       [0.62883353],\n",
       "       [0.6286419 ],\n",
       "       [0.62880355],\n",
       "       [0.62886685],\n",
       "       [0.6289034 ],\n",
       "       [0.6288094 ],\n",
       "       [0.62866145],\n",
       "       [0.62872475],\n",
       "       [0.6287993 ],\n",
       "       [0.62890404],\n",
       "       [0.6284447 ],\n",
       "       [0.62875646],\n",
       "       [0.62883645],\n",
       "       [0.62883955],\n",
       "       [0.6287287 ],\n",
       "       [0.6285382 ],\n",
       "       [0.6288802 ],\n",
       "       [0.6284777 ],\n",
       "       [0.6288215 ],\n",
       "       [0.62887275],\n",
       "       [0.62891114],\n",
       "       [0.62875044],\n",
       "       [0.6286654 ],\n",
       "       [0.62882245],\n",
       "       [0.6287554 ],\n",
       "       [0.6287664 ],\n",
       "       [0.6282952 ],\n",
       "       [0.62887955],\n",
       "       [0.6288942 ],\n",
       "       [0.62847334],\n",
       "       [0.6287612 ],\n",
       "       [0.6288473 ],\n",
       "       [0.62864655],\n",
       "       [0.6287481 ],\n",
       "       [0.6287225 ],\n",
       "       [0.6288267 ],\n",
       "       [0.6283444 ],\n",
       "       [0.6288917 ],\n",
       "       [0.62881166],\n",
       "       [0.6287907 ],\n",
       "       [0.62883794],\n",
       "       [0.62887585],\n",
       "       [0.6285926 ],\n",
       "       [0.6288162 ],\n",
       "       [0.6287484 ],\n",
       "       [0.6287474 ],\n",
       "       [0.62859416],\n",
       "       [0.6287991 ],\n",
       "       [0.62810075],\n",
       "       [0.6287447 ],\n",
       "       [0.6287445 ],\n",
       "       [0.6287812 ],\n",
       "       [0.6288933 ],\n",
       "       [0.6287015 ],\n",
       "       [0.62839335],\n",
       "       [0.6287635 ],\n",
       "       [0.6288799 ],\n",
       "       [0.62880147],\n",
       "       [0.62889755],\n",
       "       [0.6288064 ],\n",
       "       [0.6283815 ],\n",
       "       [0.6288248 ],\n",
       "       [0.628612  ],\n",
       "       [0.628739  ],\n",
       "       [0.6288096 ],\n",
       "       [0.62893796],\n",
       "       [0.6284378 ],\n",
       "       [0.6287799 ],\n",
       "       [0.62882924],\n",
       "       [0.62885976],\n",
       "       [0.6288669 ],\n",
       "       [0.6289136 ],\n",
       "       [0.6286857 ],\n",
       "       [0.6289526 ],\n",
       "       [0.6287967 ],\n",
       "       [0.62882966],\n",
       "       [0.62856466],\n",
       "       [0.62848926],\n",
       "       [0.6282469 ],\n",
       "       [0.6288729 ],\n",
       "       [0.6288799 ],\n",
       "       [0.62860096],\n",
       "       [0.62887967],\n",
       "       [0.6283659 ],\n",
       "       [0.6288986 ],\n",
       "       [0.6285054 ],\n",
       "       [0.62869585],\n",
       "       [0.6288936 ],\n",
       "       [0.62868285],\n",
       "       [0.6288908 ],\n",
       "       [0.6288389 ],\n",
       "       [0.62880737],\n",
       "       [0.6283779 ],\n",
       "       [0.6288939 ],\n",
       "       [0.62890285],\n",
       "       [0.628965  ],\n",
       "       [0.62867093],\n",
       "       [0.6288639 ],\n",
       "       [0.62879574],\n",
       "       [0.6286167 ],\n",
       "       [0.6288784 ],\n",
       "       [0.62805593],\n",
       "       [0.62871116],\n",
       "       [0.62871176],\n",
       "       [0.6288998 ],\n",
       "       [0.6286929 ],\n",
       "       [0.62889993],\n",
       "       [0.6288548 ],\n",
       "       [0.62889427],\n",
       "       [0.6286714 ],\n",
       "       [0.6287803 ],\n",
       "       [0.6285451 ],\n",
       "       [0.62857926],\n",
       "       [0.6285763 ],\n",
       "       [0.62888175],\n",
       "       [0.6288605 ],\n",
       "       [0.6288358 ],\n",
       "       [0.62862337],\n",
       "       [0.62857014],\n",
       "       [0.6288625 ],\n",
       "       [0.6288241 ],\n",
       "       [0.6288156 ],\n",
       "       [0.6288948 ],\n",
       "       [0.6284662 ],\n",
       "       [0.6288465 ],\n",
       "       [0.6287363 ],\n",
       "       [0.62882835],\n",
       "       [0.62872493],\n",
       "       [0.62860775],\n",
       "       [0.6289317 ],\n",
       "       [0.6288956 ],\n",
       "       [0.62851846],\n",
       "       [0.62869877],\n",
       "       [0.628902  ],\n",
       "       [0.62887496],\n",
       "       [0.62850946],\n",
       "       [0.62888485],\n",
       "       [0.62872493],\n",
       "       [0.6287231 ],\n",
       "       [0.6287971 ],\n",
       "       [0.6287228 ],\n",
       "       [0.62875414],\n",
       "       [0.6288685 ],\n",
       "       [0.62874794],\n",
       "       [0.6288483 ],\n",
       "       [0.6289349 ],\n",
       "       [0.62879956],\n",
       "       [0.6288789 ],\n",
       "       [0.6288972 ],\n",
       "       [0.62883854],\n",
       "       [0.62886316],\n",
       "       [0.62876153],\n",
       "       [0.62885123],\n",
       "       [0.6287342 ],\n",
       "       [0.62890357],\n",
       "       [0.6287778 ],\n",
       "       [0.6284267 ],\n",
       "       [0.6286881 ],\n",
       "       [0.62863517],\n",
       "       [0.6288914 ],\n",
       "       [0.62864846],\n",
       "       [0.628635  ],\n",
       "       [0.62894195],\n",
       "       [0.62880033],\n",
       "       [0.6289094 ],\n",
       "       [0.62886107],\n",
       "       [0.6288373 ],\n",
       "       [0.6288821 ],\n",
       "       [0.62881005],\n",
       "       [0.62876993],\n",
       "       [0.6287636 ],\n",
       "       [0.6286491 ],\n",
       "       [0.6288743 ],\n",
       "       [0.6288972 ],\n",
       "       [0.62886703],\n",
       "       [0.6288372 ],\n",
       "       [0.62892795],\n",
       "       [0.62874657],\n",
       "       [0.62890875],\n",
       "       [0.6288258 ],\n",
       "       [0.628909  ],\n",
       "       [0.6287848 ],\n",
       "       [0.62886864],\n",
       "       [0.62884355],\n",
       "       [0.628781  ],\n",
       "       [0.6289037 ],\n",
       "       [0.6286211 ],\n",
       "       [0.62873936],\n",
       "       [0.6287736 ],\n",
       "       [0.62881404],\n",
       "       [0.6285578 ],\n",
       "       [0.62885493],\n",
       "       [0.628712  ],\n",
       "       [0.6283788 ],\n",
       "       [0.6288505 ],\n",
       "       [0.62878406],\n",
       "       [0.62872344],\n",
       "       [0.6288003 ],\n",
       "       [0.62883514],\n",
       "       [0.6287076 ],\n",
       "       [0.6290085 ],\n",
       "       [0.6286878 ],\n",
       "       [0.62884814],\n",
       "       [0.6286503 ],\n",
       "       [0.6284618 ],\n",
       "       [0.6289219 ],\n",
       "       [0.62891334],\n",
       "       [0.62888193],\n",
       "       [0.6282456 ],\n",
       "       [0.6286453 ],\n",
       "       [0.6286954 ],\n",
       "       [0.62889737],\n",
       "       [0.6288118 ],\n",
       "       [0.62890255],\n",
       "       [0.628946  ],\n",
       "       [0.62864935],\n",
       "       [0.6288798 ],\n",
       "       [0.6286404 ],\n",
       "       [0.62883794],\n",
       "       [0.62883884],\n",
       "       [0.628758  ],\n",
       "       [0.6288505 ],\n",
       "       [0.6287081 ],\n",
       "       [0.62886345],\n",
       "       [0.6288116 ],\n",
       "       [0.6286427 ],\n",
       "       [0.62902695],\n",
       "       [0.62882644],\n",
       "       [0.6287477 ],\n",
       "       [0.6287992 ],\n",
       "       [0.62887096],\n",
       "       [0.62850696],\n",
       "       [0.628857  ],\n",
       "       [0.62848264],\n",
       "       [0.62874246],\n",
       "       [0.62875944],\n",
       "       [0.6287483 ],\n",
       "       [0.6287879 ],\n",
       "       [0.6288114 ],\n",
       "       [0.62868196],\n",
       "       [0.62890697],\n",
       "       [0.6286201 ],\n",
       "       [0.628744  ],\n",
       "       [0.62860405],\n",
       "       [0.6285937 ],\n",
       "       [0.6285644 ],\n",
       "       [0.6283258 ],\n",
       "       [0.6288704 ],\n",
       "       [0.6288966 ],\n",
       "       [0.6288342 ],\n",
       "       [0.6288742 ],\n",
       "       [0.6287884 ],\n",
       "       [0.6288421 ],\n",
       "       [0.62881655],\n",
       "       [0.6288031 ],\n",
       "       [0.6288601 ],\n",
       "       [0.6288903 ],\n",
       "       [0.6287483 ],\n",
       "       [0.6287859 ],\n",
       "       [0.62875026],\n",
       "       [0.6281463 ],\n",
       "       [0.6287964 ],\n",
       "       [0.6288988 ],\n",
       "       [0.6287315 ],\n",
       "       [0.62880194],\n",
       "       [0.6287571 ],\n",
       "       [0.62884355],\n",
       "       [0.62887126],\n",
       "       [0.6288294 ],\n",
       "       [0.62881404],\n",
       "       [0.62887764],\n",
       "       [0.62830234],\n",
       "       [0.6287408 ],\n",
       "       [0.62890905],\n",
       "       [0.62893033],\n",
       "       [0.62853336],\n",
       "       [0.6288459 ],\n",
       "       [0.62872696],\n",
       "       [0.6288988 ],\n",
       "       [0.6287526 ],\n",
       "       [0.6288369 ],\n",
       "       [0.62872165],\n",
       "       [0.62844336],\n",
       "       [0.6288149 ],\n",
       "       [0.6285969 ],\n",
       "       [0.62876236],\n",
       "       [0.6287964 ],\n",
       "       [0.62861943],\n",
       "       [0.6287688 ],\n",
       "       [0.6289269 ],\n",
       "       [0.62891   ],\n",
       "       [0.6287321 ],\n",
       "       [0.62863004],\n",
       "       [0.62878174],\n",
       "       [0.6287614 ],\n",
       "       [0.6287472 ],\n",
       "       [0.62886107],\n",
       "       [0.6287805 ],\n",
       "       [0.6287431 ],\n",
       "       [0.6287654 ],\n",
       "       [0.6289108 ],\n",
       "       [0.6284963 ],\n",
       "       [0.6289223 ],\n",
       "       [0.62892556],\n",
       "       [0.62880534],\n",
       "       [0.62861764],\n",
       "       [0.62860686],\n",
       "       [0.62885284],\n",
       "       [0.6286718 ],\n",
       "       [0.6287956 ],\n",
       "       [0.6286097 ],\n",
       "       [0.6284689 ],\n",
       "       [0.62861663],\n",
       "       [0.6288311 ],\n",
       "       [0.6287903 ],\n",
       "       [0.6290146 ],\n",
       "       [0.6287447 ],\n",
       "       [0.62888986],\n",
       "       [0.6288154 ],\n",
       "       [0.6287341 ],\n",
       "       [0.62890905],\n",
       "       [0.6287389 ],\n",
       "       [0.6288371 ],\n",
       "       [0.62887335],\n",
       "       [0.6289069 ],\n",
       "       [0.6288571 ]], dtype=float32)>"
      ]
     },
     "execution_count": 616,
     "metadata": {},
     "output_type": "execute_result"
    }
   ],
   "source": [
    "model(X_train)"
   ]
  },
  {
   "cell_type": "code",
   "execution_count": 541,
   "metadata": {},
   "outputs": [
    {
     "data": {
      "text/plain": [
       "[<tf.Variable 'sequential_4/linear_45/Variable:0' shape=(2, 32) dtype=float32, numpy=\n",
       " array([[ 0.05932518, -0.00619727,  0.03511913,  0.09797461, -0.01224003,\n",
       "          0.04996967,  0.02893816, -0.0347166 , -0.02931729,  0.07617451,\n",
       "         -0.03048232, -0.00182985,  0.06257915, -0.01272443,  0.05219099,\n",
       "         -0.0363803 ,  0.05536329,  0.04765309, -0.18815164, -0.09867745,\n",
       "         -0.00798634,  0.03313623, -0.06118202,  0.06284191,  0.02669618,\n",
       "         -0.02299953,  0.03130662,  0.02557356,  0.0455052 , -0.0090315 ,\n",
       "          0.05837093, -0.00635724],\n",
       "        [ 0.03545593,  0.03280493, -0.02996438, -0.01358003,  0.07988076,\n",
       "          0.0426364 , -0.00986507,  0.07690636, -0.03852928,  0.14205033,\n",
       "          0.12586126, -0.01445583, -0.02306865,  0.03117583, -0.00535164,\n",
       "         -0.00638759, -0.06272328, -0.04431826, -0.00378032,  0.05234598,\n",
       "         -0.01970994,  0.08163861, -0.01038834,  0.03506271, -0.10348773,\n",
       "         -0.01405375,  0.08573428,  0.05157866,  0.0442193 ,  0.03503894,\n",
       "          0.02617965,  0.07433295]], dtype=float32)>,\n",
       " <tf.Variable 'sequential_4/linear_45/Variable:0' shape=(32,) dtype=float32, numpy=\n",
       " array([ 4.5896489e-02,  1.3793545e-02,  3.8075477e-02, -8.5873960e-04,\n",
       "        -5.8192551e-02,  9.8151015e-03, -7.6050118e-02,  2.7378261e-02,\n",
       "         7.0736930e-02, -1.4774230e-02,  7.7291146e-02, -5.4128796e-02,\n",
       "         9.1197215e-02,  9.7017400e-02,  8.2991228e-02, -4.0251471e-02,\n",
       "         1.9957822e-02, -2.1449136e-02, -3.5940152e-02,  9.1532891e-04,\n",
       "         9.8962098e-02, -1.0079136e-05, -6.8001352e-02, -1.5376598e-02,\n",
       "        -5.9125192e-02, -4.2169787e-02,  4.4525903e-02, -2.3791192e-03,\n",
       "         2.3178358e-02,  1.7145924e-04,  1.5035748e-02, -4.5731328e-02],\n",
       "       dtype=float32)>]"
      ]
     },
     "execution_count": 541,
     "metadata": {},
     "output_type": "execute_result"
    }
   ],
   "source": [
    "model.weights"
   ]
  },
  {
   "cell_type": "code",
   "execution_count": 382,
   "metadata": {},
   "outputs": [],
   "source": [
    "#model.compile()"
   ]
  },
  {
   "cell_type": "code",
   "execution_count": 387,
   "metadata": {},
   "outputs": [],
   "source": [
    "#m = tf.keras.Model(MLPBlock())"
   ]
  },
  {
   "cell_type": "code",
   "execution_count": 388,
   "metadata": {},
   "outputs": [],
   "source": [
    "#m.compile(loss=\"binary_crossentropy\")"
   ]
  },
  {
   "cell_type": "code",
   "execution_count": 392,
   "metadata": {},
   "outputs": [],
   "source": [
    "#m.fit(X_train, y_train, batch_size=32)"
   ]
  },
  {
   "cell_type": "markdown",
   "metadata": {},
   "source": [
    "### Linear Model"
   ]
  },
  {
   "cell_type": "code",
   "execution_count": 618,
   "metadata": {},
   "outputs": [],
   "source": [
    "class Model(object):\n",
    "  def __init__(self):\n",
    "    # Initialize the weights to `5.0` and the bias to `0.0`\n",
    "    # In practice, these should be initialized to random values (for example, with `tf.random.normal`)\n",
    "    self.w = self.add_weight(shape=(input_shape[-1], self.units),\n",
    "                             initializer='random_normal',\n",
    "                             trainable=True)\n",
    "    self.b = self.add_weight(shape=(1,),\n",
    "                             initializer='random_normal',\n",
    "                             trainable=True)\n",
    "\n",
    "    \n",
    "    self.W = tf.Variable(5.0)\n",
    "    self.b = tf.Variable(0.0)\n",
    "\n",
    "  def __call__(self, x):\n",
    "    return self.W * x + self.b\n",
    "\n",
    "model = Model()"
   ]
  },
  {
   "cell_type": "code",
   "execution_count": 619,
   "metadata": {},
   "outputs": [],
   "source": [
    "def loss(predicted_y, target_y):\n",
    "  return tf.reduce_mean(tf.square(predicted_y - target_y))"
   ]
  },
  {
   "cell_type": "code",
   "execution_count": 620,
   "metadata": {},
   "outputs": [],
   "source": [
    "TRUE_W = 3.0\n",
    "TRUE_b = 2.0\n",
    "NUM_EXAMPLES = 1000\n",
    "\n",
    "inputs  = tf.random.normal(shape=[NUM_EXAMPLES])\n",
    "noise   = tf.random.normal(shape=[NUM_EXAMPLES])\n",
    "outputs = inputs * TRUE_W + TRUE_b + noise"
   ]
  },
  {
   "cell_type": "code",
   "execution_count": 621,
   "metadata": {},
   "outputs": [],
   "source": [
    "def train(model, inputs, outputs, learning_rate):\n",
    "  with tf.GradientTape() as t:\n",
    "    current_loss = loss(model(inputs), outputs)\n",
    "  dW, db = t.gradient(current_loss, [model.W, model.b])\n",
    "  model.W.assign_sub(learning_rate * dW)\n",
    "  model.b.assign_sub(learning_rate * db)"
   ]
  },
  {
   "cell_type": "code",
   "execution_count": 625,
   "metadata": {},
   "outputs": [],
   "source": [
    "optimizer = tf.keras.optimizers.Adam()\n",
    "optimizer."
   ]
  },
  {
   "cell_type": "code",
   "execution_count": 629,
   "metadata": {},
   "outputs": [],
   "source": [
    "def my_train(model, inputs, outputs, optimizer=tf.keras.optimizers.Adam()):\n",
    "    with tf.GradientTape() as t:\n",
    "        current_loss = loss(model(inputs), outputs)\n",
    "    grads = t.gradient(current_loss, model.weights)\n",
    "    optimizer.apply_gradients(zip(grads, model.weights))"
   ]
  },
  {
   "cell_type": "code",
   "execution_count": 630,
   "metadata": {},
   "outputs": [],
   "source": [
    "from matplotlib import pyplot as plt"
   ]
  },
  {
   "cell_type": "code",
   "execution_count": 632,
   "metadata": {},
   "outputs": [],
   "source": [
    "class MLPBlock(layers.Layer):\n",
    "    \n",
    "    def __init__(self):\n",
    "        super(MLPBlock, self).__init__()\n",
    "        self.linear_1 = Linear(1)\n",
    "        #self.linear_2 = Linear(32)\n",
    "        #self.linear_3 = Linear(1)\n",
    "        \n",
    "    def call(self,inputs):\n",
    "        x = self.linear_1(inputs)\n",
    "        #x = tf.nn.relu(x)\n",
    "        #x = self.linear_2(x)\n",
    "        #x = tf.nn.sigmoid(x)\n",
    "        #x = self.linear_3(x)\n",
    "        return x"
   ]
  },
  {
   "cell_type": "code",
   "execution_count": 644,
   "metadata": {},
   "outputs": [],
   "source": [
    "#model(X_train)"
   ]
  },
  {
   "cell_type": "code",
   "execution_count": 638,
   "metadata": {},
   "outputs": [],
   "source": [
    "#inputs"
   ]
  },
  {
   "cell_type": "code",
   "execution_count": 723,
   "metadata": {},
   "outputs": [],
   "source": [
    "model = MLPBlock()\n",
    "\n",
    "# Collect the history of W-values and b-values to plot later\n",
    "#Ws, bs = [], []\n",
    "#epochs = range(10)\n",
    "#for epoch in epochs:\n",
    "  #Ws.append(model.W.numpy())\n",
    "  #bs.append(model.b.numpy())\n",
    "#  current_loss = loss(model(inputs), outputs)\n",
    "\n",
    "#  my_train(model, inputs, outputs, optimizer)\n",
    "  #print('Epoch %2d: W=%1.2f b=%1.2f, loss=%2.5f' %\n",
    "  #      (epoch, Ws[-1], bs[-1], current_loss))\n",
    "\n",
    "# Let's plot it all\n",
    "#plt.plot(epochs, Ws, 'r',\n",
    "#         epochs, bs, 'b')\n",
    "#plt.plot([TRUE_W] * len(epochs), 'r--',\n",
    "#         [TRUE_b] * len(epochs), 'b--')\n",
    "#plt.legend(['W', 'b', 'True W', 'True b'])\n",
    "#plt.show()"
   ]
  },
  {
   "cell_type": "code",
   "execution_count": 724,
   "metadata": {},
   "outputs": [
    {
     "data": {
      "text/plain": [
       "TensorShape([1000])"
      ]
     },
     "execution_count": 724,
     "metadata": {},
     "output_type": "execute_result"
    }
   ],
   "source": [
    "inputs.shape\n",
    "outputs.shape"
   ]
  },
  {
   "cell_type": "code",
   "execution_count": 991,
   "metadata": {},
   "outputs": [],
   "source": [
    "model = tf.keras.Sequential()\n",
    "model.add(layers.Dense(1, input_shape=(1,)))\n",
    "#model.add(layers.Dense(4, input_shape=(1,)))\n",
    "#model.add(layers.Dense(1, input_shape=(1,)))"
   ]
  },
  {
   "cell_type": "code",
   "execution_count": 992,
   "metadata": {},
   "outputs": [
    {
     "name": "stdout",
     "output_type": "stream",
     "text": [
      "Model: \"sequential_26\"\n",
      "_________________________________________________________________\n",
      "Layer (type)                 Output Shape              Param #   \n",
      "=================================================================\n",
      "dense_33 (Dense)             (None, 1)                 2         \n",
      "=================================================================\n",
      "Total params: 2\n",
      "Trainable params: 2\n",
      "Non-trainable params: 0\n",
      "_________________________________________________________________\n"
     ]
    }
   ],
   "source": [
    "model.summary()"
   ]
  },
  {
   "cell_type": "code",
   "execution_count": 993,
   "metadata": {},
   "outputs": [],
   "source": [
    "model.compile(loss=tf.keras.metrics.mean_squared_error)"
   ]
  },
  {
   "cell_type": "code",
   "execution_count": 994,
   "metadata": {},
   "outputs": [
    {
     "name": "stdout",
     "output_type": "stream",
     "text": [
      "Train on 1000 samples\n",
      "Epoch 1/10\n",
      "1000/1000 [==============================] - 0s 333us/sample - loss: 12.1159\n",
      "Epoch 2/10\n",
      "1000/1000 [==============================] - 0s 115us/sample - loss: 11.2405\n",
      "Epoch 3/10\n",
      "1000/1000 [==============================] - 0s 112us/sample - loss: 10.4345\n",
      "Epoch 4/10\n",
      "1000/1000 [==============================] - 0s 113us/sample - loss: 9.6681\n",
      "Epoch 5/10\n",
      "1000/1000 [==============================] - 0s 116us/sample - loss: 8.9125\n",
      "Epoch 6/10\n",
      "1000/1000 [==============================] - 0s 113us/sample - loss: 8.2082\n",
      "Epoch 7/10\n",
      "1000/1000 [==============================] - 0s 115us/sample - loss: 7.5348\n",
      "Epoch 8/10\n",
      "1000/1000 [==============================] - 0s 113us/sample - loss: 6.9005\n",
      "Epoch 9/10\n",
      "1000/1000 [==============================] - 0s 114us/sample - loss: 6.2988\n",
      "Epoch 10/10\n",
      "1000/1000 [==============================] - 0s 116us/sample - loss: 5.7327\n"
     ]
    },
    {
     "data": {
      "text/plain": [
       "<tensorflow.python.keras.callbacks.History at 0x7f7500401a10>"
      ]
     },
     "execution_count": 994,
     "metadata": {},
     "output_type": "execute_result"
    }
   ],
   "source": [
    "model.fit(inputs, outputs, epochs=10, batch_size=10)"
   ]
  },
  {
   "cell_type": "code",
   "execution_count": 995,
   "metadata": {},
   "outputs": [
    {
     "data": {
      "text/plain": [
       "array([[2.2006013 ],\n",
       "       [0.42140362]], dtype=float32)"
      ]
     },
     "execution_count": 995,
     "metadata": {},
     "output_type": "execute_result"
    }
   ],
   "source": [
    "model.predict(inputs[:2])"
   ]
  },
  {
   "cell_type": "code",
   "execution_count": 996,
   "metadata": {},
   "outputs": [
    {
     "data": {
      "text/plain": [
       "<tf.Tensor: shape=(2,), dtype=float32, numpy=array([4.3062096, 1.6320668], dtype=float32)>"
      ]
     },
     "execution_count": 996,
     "metadata": {},
     "output_type": "execute_result"
    }
   ],
   "source": [
    "outputs[:2]"
   ]
  },
  {
   "cell_type": "code",
   "execution_count": 1051,
   "metadata": {},
   "outputs": [],
   "source": [
    "model = tf.keras.Sequential()\n",
    "#model.add(layers.BatchNormalization( input_shape=(1,)))\n",
    "model.add(layers.Dense(1,input_shape=(1,)))\n",
    "\n",
    "#model.add(layers.Dense(1))\n",
    "#model.add(layers.Dense(1))"
   ]
  },
  {
   "cell_type": "code",
   "execution_count": 1064,
   "metadata": {},
   "outputs": [],
   "source": [
    "def train(inputs, ouputs, model, epochs,\n",
    "          optimizer=tf.keras.optimizers.Adam(learning_rate=0.1)):\n",
    "    for x, y in zip(inputs, ouputs): \n",
    "        x = np.expand_dims(np.array([x]),-1)\n",
    "        y = np.array([y])\n",
    "        for i in range(epochs):\n",
    "        #print(i)\n",
    "            with tf.GradientTape() as tpe:\n",
    "                preds = model(x)\n",
    "                print(preds)\n",
    "                loss = tf.keras.losses.mean_squared_error(preds, y)\n",
    "                loss_m = tf.reduce_mean(loss)\n",
    "            #print(loss_m)\n",
    "                grads = tpe.gradient(loss, model.trainable_weights)\n",
    "                #print(model.trainable_weights)\n",
    "                #print(\" \")\n",
    "            #print(grads)\n",
    "                optimizer.apply_gradients(zip(grads, model.trainable_weights))"
   ]
  },
  {
   "cell_type": "code",
   "execution_count": 1065,
   "metadata": {},
   "outputs": [],
   "source": [
    "#model.predict(inputs)"
   ]
  },
  {
   "cell_type": "code",
   "execution_count": 1075,
   "metadata": {},
   "outputs": [
    {
     "name": "stdout",
     "output_type": "stream",
     "text": [
      "tf.Tensor([[4.3059983]], shape=(1, 1), dtype=float32)\n",
      "tf.Tensor([[4.3060794]], shape=(1, 1), dtype=float32)\n",
      "tf.Tensor([[4.3061624]], shape=(1, 1), dtype=float32)\n",
      "tf.Tensor([[4.3062406]], shape=(1, 1), dtype=float32)\n",
      "tf.Tensor([[4.3063087]], shape=(1, 1), dtype=float32)\n",
      "tf.Tensor([[4.306363]], shape=(1, 1), dtype=float32)\n",
      "tf.Tensor([[4.3064003]], shape=(1, 1), dtype=float32)\n",
      "tf.Tensor([[4.30642]], shape=(1, 1), dtype=float32)\n",
      "tf.Tensor([[4.3064218]], shape=(1, 1), dtype=float32)\n",
      "tf.Tensor([[4.306408]], shape=(1, 1), dtype=float32)\n",
      "tf.Tensor([[4.3063803]], shape=(1, 1), dtype=float32)\n",
      "tf.Tensor([[4.3063426]], shape=(1, 1), dtype=float32)\n",
      "tf.Tensor([[4.3062983]], shape=(1, 1), dtype=float32)\n",
      "tf.Tensor([[4.306252]], shape=(1, 1), dtype=float32)\n",
      "tf.Tensor([[4.3062067]], shape=(1, 1), dtype=float32)\n",
      "tf.Tensor([[4.3061666]], shape=(1, 1), dtype=float32)\n",
      "tf.Tensor([[4.3061333]], shape=(1, 1), dtype=float32)\n",
      "tf.Tensor([[4.306109]], shape=(1, 1), dtype=float32)\n",
      "tf.Tensor([[4.306095]], shape=(1, 1), dtype=float32)\n",
      "tf.Tensor([[4.3060913]], shape=(1, 1), dtype=float32)\n",
      "tf.Tensor([[4.3060966]], shape=(1, 1), dtype=float32)\n",
      "tf.Tensor([[4.30611]], shape=(1, 1), dtype=float32)\n",
      "tf.Tensor([[4.3061295]], shape=(1, 1), dtype=float32)\n",
      "tf.Tensor([[4.3061533]], shape=(1, 1), dtype=float32)\n",
      "tf.Tensor([[4.3061795]], shape=(1, 1), dtype=float32)\n",
      "tf.Tensor([[4.3062053]], shape=(1, 1), dtype=float32)\n",
      "tf.Tensor([[4.3062286]], shape=(1, 1), dtype=float32)\n",
      "tf.Tensor([[4.306248]], shape=(1, 1), dtype=float32)\n",
      "tf.Tensor([[4.3062634]], shape=(1, 1), dtype=float32)\n",
      "tf.Tensor([[4.3062725]], shape=(1, 1), dtype=float32)\n",
      "tf.Tensor([[4.3062763]], shape=(1, 1), dtype=float32)\n",
      "tf.Tensor([[4.306274]], shape=(1, 1), dtype=float32)\n",
      "tf.Tensor([[4.3062673]], shape=(1, 1), dtype=float32)\n",
      "tf.Tensor([[4.3062563]], shape=(1, 1), dtype=float32)\n",
      "tf.Tensor([[4.306243]], shape=(1, 1), dtype=float32)\n",
      "tf.Tensor([[4.306228]], shape=(1, 1), dtype=float32)\n",
      "tf.Tensor([[4.306214]], shape=(1, 1), dtype=float32)\n",
      "tf.Tensor([[4.3062]], shape=(1, 1), dtype=float32)\n",
      "tf.Tensor([[4.3061886]], shape=(1, 1), dtype=float32)\n",
      "tf.Tensor([[4.30618]], shape=(1, 1), dtype=float32)\n",
      "tf.Tensor([[4.3061743]], shape=(1, 1), dtype=float32)\n",
      "tf.Tensor([[4.3061724]], shape=(1, 1), dtype=float32)\n",
      "tf.Tensor([[4.3061733]], shape=(1, 1), dtype=float32)\n",
      "tf.Tensor([[4.306177]], shape=(1, 1), dtype=float32)\n",
      "tf.Tensor([[4.3061833]], shape=(1, 1), dtype=float32)\n",
      "tf.Tensor([[4.3061905]], shape=(1, 1), dtype=float32)\n",
      "tf.Tensor([[4.306199]], shape=(1, 1), dtype=float32)\n",
      "tf.Tensor([[4.306207]], shape=(1, 1), dtype=float32)\n",
      "tf.Tensor([[4.306215]], shape=(1, 1), dtype=float32)\n",
      "tf.Tensor([[4.3062215]], shape=(1, 1), dtype=float32)\n",
      "tf.Tensor([[4.3062263]], shape=(1, 1), dtype=float32)\n",
      "tf.Tensor([[4.306229]], shape=(1, 1), dtype=float32)\n",
      "tf.Tensor([[4.3062305]], shape=(1, 1), dtype=float32)\n",
      "tf.Tensor([[4.3062296]], shape=(1, 1), dtype=float32)\n",
      "tf.Tensor([[4.3062277]], shape=(1, 1), dtype=float32)\n",
      "tf.Tensor([[4.3062243]], shape=(1, 1), dtype=float32)\n",
      "tf.Tensor([[4.30622]], shape=(1, 1), dtype=float32)\n",
      "tf.Tensor([[4.3062153]], shape=(1, 1), dtype=float32)\n",
      "tf.Tensor([[4.3062105]], shape=(1, 1), dtype=float32)\n",
      "tf.Tensor([[4.306206]], shape=(1, 1), dtype=float32)\n",
      "tf.Tensor([[4.306203]], shape=(1, 1), dtype=float32)\n",
      "tf.Tensor([[4.3062]], shape=(1, 1), dtype=float32)\n",
      "tf.Tensor([[4.306198]], shape=(1, 1), dtype=float32)\n",
      "tf.Tensor([[4.3061976]], shape=(1, 1), dtype=float32)\n",
      "tf.Tensor([[4.306198]], shape=(1, 1), dtype=float32)\n",
      "tf.Tensor([[4.3061996]], shape=(1, 1), dtype=float32)\n",
      "tf.Tensor([[4.3062015]], shape=(1, 1), dtype=float32)\n",
      "tf.Tensor([[4.3062043]], shape=(1, 1), dtype=float32)\n",
      "tf.Tensor([[4.3062067]], shape=(1, 1), dtype=float32)\n",
      "tf.Tensor([[4.3062096]], shape=(1, 1), dtype=float32)\n",
      "tf.Tensor([[4.306212]], shape=(1, 1), dtype=float32)\n",
      "tf.Tensor([[4.306214]], shape=(1, 1), dtype=float32)\n",
      "tf.Tensor([[4.3062153]], shape=(1, 1), dtype=float32)\n",
      "tf.Tensor([[4.3062162]], shape=(1, 1), dtype=float32)\n",
      "tf.Tensor([[4.3062162]], shape=(1, 1), dtype=float32)\n",
      "tf.Tensor([[4.3062162]], shape=(1, 1), dtype=float32)\n",
      "tf.Tensor([[4.3062153]], shape=(1, 1), dtype=float32)\n",
      "tf.Tensor([[4.3062134]], shape=(1, 1), dtype=float32)\n",
      "tf.Tensor([[4.306212]], shape=(1, 1), dtype=float32)\n",
      "tf.Tensor([[4.3062105]], shape=(1, 1), dtype=float32)\n",
      "tf.Tensor([[4.306209]], shape=(1, 1), dtype=float32)\n",
      "tf.Tensor([[4.3062077]], shape=(1, 1), dtype=float32)\n",
      "tf.Tensor([[4.3062067]], shape=(1, 1), dtype=float32)\n",
      "tf.Tensor([[4.306206]], shape=(1, 1), dtype=float32)\n",
      "tf.Tensor([[4.3062057]], shape=(1, 1), dtype=float32)\n",
      "tf.Tensor([[4.3062057]], shape=(1, 1), dtype=float32)\n",
      "tf.Tensor([[4.306206]], shape=(1, 1), dtype=float32)\n",
      "tf.Tensor([[4.3062067]], shape=(1, 1), dtype=float32)\n",
      "tf.Tensor([[4.3062077]], shape=(1, 1), dtype=float32)\n",
      "tf.Tensor([[4.3062086]], shape=(1, 1), dtype=float32)\n",
      "tf.Tensor([[4.3062096]], shape=(1, 1), dtype=float32)\n",
      "tf.Tensor([[4.3062105]], shape=(1, 1), dtype=float32)\n",
      "tf.Tensor([[4.3062115]], shape=(1, 1), dtype=float32)\n",
      "tf.Tensor([[4.3062115]], shape=(1, 1), dtype=float32)\n",
      "tf.Tensor([[4.306212]], shape=(1, 1), dtype=float32)\n",
      "tf.Tensor([[4.306212]], shape=(1, 1), dtype=float32)\n",
      "tf.Tensor([[4.3062115]], shape=(1, 1), dtype=float32)\n",
      "tf.Tensor([[4.3062115]], shape=(1, 1), dtype=float32)\n",
      "tf.Tensor([[4.3062105]], shape=(1, 1), dtype=float32)\n",
      "tf.Tensor([[4.3062105]], shape=(1, 1), dtype=float32)\n",
      "tf.Tensor([[1.6471477]], shape=(1, 1), dtype=float32)\n",
      "tf.Tensor([[1.6464448]], shape=(1, 1), dtype=float32)\n",
      "tf.Tensor([[1.64514]], shape=(1, 1), dtype=float32)\n",
      "tf.Tensor([[1.643353]], shape=(1, 1), dtype=float32)\n",
      "tf.Tensor([[1.6412139]], shape=(1, 1), dtype=float32)\n",
      "tf.Tensor([[1.6388569]], shape=(1, 1), dtype=float32)\n",
      "tf.Tensor([[1.636414]], shape=(1, 1), dtype=float32)\n",
      "tf.Tensor([[1.6340079]], shape=(1, 1), dtype=float32)\n",
      "tf.Tensor([[1.631748]], shape=(1, 1), dtype=float32)\n",
      "tf.Tensor([[1.6297259]], shape=(1, 1), dtype=float32)\n",
      "tf.Tensor([[1.6280138]], shape=(1, 1), dtype=float32)\n",
      "tf.Tensor([[1.6266627]], shape=(1, 1), dtype=float32)\n",
      "tf.Tensor([[1.6257007]], shape=(1, 1), dtype=float32)\n",
      "tf.Tensor([[1.6251358]], shape=(1, 1), dtype=float32)\n",
      "tf.Tensor([[1.6249557]], shape=(1, 1), dtype=float32)\n",
      "tf.Tensor([[1.6251316]], shape=(1, 1), dtype=float32)\n",
      "tf.Tensor([[1.6256204]], shape=(1, 1), dtype=float32)\n",
      "tf.Tensor([[1.6263683]], shape=(1, 1), dtype=float32)\n",
      "tf.Tensor([[1.6273147]], shape=(1, 1), dtype=float32)\n",
      "tf.Tensor([[1.6283946]], shape=(1, 1), dtype=float32)\n",
      "tf.Tensor([[1.629544]], shape=(1, 1), dtype=float32)\n",
      "tf.Tensor([[1.6307008]], shape=(1, 1), dtype=float32)\n",
      "tf.Tensor([[1.6318091]], shape=(1, 1), dtype=float32)\n",
      "tf.Tensor([[1.6328204]], shape=(1, 1), dtype=float32)\n",
      "tf.Tensor([[1.6336954]], shape=(1, 1), dtype=float32)\n",
      "tf.Tensor([[1.6344055]], shape=(1, 1), dtype=float32)\n",
      "tf.Tensor([[1.6349324]], shape=(1, 1), dtype=float32)\n",
      "tf.Tensor([[1.6352689]], shape=(1, 1), dtype=float32)\n",
      "tf.Tensor([[1.635417]], shape=(1, 1), dtype=float32)\n",
      "tf.Tensor([[1.6353881]], shape=(1, 1), dtype=float32)\n",
      "tf.Tensor([[1.6352007]], shape=(1, 1), dtype=float32)\n",
      "tf.Tensor([[1.6348795]], shape=(1, 1), dtype=float32)\n",
      "tf.Tensor([[1.6344528]], shape=(1, 1), dtype=float32)\n",
      "tf.Tensor([[1.6339521]], shape=(1, 1), dtype=float32)\n",
      "tf.Tensor([[1.6334088]], shape=(1, 1), dtype=float32)\n",
      "tf.Tensor([[1.6328535]], shape=(1, 1), dtype=float32)\n",
      "tf.Tensor([[1.6323143]], shape=(1, 1), dtype=float32)\n",
      "tf.Tensor([[1.6318164]], shape=(1, 1), dtype=float32)\n",
      "tf.Tensor([[1.6313801]], shape=(1, 1), dtype=float32)\n",
      "tf.Tensor([[1.6310203]], shape=(1, 1), dtype=float32)\n",
      "tf.Tensor([[1.6307479]], shape=(1, 1), dtype=float32)\n",
      "tf.Tensor([[1.6305673]], shape=(1, 1), dtype=float32)\n",
      "tf.Tensor([[1.6304785]], shape=(1, 1), dtype=float32)\n",
      "tf.Tensor([[1.6304771]], shape=(1, 1), dtype=float32)\n",
      "tf.Tensor([[1.6305544]], shape=(1, 1), dtype=float32)\n",
      "tf.Tensor([[1.6306992]], shape=(1, 1), dtype=float32)\n",
      "tf.Tensor([[1.6308974]], shape=(1, 1), dtype=float32)\n",
      "tf.Tensor([[1.6311343]], shape=(1, 1), dtype=float32)\n",
      "tf.Tensor([[1.6313941]], shape=(1, 1), dtype=float32)\n",
      "tf.Tensor([[1.6316619]], shape=(1, 1), dtype=float32)\n",
      "tf.Tensor([[1.6319233]], shape=(1, 1), dtype=float32)\n",
      "tf.Tensor([[1.632166]], shape=(1, 1), dtype=float32)\n",
      "tf.Tensor([[1.6323798]], shape=(1, 1), dtype=float32)\n",
      "tf.Tensor([[1.6325569]], shape=(1, 1), dtype=float32)\n",
      "tf.Tensor([[1.6326919]], shape=(1, 1), dtype=float32)\n",
      "tf.Tensor([[1.632782]], shape=(1, 1), dtype=float32)\n",
      "tf.Tensor([[1.6328274]], shape=(1, 1), dtype=float32)\n",
      "tf.Tensor([[1.6328299]], shape=(1, 1), dtype=float32)\n",
      "tf.Tensor([[1.6327937]], shape=(1, 1), dtype=float32)\n",
      "tf.Tensor([[1.6327244]], shape=(1, 1), dtype=float32)\n",
      "tf.Tensor([[1.6326287]], shape=(1, 1), dtype=float32)\n",
      "tf.Tensor([[1.632514]], shape=(1, 1), dtype=float32)\n",
      "tf.Tensor([[1.6323879]], shape=(1, 1), dtype=float32)\n",
      "tf.Tensor([[1.6322579]], shape=(1, 1), dtype=float32)\n",
      "tf.Tensor([[1.6321313]], shape=(1, 1), dtype=float32)\n",
      "tf.Tensor([[1.6320138]], shape=(1, 1), dtype=float32)\n",
      "tf.Tensor([[1.6319106]], shape=(1, 1), dtype=float32)\n",
      "tf.Tensor([[1.6318257]], shape=(1, 1), dtype=float32)\n",
      "tf.Tensor([[1.6317613]], shape=(1, 1), dtype=float32)\n",
      "tf.Tensor([[1.6317191]], shape=(1, 1), dtype=float32)\n",
      "tf.Tensor([[1.6316987]], shape=(1, 1), dtype=float32)\n",
      "tf.Tensor([[1.6316993]], shape=(1, 1), dtype=float32)\n",
      "tf.Tensor([[1.6317188]], shape=(1, 1), dtype=float32)\n",
      "tf.Tensor([[1.6317542]], shape=(1, 1), dtype=float32)\n",
      "tf.Tensor([[1.6318021]], shape=(1, 1), dtype=float32)\n",
      "tf.Tensor([[1.6318588]], shape=(1, 1), dtype=float32)\n",
      "tf.Tensor([[1.6319208]], shape=(1, 1), dtype=float32)\n",
      "tf.Tensor([[1.6319842]], shape=(1, 1), dtype=float32)\n",
      "tf.Tensor([[1.6320457]], shape=(1, 1), dtype=float32)\n",
      "tf.Tensor([[1.6321023]], shape=(1, 1), dtype=float32)\n",
      "tf.Tensor([[1.6321514]], shape=(1, 1), dtype=float32)\n",
      "tf.Tensor([[1.6321912]], shape=(1, 1), dtype=float32)\n",
      "tf.Tensor([[1.6322206]], shape=(1, 1), dtype=float32)\n",
      "tf.Tensor([[1.632239]], shape=(1, 1), dtype=float32)\n",
      "tf.Tensor([[1.6322467]], shape=(1, 1), dtype=float32)\n",
      "tf.Tensor([[1.6322443]], shape=(1, 1), dtype=float32)\n",
      "tf.Tensor([[1.6322329]], shape=(1, 1), dtype=float32)\n",
      "tf.Tensor([[1.6322136]], shape=(1, 1), dtype=float32)\n",
      "tf.Tensor([[1.6321888]], shape=(1, 1), dtype=float32)\n",
      "tf.Tensor([[1.63216]], shape=(1, 1), dtype=float32)\n",
      "tf.Tensor([[1.632129]], shape=(1, 1), dtype=float32)\n",
      "tf.Tensor([[1.6320978]], shape=(1, 1), dtype=float32)\n",
      "tf.Tensor([[1.6320684]], shape=(1, 1), dtype=float32)\n",
      "tf.Tensor([[1.6320417]], shape=(1, 1), dtype=float32)\n",
      "tf.Tensor([[1.6320188]], shape=(1, 1), dtype=float32)\n",
      "tf.Tensor([[1.6320007]], shape=(1, 1), dtype=float32)\n",
      "tf.Tensor([[1.6319879]], shape=(1, 1), dtype=float32)\n",
      "tf.Tensor([[1.6319807]], shape=(1, 1), dtype=float32)\n",
      "tf.Tensor([[1.6319788]], shape=(1, 1), dtype=float32)\n",
      "tf.Tensor([[1.6319816]], shape=(1, 1), dtype=float32)\n",
      "tf.Tensor([[2.4526432]], shape=(1, 1), dtype=float32)\n",
      "tf.Tensor([[2.4331129]], shape=(1, 1), dtype=float32)\n",
      "tf.Tensor([[2.396998]], shape=(1, 1), dtype=float32)\n",
      "tf.Tensor([[2.3476553]], shape=(1, 1), dtype=float32)\n",
      "tf.Tensor([[2.2886512]], shape=(1, 1), dtype=float32)\n",
      "tf.Tensor([[2.2235923]], shape=(1, 1), dtype=float32)\n",
      "tf.Tensor([[2.155981]], shape=(1, 1), dtype=float32)\n",
      "tf.Tensor([[2.0890913]], shape=(1, 1), dtype=float32)\n",
      "tf.Tensor([[2.0258546]], shape=(1, 1), dtype=float32)\n",
      "tf.Tensor([[1.9687676]], shape=(1, 1), dtype=float32)\n",
      "tf.Tensor([[1.9198182]], shape=(1, 1), dtype=float32)\n",
      "tf.Tensor([[1.8804365]], shape=(1, 1), dtype=float32)\n",
      "tf.Tensor([[1.8514769]], shape=(1, 1), dtype=float32)\n",
      "tf.Tensor([[1.8332306]], shape=(1, 1), dtype=float32)\n",
      "tf.Tensor([[1.8254665]], shape=(1, 1), dtype=float32)\n",
      "tf.Tensor([[1.8274953]], shape=(1, 1), dtype=float32)\n",
      "tf.Tensor([[1.8382497]], shape=(1, 1), dtype=float32)\n",
      "tf.Tensor([[1.8563733]], shape=(1, 1), dtype=float32)\n",
      "tf.Tensor([[1.8803123]], shape=(1, 1), dtype=float32)\n",
      "tf.Tensor([[1.9084054]], shape=(1, 1), dtype=float32)\n",
      "tf.Tensor([[1.9389675]], shape=(1, 1), dtype=float32)\n",
      "tf.Tensor([[1.9703665]], shape=(1, 1), dtype=float32)\n",
      "tf.Tensor([[2.0010905]], shape=(1, 1), dtype=float32)\n",
      "tf.Tensor([[2.0298035]], shape=(1, 1), dtype=float32)\n",
      "tf.Tensor([[2.0553894]], shape=(1, 1), dtype=float32)\n",
      "tf.Tensor([[2.076982]], shape=(1, 1), dtype=float32)\n",
      "tf.Tensor([[2.0939813]], shape=(1, 1), dtype=float32)\n",
      "tf.Tensor([[2.1060565]], shape=(1, 1), dtype=float32)\n",
      "tf.Tensor([[2.1131356]], shape=(1, 1), dtype=float32)\n",
      "tf.Tensor([[2.115383]], shape=(1, 1), dtype=float32)\n",
      "tf.Tensor([[2.11317]], shape=(1, 1), dtype=float32)\n",
      "tf.Tensor([[2.1070368]], shape=(1, 1), dtype=float32)\n",
      "tf.Tensor([[2.0976512]], shape=(1, 1), dtype=float32)\n",
      "tf.Tensor([[2.0857656]], shape=(1, 1), dtype=float32)\n",
      "tf.Tensor([[2.072174]], shape=(1, 1), dtype=float32)\n",
      "tf.Tensor([[2.0576727]], shape=(1, 1), dtype=float32)\n",
      "tf.Tensor([[2.043022]], shape=(1, 1), dtype=float32)\n",
      "tf.Tensor([[2.0289156]], shape=(1, 1), dtype=float32)\n",
      "tf.Tensor([[2.0159554]], shape=(1, 1), dtype=float32)\n",
      "tf.Tensor([[2.0046315]], shape=(1, 1), dtype=float32)\n",
      "tf.Tensor([[1.9953111]], shape=(1, 1), dtype=float32)\n",
      "tf.Tensor([[1.9882323]], shape=(1, 1), dtype=float32)\n",
      "tf.Tensor([[1.9835057]], shape=(1, 1), dtype=float32)\n",
      "tf.Tensor([[1.981122]], shape=(1, 1), dtype=float32)\n",
      "tf.Tensor([[1.9809628]], shape=(1, 1), dtype=float32)\n",
      "tf.Tensor([[1.9828176]], shape=(1, 1), dtype=float32)\n",
      "tf.Tensor([[1.9864023]], shape=(1, 1), dtype=float32)\n",
      "tf.Tensor([[1.991379]], shape=(1, 1), dtype=float32)\n",
      "tf.Tensor([[1.9973779]], shape=(1, 1), dtype=float32)\n",
      "tf.Tensor([[2.0040166]], shape=(1, 1), dtype=float32)\n",
      "tf.Tensor([[2.01092]], shape=(1, 1), dtype=float32)\n",
      "tf.Tensor([[2.017737]], shape=(1, 1), dtype=float32)\n",
      "tf.Tensor([[2.0241544]], shape=(1, 1), dtype=float32)\n",
      "tf.Tensor([[2.0299082]], shape=(1, 1), dtype=float32)\n",
      "tf.Tensor([[2.034791]], shape=(1, 1), dtype=float32)\n",
      "tf.Tensor([[2.0386572]], shape=(1, 1), dtype=float32)\n",
      "tf.Tensor([[2.041423]], shape=(1, 1), dtype=float32)\n",
      "tf.Tensor([[2.0430653]], shape=(1, 1), dtype=float32)\n",
      "tf.Tensor([[2.0436156]], shape=(1, 1), dtype=float32)\n",
      "tf.Tensor([[2.043155]], shape=(1, 1), dtype=float32)\n",
      "tf.Tensor([[2.0418043]], shape=(1, 1), dtype=float32)\n",
      "tf.Tensor([[2.0397153]], shape=(1, 1), dtype=float32)\n",
      "tf.Tensor([[2.0370598]], shape=(1, 1), dtype=float32)\n",
      "tf.Tensor([[2.0340204]], shape=(1, 1), dtype=float32)\n",
      "tf.Tensor([[2.0307798]], shape=(1, 1), dtype=float32)\n",
      "tf.Tensor([[2.0275133]], shape=(1, 1), dtype=float32)\n",
      "tf.Tensor([[2.0243795]], shape=(1, 1), dtype=float32)\n",
      "tf.Tensor([[2.0215163]], shape=(1, 1), dtype=float32)\n",
      "tf.Tensor([[2.0190344]], shape=(1, 1), dtype=float32)\n",
      "tf.Tensor([[2.017016]], shape=(1, 1), dtype=float32)\n",
      "tf.Tensor([[2.0155127]], shape=(1, 1), dtype=float32)\n",
      "tf.Tensor([[2.0145469]], shape=(1, 1), dtype=float32)\n",
      "tf.Tensor([[2.0141122]], shape=(1, 1), dtype=float32)\n",
      "tf.Tensor([[2.0141776]], shape=(1, 1), dtype=float32)\n",
      "tf.Tensor([[2.014691]], shape=(1, 1), dtype=float32)\n",
      "tf.Tensor([[2.015584]], shape=(1, 1), dtype=float32)\n",
      "tf.Tensor([[2.0167756]], shape=(1, 1), dtype=float32)\n",
      "tf.Tensor([[2.0181787]], shape=(1, 1), dtype=float32)\n",
      "tf.Tensor([[2.0197046]], shape=(1, 1), dtype=float32)\n",
      "tf.Tensor([[2.021267]], shape=(1, 1), dtype=float32)\n",
      "tf.Tensor([[2.0227864]], shape=(1, 1), dtype=float32)\n",
      "tf.Tensor([[2.0241926]], shape=(1, 1), dtype=float32)\n",
      "tf.Tensor([[2.0254283]], shape=(1, 1), dtype=float32)\n",
      "tf.Tensor([[2.0264497]], shape=(1, 1), dtype=float32)\n",
      "tf.Tensor([[2.027228]], shape=(1, 1), dtype=float32)\n",
      "tf.Tensor([[2.0277488]], shape=(1, 1), dtype=float32)\n",
      "tf.Tensor([[2.0280118]], shape=(1, 1), dtype=float32)\n",
      "tf.Tensor([[2.0280294]], shape=(1, 1), dtype=float32)\n",
      "tf.Tensor([[2.0278246]], shape=(1, 1), dtype=float32)\n",
      "tf.Tensor([[2.0274298]], shape=(1, 1), dtype=float32)\n",
      "tf.Tensor([[2.0268824]], shape=(1, 1), dtype=float32)\n",
      "tf.Tensor([[2.0262249]], shape=(1, 1), dtype=float32)\n",
      "tf.Tensor([[2.0255]], shape=(1, 1), dtype=float32)\n",
      "tf.Tensor([[2.0247507]], shape=(1, 1), dtype=float32)\n",
      "tf.Tensor([[2.024016]], shape=(1, 1), dtype=float32)\n",
      "tf.Tensor([[2.023331]], shape=(1, 1), dtype=float32)\n",
      "tf.Tensor([[2.0227249]], shape=(1, 1), dtype=float32)\n",
      "tf.Tensor([[2.02222]], shape=(1, 1), dtype=float32)\n",
      "tf.Tensor([[2.021831]], shape=(1, 1), dtype=float32)\n",
      "tf.Tensor([[2.0215666]], shape=(1, 1), dtype=float32)\n",
      "tf.Tensor([[2.9703865]], shape=(1, 1), dtype=float32)\n",
      "tf.Tensor([[3.0695775]], shape=(1, 1), dtype=float32)\n",
      "tf.Tensor([[3.2446523]], shape=(1, 1), dtype=float32)\n",
      "tf.Tensor([[3.4741468]], shape=(1, 1), dtype=float32)\n",
      "tf.Tensor([[3.7385707]], shape=(1, 1), dtype=float32)\n",
      "tf.Tensor([[4.019951]], shape=(1, 1), dtype=float32)\n",
      "tf.Tensor([[4.3015137]], shape=(1, 1), dtype=float32)\n",
      "tf.Tensor([[4.567747]], shape=(1, 1), dtype=float32)\n",
      "tf.Tensor([[4.8049026]], shape=(1, 1), dtype=float32)\n",
      "tf.Tensor([[5.001809]], shape=(1, 1), dtype=float32)\n",
      "tf.Tensor([[5.1507025]], shape=(1, 1), dtype=float32)\n",
      "tf.Tensor([[5.2477164]], shape=(1, 1), dtype=float32)\n",
      "tf.Tensor([[5.2928257]], shape=(1, 1), dtype=float32)\n",
      "tf.Tensor([[5.2893047]], shape=(1, 1), dtype=float32)\n",
      "tf.Tensor([[5.2429194]], shape=(1, 1), dtype=float32)\n",
      "tf.Tensor([[5.1610975]], shape=(1, 1), dtype=float32)\n",
      "tf.Tensor([[5.0522227]], shape=(1, 1), dtype=float32)\n",
      "tf.Tensor([[4.925083]], shape=(1, 1), dtype=float32)\n",
      "tf.Tensor([[4.788436]], shape=(1, 1), dtype=float32)\n",
      "tf.Tensor([[4.650648]], shape=(1, 1), dtype=float32)\n",
      "tf.Tensor([[4.5193624]], shape=(1, 1), dtype=float32)\n",
      "tf.Tensor([[4.4011836]], shape=(1, 1), dtype=float32)\n",
      "tf.Tensor([[4.3014007]], shape=(1, 1), dtype=float32)\n",
      "tf.Tensor([[4.2237797]], shape=(1, 1), dtype=float32)\n",
      "tf.Tensor([[4.1704617]], shape=(1, 1), dtype=float32)\n",
      "tf.Tensor([[4.141982]], shape=(1, 1), dtype=float32)\n",
      "tf.Tensor([[4.137409]], shape=(1, 1), dtype=float32)\n",
      "tf.Tensor([[4.1545596]], shape=(1, 1), dtype=float32)\n",
      "tf.Tensor([[4.190275]], shape=(1, 1), dtype=float32)\n",
      "tf.Tensor([[4.2407107]], shape=(1, 1), dtype=float32)\n",
      "tf.Tensor([[4.3016157]], shape=(1, 1), dtype=float32)\n",
      "tf.Tensor([[4.368602]], shape=(1, 1), dtype=float32)\n",
      "tf.Tensor([[4.437383]], shape=(1, 1), dtype=float32)\n",
      "tf.Tensor([[4.5039916]], shape=(1, 1), dtype=float32)\n",
      "tf.Tensor([[4.564958]], shape=(1, 1), dtype=float32)\n",
      "tf.Tensor([[4.6174545]], shape=(1, 1), dtype=float32)\n",
      "tf.Tensor([[4.6593943]], shape=(1, 1), dtype=float32)\n",
      "tf.Tensor([[4.6894827]], shape=(1, 1), dtype=float32)\n",
      "tf.Tensor([[4.707213]], shape=(1, 1), dtype=float32)\n",
      "tf.Tensor([[4.712819]], shape=(1, 1), dtype=float32)\n",
      "tf.Tensor([[4.7071905]], shape=(1, 1), dtype=float32)\n",
      "tf.Tensor([[4.6917534]], shape=(1, 1), dtype=float32)\n",
      "tf.Tensor([[4.6683373]], shape=(1, 1), dtype=float32)\n",
      "tf.Tensor([[4.6390343]], shape=(1, 1), dtype=float32)\n",
      "tf.Tensor([[4.606056]], shape=(1, 1), dtype=float32)\n",
      "tf.Tensor([[4.5716043]], shape=(1, 1), dtype=float32)\n",
      "tf.Tensor([[4.5377464]], shape=(1, 1), dtype=float32)\n",
      "tf.Tensor([[4.5063167]], shape=(1, 1), dtype=float32)\n",
      "tf.Tensor([[4.4788375]], shape=(1, 1), dtype=float32)\n",
      "tf.Tensor([[4.456462]], shape=(1, 1), dtype=float32)\n",
      "tf.Tensor([[4.4399443]], shape=(1, 1), dtype=float32)\n",
      "tf.Tensor([[4.429638]], shape=(1, 1), dtype=float32)\n",
      "tf.Tensor([[4.4255114]], shape=(1, 1), dtype=float32)\n",
      "tf.Tensor([[4.427189]], shape=(1, 1), dtype=float32)\n",
      "tf.Tensor([[4.434005]], shape=(1, 1), dtype=float32)\n",
      "tf.Tensor([[4.4450693]], shape=(1, 1), dtype=float32)\n",
      "tf.Tensor([[4.459341]], shape=(1, 1), dtype=float32)\n",
      "tf.Tensor([[4.4756985]], shape=(1, 1), dtype=float32)\n",
      "tf.Tensor([[4.4930134]], shape=(1, 1), dtype=float32)\n",
      "tf.Tensor([[4.510211]], shape=(1, 1), dtype=float32)\n",
      "tf.Tensor([[4.52633]], shape=(1, 1), dtype=float32)\n",
      "tf.Tensor([[4.540561]], shape=(1, 1), dtype=float32)\n",
      "tf.Tensor([[4.5522833]], shape=(1, 1), dtype=float32)\n",
      "tf.Tensor([[4.5610757]], shape=(1, 1), dtype=float32)\n",
      "tf.Tensor([[4.566726]], shape=(1, 1), dtype=float32)\n",
      "tf.Tensor([[4.5692225]], shape=(1, 1), dtype=float32)\n",
      "tf.Tensor([[4.5687313]], shape=(1, 1), dtype=float32)\n",
      "tf.Tensor([[4.565574]], shape=(1, 1), dtype=float32)\n",
      "tf.Tensor([[4.560194]], shape=(1, 1), dtype=float32)\n",
      "tf.Tensor([[4.553116]], shape=(1, 1), dtype=float32)\n",
      "tf.Tensor([[4.5449114]], shape=(1, 1), dtype=float32)\n",
      "tf.Tensor([[4.536162]], shape=(1, 1), dtype=float32)\n",
      "tf.Tensor([[4.5274215]], shape=(1, 1), dtype=float32)\n",
      "tf.Tensor([[4.5191913]], shape=(1, 1), dtype=float32)\n",
      "tf.Tensor([[4.5118933]], shape=(1, 1), dtype=float32)\n",
      "tf.Tensor([[4.5058565]], shape=(1, 1), dtype=float32)\n",
      "tf.Tensor([[4.5013037]], shape=(1, 1), dtype=float32)\n",
      "tf.Tensor([[4.498351]], shape=(1, 1), dtype=float32)\n",
      "tf.Tensor([[4.497013]], shape=(1, 1), dtype=float32)\n",
      "tf.Tensor([[4.497207]], shape=(1, 1), dtype=float32)\n",
      "tf.Tensor([[4.4987726]], shape=(1, 1), dtype=float32)\n",
      "tf.Tensor([[4.501483]], shape=(1, 1), dtype=float32)\n",
      "tf.Tensor([[4.5050697]], shape=(1, 1), dtype=float32)\n",
      "tf.Tensor([[4.509239]], shape=(1, 1), dtype=float32)\n",
      "tf.Tensor([[4.513691]], shape=(1, 1), dtype=float32)\n",
      "tf.Tensor([[4.5181403]], shape=(1, 1), dtype=float32)\n",
      "tf.Tensor([[4.5223284]], shape=(1, 1), dtype=float32)\n",
      "tf.Tensor([[4.5260367]], shape=(1, 1), dtype=float32)\n",
      "tf.Tensor([[4.5290966]], shape=(1, 1), dtype=float32)\n",
      "tf.Tensor([[4.531394]], shape=(1, 1), dtype=float32)\n",
      "tf.Tensor([[4.5328693]], shape=(1, 1), dtype=float32)\n",
      "tf.Tensor([[4.533517]], shape=(1, 1), dtype=float32)\n",
      "tf.Tensor([[4.53338]], shape=(1, 1), dtype=float32)\n",
      "tf.Tensor([[4.5325446]], shape=(1, 1), dtype=float32)\n",
      "tf.Tensor([[4.5311275]], shape=(1, 1), dtype=float32)\n",
      "tf.Tensor([[4.529269]], shape=(1, 1), dtype=float32)\n",
      "tf.Tensor([[4.5271225]], shape=(1, 1), dtype=float32)\n",
      "tf.Tensor([[4.524841]], shape=(1, 1), dtype=float32)\n",
      "tf.Tensor([[4.5225725]], shape=(1, 1), dtype=float32)\n",
      "tf.Tensor([[4.5204496]], shape=(1, 1), dtype=float32)\n",
      "tf.Tensor([[0.95891523]], shape=(1, 1), dtype=float32)\n",
      "tf.Tensor([[0.8134887]], shape=(1, 1), dtype=float32)\n",
      "tf.Tensor([[0.561821]], shape=(1, 1), dtype=float32)\n",
      "tf.Tensor([[0.23682308]], shape=(1, 1), dtype=float32)\n",
      "tf.Tensor([[-0.13288426]], shape=(1, 1), dtype=float32)\n",
      "tf.Tensor([[-0.521332]], shape=(1, 1), dtype=float32)\n",
      "tf.Tensor([[-0.9042492]], shape=(1, 1), dtype=float32)\n",
      "tf.Tensor([[-1.2590959]], shape=(1, 1), dtype=float32)\n",
      "tf.Tensor([[-1.5660875]], shape=(1, 1), dtype=float32)\n",
      "tf.Tensor([[-1.8098269]], shape=(1, 1), dtype=float32)\n",
      "tf.Tensor([[-1.9807893]], shape=(1, 1), dtype=float32)\n",
      "tf.Tensor([[-2.075907]], shape=(1, 1), dtype=float32)\n",
      "tf.Tensor([[-2.0980184]], shape=(1, 1), dtype=float32)\n",
      "tf.Tensor([[-2.0545378]], shape=(1, 1), dtype=float32)\n",
      "tf.Tensor([[-1.9559267]], shape=(1, 1), dtype=float32)\n",
      "tf.Tensor([[-1.8143841]], shape=(1, 1), dtype=float32)\n",
      "tf.Tensor([[-1.6428771]], shape=(1, 1), dtype=float32)\n",
      "tf.Tensor([[-1.4544529]], shape=(1, 1), dtype=float32)\n",
      "tf.Tensor([[-1.2617048]], shape=(1, 1), dtype=float32)\n",
      "tf.Tensor([[-1.076278]], shape=(1, 1), dtype=float32)\n",
      "tf.Tensor([[-0.90837455]], shape=(1, 1), dtype=float32)\n",
      "tf.Tensor([[-0.7662761]], shape=(1, 1), dtype=float32)\n",
      "tf.Tensor([[-0.65595436]], shape=(1, 1), dtype=float32)\n",
      "tf.Tensor([[-0.5808532]], shape=(1, 1), dtype=float32)\n",
      "tf.Tensor([[-0.541888]], shape=(1, 1), dtype=float32)\n",
      "tf.Tensor([[-0.5376587]], shape=(1, 1), dtype=float32)\n",
      "tf.Tensor([[-0.56481886]], shape=(1, 1), dtype=float32)\n",
      "tf.Tensor([[-0.618526]], shape=(1, 1), dtype=float32)\n",
      "tf.Tensor([[-0.69291496]], shape=(1, 1), dtype=float32)\n",
      "tf.Tensor([[-0.78154707]], shape=(1, 1), dtype=float32)\n",
      "tf.Tensor([[-0.877825]], shape=(1, 1), dtype=float32)\n",
      "tf.Tensor([[-0.97536397]], shape=(1, 1), dtype=float32)\n",
      "tf.Tensor([[-1.0683218]], shape=(1, 1), dtype=float32)\n",
      "tf.Tensor([[-1.151678]], shape=(1, 1), dtype=float32)\n",
      "tf.Tensor([[-1.2214546]], shape=(1, 1), dtype=float32)\n",
      "tf.Tensor([[-1.2748598]], shape=(1, 1), dtype=float32)\n",
      "tf.Tensor([[-1.3103476]], shape=(1, 1), dtype=float32)\n",
      "tf.Tensor([[-1.3275939]], shape=(1, 1), dtype=float32)\n",
      "tf.Tensor([[-1.3273944]], shape=(1, 1), dtype=float32)\n",
      "tf.Tensor([[-1.3114991]], shape=(1, 1), dtype=float32)\n",
      "tf.Tensor([[-1.2824101]], shape=(1, 1), dtype=float32)\n",
      "tf.Tensor([[-1.2431564]], shape=(1, 1), dtype=float32)\n",
      "tf.Tensor([[-1.197062]], shape=(1, 1), dtype=float32)\n",
      "tf.Tensor([[-1.1475266]], shape=(1, 1), dtype=float32)\n",
      "tf.Tensor([[-1.0978193]], shape=(1, 1), dtype=float32)\n",
      "tf.Tensor([[-1.0509024]], shape=(1, 1), dtype=float32)\n",
      "tf.Tensor([[-1.0092856]], shape=(1, 1), dtype=float32)\n",
      "tf.Tensor([[-0.9749217]], shape=(1, 1), dtype=float32)\n",
      "tf.Tensor([[-0.9491427]], shape=(1, 1), dtype=float32)\n",
      "tf.Tensor([[-0.93263793]], shape=(1, 1), dtype=float32)\n",
      "tf.Tensor([[-0.9254775]], shape=(1, 1), dtype=float32)\n",
      "tf.Tensor([[-0.9271662]], shape=(1, 1), dtype=float32)\n",
      "tf.Tensor([[-0.93673015]], shape=(1, 1), dtype=float32)\n",
      "tf.Tensor([[-0.95282173]], shape=(1, 1), dtype=float32)\n",
      "tf.Tensor([[-0.97383606]], shape=(1, 1), dtype=float32)\n",
      "tf.Tensor([[-0.99803257]], shape=(1, 1), dtype=float32)\n",
      "tf.Tensor([[-1.0236508]], shape=(1, 1), dtype=float32)\n",
      "tf.Tensor([[-1.0490172]], shape=(1, 1), dtype=float32)\n",
      "tf.Tensor([[-1.0726355]], shape=(1, 1), dtype=float32)\n",
      "tf.Tensor([[-1.0932609]], shape=(1, 1), dtype=float32)\n",
      "tf.Tensor([[-1.1099483]], shape=(1, 1), dtype=float32)\n",
      "tf.Tensor([[-1.1220816]], shape=(1, 1), dtype=float32)\n",
      "tf.Tensor([[-1.1293788]], shape=(1, 1), dtype=float32)\n",
      "tf.Tensor([[-1.1318762]], shape=(1, 1), dtype=float32)\n",
      "tf.Tensor([[-1.1298956]], shape=(1, 1), dtype=float32)\n",
      "tf.Tensor([[-1.1239976]], shape=(1, 1), dtype=float32)\n",
      "tf.Tensor([[-1.1149235]], shape=(1, 1), dtype=float32)\n",
      "tf.Tensor([[-1.1035345]], shape=(1, 1), dtype=float32)\n",
      "tf.Tensor([[-1.0907469]], shape=(1, 1), dtype=float32)\n",
      "tf.Tensor([[-1.0774727]], shape=(1, 1), dtype=float32)\n",
      "tf.Tensor([[-1.0645641]], shape=(1, 1), dtype=float32)\n",
      "tf.Tensor([[-1.0527681]], shape=(1, 1), dtype=float32)\n",
      "tf.Tensor([[-1.0426912]], shape=(1, 1), dtype=float32)\n",
      "tf.Tensor([[-1.034777]], shape=(1, 1), dtype=float32)\n",
      "tf.Tensor([[-1.0292938]], shape=(1, 1), dtype=float32)\n",
      "tf.Tensor([[-1.0263368]], shape=(1, 1), dtype=float32)\n",
      "tf.Tensor([[-1.0258374]], shape=(1, 1), dtype=float32)\n",
      "tf.Tensor([[-1.0275841]], shape=(1, 1), dtype=float32)\n",
      "tf.Tensor([[-1.0312496]], shape=(1, 1), dtype=float32)\n",
      "tf.Tensor([[-1.036421]], shape=(1, 1), dtype=float32)\n",
      "tf.Tensor([[-1.0426337]], shape=(1, 1), dtype=float32)\n",
      "tf.Tensor([[-1.0494052]], shape=(1, 1), dtype=float32)\n",
      "tf.Tensor([[-1.0562662]], shape=(1, 1), dtype=float32)\n",
      "tf.Tensor([[-1.0627866]], shape=(1, 1), dtype=float32)\n",
      "tf.Tensor([[-1.0685997]], shape=(1, 1), dtype=float32)\n",
      "tf.Tensor([[-1.0734183]], shape=(1, 1), dtype=float32)\n",
      "tf.Tensor([[-1.0770435]], shape=(1, 1), dtype=float32)\n",
      "tf.Tensor([[-1.0793701]], shape=(1, 1), dtype=float32)\n",
      "tf.Tensor([[-1.0803821]], shape=(1, 1), dtype=float32)\n",
      "tf.Tensor([[-1.0801468]], shape=(1, 1), dtype=float32)\n",
      "tf.Tensor([[-1.0788012]], shape=(1, 1), dtype=float32)\n",
      "tf.Tensor([[-1.0765377]], shape=(1, 1), dtype=float32)\n",
      "tf.Tensor([[-1.0735867]], shape=(1, 1), dtype=float32)\n",
      "tf.Tensor([[-1.070198]], shape=(1, 1), dtype=float32)\n",
      "tf.Tensor([[-1.0666251]], shape=(1, 1), dtype=float32)\n",
      "tf.Tensor([[-1.0631071]], shape=(1, 1), dtype=float32)\n",
      "tf.Tensor([[-1.0598572]], shape=(1, 1), dtype=float32)\n",
      "tf.Tensor([[-1.0570506]], shape=(1, 1), dtype=float32)\n",
      "tf.Tensor([[-1.0548183]], shape=(1, 1), dtype=float32)\n",
      "tf.Tensor([[-1.0532427]], shape=(1, 1), dtype=float32)\n",
      "tf.Tensor([[-1.460578]], shape=(1, 1), dtype=float32)\n",
      "tf.Tensor([[-1.3319731]], shape=(1, 1), dtype=float32)\n",
      "tf.Tensor([[-1.105175]], shape=(1, 1), dtype=float32)\n",
      "tf.Tensor([[-0.8082154]], shape=(1, 1), dtype=float32)\n",
      "tf.Tensor([[-0.46717358]], shape=(1, 1), dtype=float32)\n",
      "tf.Tensor([[-0.10643315]], shape=(1, 1), dtype=float32)\n",
      "tf.Tensor([[0.25115657]], shape=(1, 1), dtype=float32)\n",
      "tf.Tensor([[0.5846057]], shape=(1, 1), dtype=float32)\n",
      "tf.Tensor([[0.8756788]], shape=(1, 1), dtype=float32)\n",
      "tf.Tensor([[1.110115]], shape=(1, 1), dtype=float32)\n",
      "tf.Tensor([[1.2787144]], shape=(1, 1), dtype=float32)\n",
      "tf.Tensor([[1.3778099]], shape=(1, 1), dtype=float32)\n",
      "tf.Tensor([[1.4089509]], shape=(1, 1), dtype=float32)\n",
      "tf.Tensor([[1.3779715]], shape=(1, 1), dtype=float32)\n",
      "tf.Tensor([[1.2938068]], shape=(1, 1), dtype=float32)\n",
      "tf.Tensor([[1.1673632]], shape=(1, 1), dtype=float32)\n",
      "tf.Tensor([[1.010586]], shape=(1, 1), dtype=float32)\n",
      "tf.Tensor([[0.8357308]], shape=(1, 1), dtype=float32)\n",
      "tf.Tensor([[0.6547682]], shape=(1, 1), dtype=float32)\n",
      "tf.Tensor([[0.47885633]], shape=(1, 1), dtype=float32)\n",
      "tf.Tensor([[0.31784368]], shape=(1, 1), dtype=float32)\n",
      "tf.Tensor([[0.17981887]], shape=(1, 1), dtype=float32)\n",
      "tf.Tensor([[0.07074952]], shape=(1, 1), dtype=float32)\n",
      "tf.Tensor([[-0.00572658]], shape=(1, 1), dtype=float32)\n",
      "tf.Tensor([[-0.04832602]], shape=(1, 1), dtype=float32)\n",
      "tf.Tensor([[-0.05795979]], shape=(1, 1), dtype=float32)\n",
      "tf.Tensor([[-0.03742766]], shape=(1, 1), dtype=float32)\n",
      "tf.Tensor([[0.00897622]], shape=(1, 1), dtype=float32)\n",
      "tf.Tensor([[0.07589579]], shape=(1, 1), dtype=float32)\n",
      "tf.Tensor([[0.15733838]], shape=(1, 1), dtype=float32)\n",
      "tf.Tensor([[0.24708009]], shape=(1, 1), dtype=float32)\n",
      "tf.Tensor([[0.33903313]], shape=(1, 1), dtype=float32)\n",
      "tf.Tensor([[0.4275713]], shape=(1, 1), dtype=float32)\n",
      "tf.Tensor([[0.5078094]], shape=(1, 1), dtype=float32)\n",
      "tf.Tensor([[0.57581854]], shape=(1, 1), dtype=float32)\n",
      "tf.Tensor([[0.6287737]], shape=(1, 1), dtype=float32)\n",
      "tf.Tensor([[0.6650202]], shape=(1, 1), dtype=float32)\n",
      "tf.Tensor([[0.6840627]], shape=(1, 1), dtype=float32)\n",
      "tf.Tensor([[0.6864805]], shape=(1, 1), dtype=float32)\n",
      "tf.Tensor([[0.6737833]], shape=(1, 1), dtype=float32)\n",
      "tf.Tensor([[0.64822555]], shape=(1, 1), dtype=float32)\n",
      "tf.Tensor([[0.6125982]], shape=(1, 1), dtype=float32)\n",
      "tf.Tensor([[0.57000875]], shape=(1, 1), dtype=float32)\n",
      "tf.Tensor([[0.5236702]], shape=(1, 1), dtype=float32)\n",
      "tf.Tensor([[0.47670174]], shape=(1, 1), dtype=float32)\n",
      "tf.Tensor([[0.4319558]], shape=(1, 1), dtype=float32)\n",
      "tf.Tensor([[0.3918767]], shape=(1, 1), dtype=float32)\n",
      "tf.Tensor([[0.35839224]], shape=(1, 1), dtype=float32)\n",
      "tf.Tensor([[0.33285046]], shape=(1, 1), dtype=float32)\n",
      "tf.Tensor([[0.31599355]], shape=(1, 1), dtype=float32)\n",
      "tf.Tensor([[0.30797148]], shape=(1, 1), dtype=float32)\n",
      "tf.Tensor([[0.30839205]], shape=(1, 1), dtype=float32)\n",
      "tf.Tensor([[0.31639695]], shape=(1, 1), dtype=float32)\n",
      "tf.Tensor([[0.33075833]], shape=(1, 1), dtype=float32)\n",
      "tf.Tensor([[0.3499894]], shape=(1, 1), dtype=float32)\n",
      "tf.Tensor([[0.37245798]], shape=(1, 1), dtype=float32)\n",
      "tf.Tensor([[0.39649844]], shape=(1, 1), dtype=float32)\n",
      "tf.Tensor([[0.42051315]], shape=(1, 1), dtype=float32)\n",
      "tf.Tensor([[0.4430616]], shape=(1, 1), dtype=float32)\n",
      "tf.Tensor([[0.46293283]], shape=(1, 1), dtype=float32)\n",
      "tf.Tensor([[0.47919464]], shape=(1, 1), dtype=float32)\n",
      "tf.Tensor([[0.49122262]], shape=(1, 1), dtype=float32)\n",
      "tf.Tensor([[0.49870872]], shape=(1, 1), dtype=float32)\n",
      "tf.Tensor([[0.5016484]], shape=(1, 1), dtype=float32)\n",
      "tf.Tensor([[0.50031257]], shape=(1, 1), dtype=float32)\n",
      "tf.Tensor([[0.49520302]], shape=(1, 1), dtype=float32)\n",
      "tf.Tensor([[0.48700047]], shape=(1, 1), dtype=float32)\n",
      "tf.Tensor([[0.47650647]], shape=(1, 1), dtype=float32)\n",
      "tf.Tensor([[0.46458173]], shape=(1, 1), dtype=float32)\n",
      "tf.Tensor([[0.45209074]], shape=(1, 1), dtype=float32)\n",
      "tf.Tensor([[0.43984675]], shape=(1, 1), dtype=float32)\n",
      "tf.Tensor([[0.42856908]], shape=(1, 1), dtype=float32)\n",
      "tf.Tensor([[0.41884804]], shape=(1, 1), dtype=float32)\n",
      "tf.Tensor([[0.41112208]], shape=(1, 1), dtype=float32)\n",
      "tf.Tensor([[0.40566492]], shape=(1, 1), dtype=float32)\n",
      "tf.Tensor([[0.4025855]], shape=(1, 1), dtype=float32)\n",
      "tf.Tensor([[0.40183783]], shape=(1, 1), dtype=float32)\n",
      "tf.Tensor([[0.40323782]], shape=(1, 1), dtype=float32)\n",
      "tf.Tensor([[0.40648818]], shape=(1, 1), dtype=float32)\n",
      "tf.Tensor([[0.4112079]], shape=(1, 1), dtype=float32)\n",
      "tf.Tensor([[0.41696382]], shape=(1, 1), dtype=float32)\n",
      "tf.Tensor([[0.42330098]], shape=(1, 1), dtype=float32)\n",
      "tf.Tensor([[0.4297738]], shape=(1, 1), dtype=float32)\n",
      "tf.Tensor([[0.4359722]], shape=(1, 1), dtype=float32)\n",
      "tf.Tensor([[0.4415419]], shape=(1, 1), dtype=float32)\n",
      "tf.Tensor([[0.44620323]], shape=(1, 1), dtype=float32)\n",
      "tf.Tensor([[0.4497583]], shape=(1, 1), dtype=float32)\n",
      "tf.Tensor([[0.45209813]], shape=(1, 1), dtype=float32)\n",
      "tf.Tensor([[0.45319724]], shape=(1, 1), dtype=float32)\n",
      "tf.Tensor([[0.45311093]], shape=(1, 1), dtype=float32)\n",
      "tf.Tensor([[0.4519608]], shape=(1, 1), dtype=float32)\n",
      "tf.Tensor([[0.44992256]], shape=(1, 1), dtype=float32)\n",
      "tf.Tensor([[0.44721007]], shape=(1, 1), dtype=float32)\n",
      "tf.Tensor([[0.44405723]], shape=(1, 1), dtype=float32)\n",
      "tf.Tensor([[0.44070292]], shape=(1, 1), dtype=float32)\n",
      "tf.Tensor([[0.4373746]], shape=(1, 1), dtype=float32)\n",
      "tf.Tensor([[0.43427658]], shape=(1, 1), dtype=float32)\n",
      "tf.Tensor([[0.43157792]], shape=(1, 1), dtype=float32)\n",
      "tf.Tensor([[0.42940712]], shape=(1, 1), dtype=float32)\n",
      "tf.Tensor([[0.42784715]], shape=(1, 1), dtype=float32)\n",
      "tf.Tensor([[0.9660493]], shape=(1, 1), dtype=float32)\n",
      "tf.Tensor([[0.8923874]], shape=(1, 1), dtype=float32)\n",
      "tf.Tensor([[0.758602]], shape=(1, 1), dtype=float32)\n",
      "tf.Tensor([[0.578269]], shape=(1, 1), dtype=float32)\n",
      "tf.Tensor([[0.36508155]], shape=(1, 1), dtype=float32)\n",
      "tf.Tensor([[0.13239837]], shape=(1, 1), dtype=float32)\n",
      "tf.Tensor([[-0.10707569]], shape=(1, 1), dtype=float32)\n",
      "tf.Tensor([[-0.34158087]], shape=(1, 1), dtype=float32)\n",
      "tf.Tensor([[-0.5606208]], shape=(1, 1), dtype=float32)\n",
      "tf.Tensor([[-0.7553052]], shape=(1, 1), dtype=float32)\n",
      "tf.Tensor([[-0.9186739]], shape=(1, 1), dtype=float32)\n",
      "tf.Tensor([[-1.0459362]], shape=(1, 1), dtype=float32)\n",
      "tf.Tensor([[-1.1345685]], shape=(1, 1), dtype=float32)\n",
      "tf.Tensor([[-1.1842425]], shape=(1, 1), dtype=float32)\n",
      "tf.Tensor([[-1.1966075]], shape=(1, 1), dtype=float32)\n",
      "tf.Tensor([[-1.1749588]], shape=(1, 1), dtype=float32)\n",
      "tf.Tensor([[-1.123861]], shape=(1, 1), dtype=float32)\n",
      "tf.Tensor([[-1.048763]], shape=(1, 1), dtype=float32)\n",
      "tf.Tensor([[-0.9556391]], shape=(1, 1), dtype=float32)\n",
      "tf.Tensor([[-0.8506633]], shape=(1, 1), dtype=float32)\n",
      "tf.Tensor([[-0.739925]], shape=(1, 1), dtype=float32)\n",
      "tf.Tensor([[-0.629176]], shape=(1, 1), dtype=float32)\n",
      "tf.Tensor([[-0.5236131]], shape=(1, 1), dtype=float32)\n",
      "tf.Tensor([[-0.42769575]], shape=(1, 1), dtype=float32)\n",
      "tf.Tensor([[-0.3450055]], shape=(1, 1), dtype=float32)\n",
      "tf.Tensor([[-0.27815485]], shape=(1, 1), dtype=float32)\n",
      "tf.Tensor([[-0.22874808]], shape=(1, 1), dtype=float32)\n",
      "tf.Tensor([[-0.19739938]], shape=(1, 1), dtype=float32)\n",
      "tf.Tensor([[-0.18379831]], shape=(1, 1), dtype=float32)\n",
      "tf.Tensor([[-0.1868205]], shape=(1, 1), dtype=float32)\n",
      "tf.Tensor([[-0.2046647]], shape=(1, 1), dtype=float32)\n",
      "tf.Tensor([[-0.23500896]], shape=(1, 1), dtype=float32)\n",
      "tf.Tensor([[-0.2751751]], shape=(1, 1), dtype=float32)\n",
      "tf.Tensor([[-0.3222897]], shape=(1, 1), dtype=float32)\n",
      "tf.Tensor([[-0.3734362]], shape=(1, 1), dtype=float32)\n",
      "tf.Tensor([[-0.42579556]], shape=(1, 1), dtype=float32)\n",
      "tf.Tensor([[-0.4767667]], shape=(1, 1), dtype=float32)\n",
      "tf.Tensor([[-0.5240679]], shape=(1, 1), dtype=float32)\n",
      "tf.Tensor([[-0.56581235]], shape=(1, 1), dtype=float32)\n",
      "tf.Tensor([[-0.60056174]], shape=(1, 1), dtype=float32)\n",
      "tf.Tensor([[-0.6273501]], shape=(1, 1), dtype=float32)\n",
      "tf.Tensor([[-0.64568603]], shape=(1, 1), dtype=float32)\n",
      "tf.Tensor([[-0.655529]], shape=(1, 1), dtype=float32)\n",
      "tf.Tensor([[-0.65724874]], shape=(1, 1), dtype=float32)\n",
      "tf.Tensor([[-0.6515657]], shape=(1, 1), dtype=float32)\n",
      "tf.Tensor([[-0.6394824]], shape=(1, 1), dtype=float32)\n",
      "tf.Tensor([[-0.62220883]], shape=(1, 1), dtype=float32)\n",
      "tf.Tensor([[-0.6010829]], shape=(1, 1), dtype=float32)\n",
      "tf.Tensor([[-0.5774963]], shape=(1, 1), dtype=float32)\n",
      "tf.Tensor([[-0.5528207]], shape=(1, 1), dtype=float32)\n",
      "tf.Tensor([[-0.5283458]], shape=(1, 1), dtype=float32)\n",
      "tf.Tensor([[-0.5052265]], shape=(1, 1), dtype=float32)\n",
      "tf.Tensor([[-0.48443866]], shape=(1, 1), dtype=float32)\n",
      "tf.Tensor([[-0.4667518]], shape=(1, 1), dtype=float32)\n",
      "tf.Tensor([[-0.452711]], shape=(1, 1), dtype=float32)\n",
      "tf.Tensor([[-0.4426329]], shape=(1, 1), dtype=float32)\n",
      "tf.Tensor([[-0.43661237]], shape=(1, 1), dtype=float32)\n",
      "tf.Tensor([[-0.4345398]], shape=(1, 1), dtype=float32)\n",
      "tf.Tensor([[-0.43612504]], shape=(1, 1), dtype=float32)\n",
      "tf.Tensor([[-0.4409318]], shape=(1, 1), dtype=float32)\n",
      "tf.Tensor([[-0.44840956]], shape=(1, 1), dtype=float32)\n",
      "tf.Tensor([[-0.45793355]], shape=(1, 1), dtype=float32)\n",
      "tf.Tensor([[-0.4688413]], shape=(1, 1), dtype=float32)\n",
      "tf.Tensor([[-0.48046803]], shape=(1, 1), dtype=float32)\n",
      "tf.Tensor([[-0.49217916]], shape=(1, 1), dtype=float32)\n",
      "tf.Tensor([[-0.5033984]], shape=(1, 1), dtype=float32)\n",
      "tf.Tensor([[-0.5136297]], shape=(1, 1), dtype=float32)\n",
      "tf.Tensor([[-0.522473]], shape=(1, 1), dtype=float32)\n",
      "tf.Tensor([[-0.5296353]], shape=(1, 1), dtype=float32)\n",
      "tf.Tensor([[-0.5349339]], shape=(1, 1), dtype=float32)\n",
      "tf.Tensor([[-0.5382943]], shape=(1, 1), dtype=float32)\n",
      "tf.Tensor([[-0.5397434]], shape=(1, 1), dtype=float32)\n",
      "tf.Tensor([[-0.53939927]], shape=(1, 1), dtype=float32)\n",
      "tf.Tensor([[-0.5374557]], shape=(1, 1), dtype=float32)\n",
      "tf.Tensor([[-0.5341648]], shape=(1, 1), dtype=float32)\n",
      "tf.Tensor([[-0.52982056]], shape=(1, 1), dtype=float32)\n",
      "tf.Tensor([[-0.5247396]], shape=(1, 1), dtype=float32)\n",
      "tf.Tensor([[-0.5192431]], shape=(1, 1), dtype=float32)\n",
      "tf.Tensor([[-0.5136415]], shape=(1, 1), dtype=float32)\n",
      "tf.Tensor([[-0.5082201]], shape=(1, 1), dtype=float32)\n",
      "tf.Tensor([[-0.5032269]], shape=(1, 1), dtype=float32)\n",
      "tf.Tensor([[-0.49886537]], shape=(1, 1), dtype=float32)\n",
      "tf.Tensor([[-0.49528742]], shape=(1, 1), dtype=float32)\n",
      "tf.Tensor([[-0.49259198]], shape=(1, 1), dtype=float32)\n",
      "tf.Tensor([[-0.49082506]], shape=(1, 1), dtype=float32)\n",
      "tf.Tensor([[-0.48998165]], shape=(1, 1), dtype=float32)\n",
      "tf.Tensor([[-0.49001276]], shape=(1, 1), dtype=float32)\n",
      "tf.Tensor([[-0.49083066]], shape=(1, 1), dtype=float32)\n",
      "tf.Tensor([[-0.49231708]], shape=(1, 1), dtype=float32)\n",
      "tf.Tensor([[-0.49433303]], shape=(1, 1), dtype=float32)\n",
      "tf.Tensor([[-0.49672592]], shape=(1, 1), dtype=float32)\n",
      "tf.Tensor([[-0.49934077]], shape=(1, 1), dtype=float32)\n",
      "tf.Tensor([[-0.5020257]], shape=(1, 1), dtype=float32)\n",
      "tf.Tensor([[-0.5046406]], shape=(1, 1), dtype=float32)\n",
      "tf.Tensor([[-0.5070629]], shape=(1, 1), dtype=float32)\n",
      "tf.Tensor([[-0.50919116]], shape=(1, 1), dtype=float32)\n",
      "tf.Tensor([[-0.5109483]], shape=(1, 1), dtype=float32)\n",
      "tf.Tensor([[-0.5122838]], shape=(1, 1), dtype=float32)\n",
      "tf.Tensor([[-0.51317275]], shape=(1, 1), dtype=float32)\n",
      "tf.Tensor([[-0.51361454]], shape=(1, 1), dtype=float32)\n",
      "tf.Tensor([[-0.9595195]], shape=(1, 1), dtype=float32)\n",
      "tf.Tensor([[-0.9074464]], shape=(1, 1), dtype=float32)\n",
      "tf.Tensor([[-0.811944]], shape=(1, 1), dtype=float32)\n",
      "tf.Tensor([[-0.6830251]], shape=(1, 1), dtype=float32)\n",
      "tf.Tensor([[-0.5313494]], shape=(1, 1), dtype=float32)\n",
      "tf.Tensor([[-0.36763978]], shape=(1, 1), dtype=float32)\n",
      "tf.Tensor([[-0.20218015]], shape=(1, 1), dtype=float32)\n",
      "tf.Tensor([[-0.04436803]], shape=(1, 1), dtype=float32)\n",
      "tf.Tensor([[0.09769177]], shape=(1, 1), dtype=float32)\n",
      "tf.Tensor([[0.21752667]], shape=(1, 1), dtype=float32)\n",
      "tf.Tensor([[0.3105409]], shape=(1, 1), dtype=float32)\n",
      "tf.Tensor([[0.37412763]], shape=(1, 1), dtype=float32)\n",
      "tf.Tensor([[0.40763855]], shape=(1, 1), dtype=float32)\n",
      "tf.Tensor([[0.41222072]], shape=(1, 1), dtype=float32)\n",
      "tf.Tensor([[0.39055133]], shape=(1, 1), dtype=float32)\n",
      "tf.Tensor([[0.34650898]], shape=(1, 1), dtype=float32)\n",
      "tf.Tensor([[0.28482032]], shape=(1, 1), dtype=float32)\n",
      "tf.Tensor([[0.21070838]], shape=(1, 1), dtype=float32)\n",
      "tf.Tensor([[0.12955761]], shape=(1, 1), dtype=float32)\n",
      "tf.Tensor([[0.04661131]], shape=(1, 1), dtype=float32)\n",
      "tf.Tensor([[-0.03329992]], shape=(1, 1), dtype=float32)\n",
      "tf.Tensor([[-0.10598111]], shape=(1, 1), dtype=float32)\n",
      "tf.Tensor([[-0.16804934]], shape=(1, 1), dtype=float32)\n",
      "tf.Tensor([[-0.21704793]], shape=(1, 1), dtype=float32)\n",
      "tf.Tensor([[-0.2514999]], shape=(1, 1), dtype=float32)\n",
      "tf.Tensor([[-0.27089858]], shape=(1, 1), dtype=float32)\n",
      "tf.Tensor([[-0.27564096]], shape=(1, 1), dtype=float32)\n",
      "tf.Tensor([[-0.26691484]], shape=(1, 1), dtype=float32)\n",
      "tf.Tensor([[-0.24655104]], shape=(1, 1), dtype=float32)\n",
      "tf.Tensor([[-0.21685433]], shape=(1, 1), dtype=float32)\n",
      "tf.Tensor([[-0.18042803]], shape=(1, 1), dtype=float32)\n",
      "tf.Tensor([[-0.13999605]], shape=(1, 1), dtype=float32)\n",
      "tf.Tensor([[-0.09824181]], shape=(1, 1), dtype=float32)\n",
      "tf.Tensor([[-0.05766058]], shape=(1, 1), dtype=float32)\n",
      "tf.Tensor([[-0.020437]], shape=(1, 1), dtype=float32)\n",
      "tf.Tensor([[0.01164722]], shape=(1, 1), dtype=float32)\n",
      "tf.Tensor([[0.03727603]], shape=(1, 1), dtype=float32)\n",
      "tf.Tensor([[0.05562854]], shape=(1, 1), dtype=float32)\n",
      "tf.Tensor([[0.06637955]], shape=(1, 1), dtype=float32)\n",
      "tf.Tensor([[0.06966734]], shape=(1, 1), dtype=float32)\n",
      "tf.Tensor([[0.06604218]], shape=(1, 1), dtype=float32)\n",
      "tf.Tensor([[0.05639362]], shape=(1, 1), dtype=float32)\n",
      "tf.Tensor([[0.04186654]], shape=(1, 1), dtype=float32)\n",
      "tf.Tensor([[0.023772]], shape=(1, 1), dtype=float32)\n",
      "tf.Tensor([[0.00349522]], shape=(1, 1), dtype=float32)\n",
      "tf.Tensor([[-0.01759005]], shape=(1, 1), dtype=float32)\n",
      "tf.Tensor([[-0.03819799]], shape=(1, 1), dtype=float32)\n",
      "tf.Tensor([[-0.05719614]], shape=(1, 1), dtype=float32)\n",
      "tf.Tensor([[-0.07365513]], shape=(1, 1), dtype=float32)\n",
      "tf.Tensor([[-0.08688164]], shape=(1, 1), dtype=float32)\n",
      "tf.Tensor([[-0.09643555]], shape=(1, 1), dtype=float32)\n",
      "tf.Tensor([[-0.10213065]], shape=(1, 1), dtype=float32)\n",
      "tf.Tensor([[-0.10402012]], shape=(1, 1), dtype=float32)\n",
      "tf.Tensor([[-0.10237122]], shape=(1, 1), dtype=float32)\n",
      "tf.Tensor([[-0.09762788]], shape=(1, 1), dtype=float32)\n",
      "tf.Tensor([[-0.09036851]], shape=(1, 1), dtype=float32)\n",
      "tf.Tensor([[-0.08125973]], shape=(1, 1), dtype=float32)\n",
      "tf.Tensor([[-0.07100916]], shape=(1, 1), dtype=float32)\n",
      "tf.Tensor([[-0.06032133]], shape=(1, 1), dtype=float32)\n",
      "tf.Tensor([[-0.04985619]], shape=(1, 1), dtype=float32)\n",
      "tf.Tensor([[-0.0401969]], shape=(1, 1), dtype=float32)\n",
      "tf.Tensor([[-0.03182292]], shape=(1, 1), dtype=float32)\n",
      "tf.Tensor([[-0.02509212]], shape=(1, 1), dtype=float32)\n",
      "tf.Tensor([[-0.02023196]], shape=(1, 1), dtype=float32)\n",
      "tf.Tensor([[-0.01734018]], shape=(1, 1), dtype=float32)\n",
      "tf.Tensor([[-0.01639009]], shape=(1, 1), dtype=float32)\n",
      "tf.Tensor([[-0.01724553]], shape=(1, 1), dtype=float32)\n",
      "tf.Tensor([[-0.01967859]], shape=(1, 1), dtype=float32)\n",
      "tf.Tensor([[-0.0233922]], shape=(1, 1), dtype=float32)\n",
      "tf.Tensor([[-0.02804399]], shape=(1, 1), dtype=float32)\n",
      "tf.Tensor([[-0.03327036]], shape=(1, 1), dtype=float32)\n",
      "tf.Tensor([[-0.03870988]], shape=(1, 1), dtype=float32)\n",
      "tf.Tensor([[-0.04402471]], shape=(1, 1), dtype=float32)\n",
      "tf.Tensor([[-0.04891634]], shape=(1, 1), dtype=float32)\n",
      "tf.Tensor([[-0.05314136]], shape=(1, 1), dtype=float32)\n",
      "tf.Tensor([[-0.05651832]], shape=(1, 1), dtype=float32)\n",
      "tf.Tensor([[-0.05893326]], shape=(1, 1), dtype=float32)\n",
      "tf.Tensor([[-0.06033969]], shape=(1, 1), dtype=float32)\n",
      "tf.Tensor([[-0.0607543]], shape=(1, 1), dtype=float32)\n",
      "tf.Tensor([[-0.06025147]], shape=(1, 1), dtype=float32)\n",
      "tf.Tensor([[-0.05895066]], shape=(1, 1), dtype=float32)\n",
      "tf.Tensor([[-0.05700684]], shape=(1, 1), dtype=float32)\n",
      "tf.Tensor([[-0.05459809]], shape=(1, 1), dtype=float32)\n",
      "tf.Tensor([[-0.05191183]], shape=(1, 1), dtype=float32)\n",
      "tf.Tensor([[-0.0491333]], shape=(1, 1), dtype=float32)\n",
      "tf.Tensor([[-0.04643536]], shape=(1, 1), dtype=float32)\n",
      "tf.Tensor([[-0.04396915]], shape=(1, 1), dtype=float32)\n",
      "tf.Tensor([[-0.04185748]], shape=(1, 1), dtype=float32)\n",
      "tf.Tensor([[-0.04018974]], shape=(1, 1), dtype=float32)\n",
      "tf.Tensor([[-0.03902078]], shape=(1, 1), dtype=float32)\n",
      "tf.Tensor([[-0.03837037]], shape=(1, 1), dtype=float32)\n",
      "tf.Tensor([[-0.03822589]], shape=(1, 1), dtype=float32)\n",
      "tf.Tensor([[-0.03854632]], shape=(1, 1), dtype=float32)\n",
      "tf.Tensor([[-0.03926635]], shape=(1, 1), dtype=float32)\n",
      "tf.Tensor([[-0.04030395]], shape=(1, 1), dtype=float32)\n",
      "tf.Tensor([[-0.04156637]], shape=(1, 1), dtype=float32)\n",
      "tf.Tensor([[-0.04295635]], shape=(1, 1), dtype=float32)\n",
      "tf.Tensor([[-0.044379]], shape=(1, 1), dtype=float32)\n",
      "tf.Tensor([[-0.04574585]], shape=(1, 1), dtype=float32)\n",
      "tf.Tensor([[-0.04698157]], shape=(1, 1), dtype=float32)\n",
      "tf.Tensor([[2.9283583]], shape=(1, 1), dtype=float32)\n",
      "tf.Tensor([[2.910549]], shape=(1, 1), dtype=float32)\n",
      "tf.Tensor([[2.8777738]], shape=(1, 1), dtype=float32)\n",
      "tf.Tensor([[2.832646]], shape=(1, 1), dtype=float32)\n",
      "tf.Tensor([[2.7779112]], shape=(1, 1), dtype=float32)\n",
      "tf.Tensor([[2.716347]], shape=(1, 1), dtype=float32)\n",
      "tf.Tensor([[2.6506705]], shape=(1, 1), dtype=float32)\n",
      "tf.Tensor([[2.5834615]], shape=(1, 1), dtype=float32)\n",
      "tf.Tensor([[2.517097]], shape=(1, 1), dtype=float32)\n",
      "tf.Tensor([[2.4536936]], shape=(1, 1), dtype=float32)\n",
      "tf.Tensor([[2.3950672]], shape=(1, 1), dtype=float32)\n",
      "tf.Tensor([[2.342699]], shape=(1, 1), dtype=float32)\n",
      "tf.Tensor([[2.2977204]], shape=(1, 1), dtype=float32)\n",
      "tf.Tensor([[2.2609048]], shape=(1, 1), dtype=float32)\n",
      "tf.Tensor([[2.2326777]], shape=(1, 1), dtype=float32)\n",
      "tf.Tensor([[2.213134]], shape=(1, 1), dtype=float32)\n",
      "tf.Tensor([[2.2020679]], shape=(1, 1), dtype=float32)\n",
      "tf.Tensor([[2.1990085]], shape=(1, 1), dtype=float32)\n",
      "tf.Tensor([[2.203264]], shape=(1, 1), dtype=float32)\n",
      "tf.Tensor([[2.2139657]], shape=(1, 1), dtype=float32)\n",
      "tf.Tensor([[2.2301154]], shape=(1, 1), dtype=float32)\n",
      "tf.Tensor([[2.2506325]], shape=(1, 1), dtype=float32)\n",
      "tf.Tensor([[2.2743971]], shape=(1, 1), dtype=float32)\n",
      "tf.Tensor([[2.3002918]], shape=(1, 1), dtype=float32)\n",
      "tf.Tensor([[2.3272374]], shape=(1, 1), dtype=float32)\n",
      "tf.Tensor([[2.354226]], shape=(1, 1), dtype=float32)\n",
      "tf.Tensor([[2.380347]], shape=(1, 1), dtype=float32)\n",
      "tf.Tensor([[2.404808]], shape=(1, 1), dtype=float32)\n",
      "tf.Tensor([[2.4269495]], shape=(1, 1), dtype=float32)\n",
      "tf.Tensor([[2.4462547]], shape=(1, 1), dtype=float32)\n",
      "tf.Tensor([[2.4623523]], shape=(1, 1), dtype=float32)\n",
      "tf.Tensor([[2.475016]], shape=(1, 1), dtype=float32)\n",
      "tf.Tensor([[2.4841573]], shape=(1, 1), dtype=float32)\n",
      "tf.Tensor([[2.489815]], shape=(1, 1), dtype=float32)\n",
      "tf.Tensor([[2.4921417]], shape=(1, 1), dtype=float32)\n",
      "tf.Tensor([[2.4913883]], shape=(1, 1), dtype=float32)\n",
      "tf.Tensor([[2.487884]], shape=(1, 1), dtype=float32)\n",
      "tf.Tensor([[2.4820194]], shape=(1, 1), dtype=float32)\n",
      "tf.Tensor([[2.4742265]], shape=(1, 1), dtype=float32)\n",
      "tf.Tensor([[2.4649599]], shape=(1, 1), dtype=float32)\n",
      "tf.Tensor([[2.4546795]], shape=(1, 1), dtype=float32)\n",
      "tf.Tensor([[2.4438345]], shape=(1, 1), dtype=float32)\n",
      "tf.Tensor([[2.4328494]], shape=(1, 1), dtype=float32)\n",
      "tf.Tensor([[2.4221115]], shape=(1, 1), dtype=float32)\n",
      "tf.Tensor([[2.411962]], shape=(1, 1), dtype=float32)\n",
      "tf.Tensor([[2.4026883]], shape=(1, 1), dtype=float32)\n",
      "tf.Tensor([[2.3945203]], shape=(1, 1), dtype=float32)\n",
      "tf.Tensor([[2.3876271]], shape=(1, 1), dtype=float32)\n",
      "tf.Tensor([[2.382119]], shape=(1, 1), dtype=float32)\n",
      "tf.Tensor([[2.3780468]], shape=(1, 1), dtype=float32)\n",
      "tf.Tensor([[2.3754082]], shape=(1, 1), dtype=float32)\n",
      "tf.Tensor([[2.3741522]], shape=(1, 1), dtype=float32)\n",
      "tf.Tensor([[2.3741848]], shape=(1, 1), dtype=float32)\n",
      "tf.Tensor([[2.3753784]], shape=(1, 1), dtype=float32)\n",
      "tf.Tensor([[2.3775768]], shape=(1, 1), dtype=float32)\n",
      "tf.Tensor([[2.380606]], shape=(1, 1), dtype=float32)\n",
      "tf.Tensor([[2.3842793]], shape=(1, 1), dtype=float32)\n",
      "tf.Tensor([[2.3884075]], shape=(1, 1), dtype=float32)\n",
      "tf.Tensor([[2.3928034]], shape=(1, 1), dtype=float32)\n",
      "tf.Tensor([[2.3972895]], shape=(1, 1), dtype=float32)\n",
      "tf.Tensor([[2.4017024]], shape=(1, 1), dtype=float32)\n",
      "tf.Tensor([[2.4058974]], shape=(1, 1), dtype=float32)\n",
      "tf.Tensor([[2.409751]], shape=(1, 1), dtype=float32)\n",
      "tf.Tensor([[2.4131641]], shape=(1, 1), dtype=float32)\n",
      "tf.Tensor([[2.4160624]], shape=(1, 1), dtype=float32)\n",
      "tf.Tensor([[2.4183962]], shape=(1, 1), dtype=float32)\n",
      "tf.Tensor([[2.420141]], shape=(1, 1), dtype=float32)\n",
      "tf.Tensor([[2.4212942]], shape=(1, 1), dtype=float32)\n",
      "tf.Tensor([[2.4218743]], shape=(1, 1), dtype=float32)\n",
      "tf.Tensor([[2.421918]], shape=(1, 1), dtype=float32)\n",
      "tf.Tensor([[2.4214764]], shape=(1, 1), dtype=float32)\n",
      "tf.Tensor([[2.4206128]], shape=(1, 1), dtype=float32)\n",
      "tf.Tensor([[2.4193993]], shape=(1, 1), dtype=float32)\n",
      "tf.Tensor([[2.417912]], shape=(1, 1), dtype=float32)\n",
      "tf.Tensor([[2.41623]], shape=(1, 1), dtype=float32)\n",
      "tf.Tensor([[2.4144309]], shape=(1, 1), dtype=float32)\n",
      "tf.Tensor([[2.4125888]], shape=(1, 1), dtype=float32)\n",
      "tf.Tensor([[2.4107728]], shape=(1, 1), dtype=float32)\n",
      "tf.Tensor([[2.4090428]], shape=(1, 1), dtype=float32)\n",
      "tf.Tensor([[2.4074514]], shape=(1, 1), dtype=float32)\n",
      "tf.Tensor([[2.4060402]], shape=(1, 1), dtype=float32)\n",
      "tf.Tensor([[2.404841]], shape=(1, 1), dtype=float32)\n",
      "tf.Tensor([[2.4038744]], shape=(1, 1), dtype=float32)\n",
      "tf.Tensor([[2.4031515]], shape=(1, 1), dtype=float32)\n",
      "tf.Tensor([[2.4026737]], shape=(1, 1), dtype=float32)\n",
      "tf.Tensor([[2.4024334]], shape=(1, 1), dtype=float32)\n",
      "tf.Tensor([[2.4024155]], shape=(1, 1), dtype=float32)\n",
      "tf.Tensor([[2.4025989]], shape=(1, 1), dtype=float32)\n",
      "tf.Tensor([[2.4029572]], shape=(1, 1), dtype=float32)\n",
      "tf.Tensor([[2.4034605]], shape=(1, 1), dtype=float32)\n",
      "tf.Tensor([[2.4040766]], shape=(1, 1), dtype=float32)\n",
      "tf.Tensor([[2.4047732]], shape=(1, 1), dtype=float32)\n",
      "tf.Tensor([[2.4055173]], shape=(1, 1), dtype=float32)\n",
      "tf.Tensor([[2.4062781]], shape=(1, 1), dtype=float32)\n",
      "tf.Tensor([[2.4070272]], shape=(1, 1), dtype=float32)\n",
      "tf.Tensor([[2.4077394]], shape=(1, 1), dtype=float32)\n",
      "tf.Tensor([[2.408393]], shape=(1, 1), dtype=float32)\n",
      "tf.Tensor([[2.4089706]], shape=(1, 1), dtype=float32)\n",
      "tf.Tensor([[2.4094594]], shape=(1, 1), dtype=float32)\n",
      "tf.Tensor([[2.409851]], shape=(1, 1), dtype=float32)\n",
      "tf.Tensor([[-0.85619175]], shape=(1, 1), dtype=float32)\n",
      "tf.Tensor([[-0.8615866]], shape=(1, 1), dtype=float32)\n",
      "tf.Tensor([[-0.87165236]], shape=(1, 1), dtype=float32)\n",
      "tf.Tensor([[-0.8851869]], shape=(1, 1), dtype=float32)\n",
      "tf.Tensor([[-0.90085065]], shape=(1, 1), dtype=float32)\n",
      "tf.Tensor([[-0.9172795]], shape=(1, 1), dtype=float32)\n",
      "tf.Tensor([[-0.9331857]], shape=(1, 1), dtype=float32)\n",
      "tf.Tensor([[-0.94744766]], shape=(1, 1), dtype=float32)\n",
      "tf.Tensor([[-0.9591738]], shape=(1, 1), dtype=float32)\n",
      "tf.Tensor([[-0.9677483]], shape=(1, 1), dtype=float32)\n",
      "tf.Tensor([[-0.9728476]], shape=(1, 1), dtype=float32)\n",
      "tf.Tensor([[-0.9744376]], shape=(1, 1), dtype=float32)\n",
      "tf.Tensor([[-0.9727472]], shape=(1, 1), dtype=float32)\n",
      "tf.Tensor([[-0.9682256]], shape=(1, 1), dtype=float32)\n",
      "tf.Tensor([[-0.9614879]], shape=(1, 1), dtype=float32)\n",
      "tf.Tensor([[-0.9532529]], shape=(1, 1), dtype=float32)\n",
      "tf.Tensor([[-0.9442798]], shape=(1, 1), dtype=float32)\n",
      "tf.Tensor([[-0.9353088]], shape=(1, 1), dtype=float32)\n",
      "tf.Tensor([[-0.92700624]], shape=(1, 1), dtype=float32)\n",
      "tf.Tensor([[-0.9199246]], shape=(1, 1), dtype=float32)\n",
      "tf.Tensor([[-0.91447055]], shape=(1, 1), dtype=float32)\n",
      "tf.Tensor([[-0.91088974]], shape=(1, 1), dtype=float32)\n",
      "tf.Tensor([[-0.9092647]], shape=(1, 1), dtype=float32)\n",
      "tf.Tensor([[-0.90952325]], shape=(1, 1), dtype=float32)\n",
      "tf.Tensor([[-0.91146004]], shape=(1, 1), dtype=float32)\n",
      "tf.Tensor([[-0.9147649]], shape=(1, 1), dtype=float32)\n",
      "tf.Tensor([[-0.9190552]], shape=(1, 1), dtype=float32)\n",
      "tf.Tensor([[-0.9239129]], shape=(1, 1), dtype=float32)\n",
      "tf.Tensor([[-0.9289181]], shape=(1, 1), dtype=float32)\n",
      "tf.Tensor([[-0.9336808]], shape=(1, 1), dtype=float32)\n",
      "tf.Tensor([[-0.937868]], shape=(1, 1), dtype=float32)\n",
      "tf.Tensor([[-0.9412222]], shape=(1, 1), dtype=float32)\n",
      "tf.Tensor([[-0.9435737]], shape=(1, 1), dtype=float32)\n",
      "tf.Tensor([[-0.94484496]], shape=(1, 1), dtype=float32)\n",
      "tf.Tensor([[-0.9450469]], shape=(1, 1), dtype=float32)\n",
      "tf.Tensor([[-0.94426966]], shape=(1, 1), dtype=float32)\n",
      "tf.Tensor([[-0.9426689]], shape=(1, 1), dtype=float32)\n",
      "tf.Tensor([[-0.940446]], shape=(1, 1), dtype=float32)\n",
      "tf.Tensor([[-0.9378307]], shape=(1, 1), dtype=float32)\n",
      "tf.Tensor([[-0.93505883]], shape=(1, 1), dtype=float32)\n",
      "tf.Tensor([[-0.93235505]], shape=(1, 1), dtype=float32)\n",
      "tf.Tensor([[-0.92991745]], shape=(1, 1), dtype=float32)\n",
      "tf.Tensor([[-0.92790365]], shape=(1, 1), dtype=float32)\n",
      "tf.Tensor([[-0.9264245]], shape=(1, 1), dtype=float32)\n",
      "tf.Tensor([[-0.9255389]], shape=(1, 1), dtype=float32)\n",
      "tf.Tensor([[-0.92525566]], shape=(1, 1), dtype=float32)\n",
      "tf.Tensor([[-0.9255369]], shape=(1, 1), dtype=float32)\n",
      "tf.Tensor([[-0.9263054]], shape=(1, 1), dtype=float32)\n",
      "tf.Tensor([[-0.9274545]], shape=(1, 1), dtype=float32)\n",
      "tf.Tensor([[-0.9288595]], shape=(1, 1), dtype=float32)\n",
      "tf.Tensor([[-0.93038785]], shape=(1, 1), dtype=float32)\n",
      "tf.Tensor([[-0.9319116]], shape=(1, 1), dtype=float32)\n",
      "tf.Tensor([[-0.9333149]], shape=(1, 1), dtype=float32)\n",
      "tf.Tensor([[-0.93450284]], shape=(1, 1), dtype=float32)\n",
      "tf.Tensor([[-0.93540573]], shape=(1, 1), dtype=float32)\n",
      "tf.Tensor([[-0.9359833]], shape=(1, 1), dtype=float32)\n",
      "tf.Tensor([[-0.93622327]], shape=(1, 1), dtype=float32)\n",
      "tf.Tensor([[-0.93614066]], shape=(1, 1), dtype=float32)\n",
      "tf.Tensor([[-0.9357735]], shape=(1, 1), dtype=float32)\n",
      "tf.Tensor([[-0.9351783]], shape=(1, 1), dtype=float32)\n",
      "tf.Tensor([[-0.93442273]], shape=(1, 1), dtype=float32)\n",
      "tf.Tensor([[-0.93358123]], shape=(1, 1), dtype=float32)\n",
      "tf.Tensor([[-0.93272614]], shape=(1, 1), dtype=float32)\n",
      "tf.Tensor([[-0.9319246]], shape=(1, 1), dtype=float32)\n",
      "tf.Tensor([[-0.93123317]], shape=(1, 1), dtype=float32)\n",
      "tf.Tensor([[-0.93069375]], shape=(1, 1), dtype=float32)\n",
      "tf.Tensor([[-0.93033314]], shape=(1, 1), dtype=float32)\n",
      "tf.Tensor([[-0.93016136]], shape=(1, 1), dtype=float32)\n",
      "tf.Tensor([[-0.9301728]], shape=(1, 1), dtype=float32)\n",
      "tf.Tensor([[-0.9303485]], shape=(1, 1), dtype=float32)\n",
      "tf.Tensor([[-0.93065906]], shape=(1, 1), dtype=float32)\n",
      "tf.Tensor([[-0.93106675]], shape=(1, 1), dtype=float32)\n",
      "tf.Tensor([[-0.93153083]], shape=(1, 1), dtype=float32)\n",
      "tf.Tensor([[-0.93200946]], shape=(1, 1), dtype=float32)\n",
      "tf.Tensor([[-0.93246436]], shape=(1, 1), dtype=float32)\n",
      "tf.Tensor([[-0.932863]], shape=(1, 1), dtype=float32)\n",
      "tf.Tensor([[-0.9331796]], shape=(1, 1), dtype=float32)\n",
      "tf.Tensor([[-0.933398]], shape=(1, 1), dtype=float32)\n",
      "tf.Tensor([[-0.9335109]], shape=(1, 1), dtype=float32)\n",
      "tf.Tensor([[-0.93351984]], shape=(1, 1), dtype=float32)\n",
      "tf.Tensor([[-0.9334346]], shape=(1, 1), dtype=float32)\n",
      "tf.Tensor([[-0.93327117]], shape=(1, 1), dtype=float32)\n",
      "tf.Tensor([[-0.93304956]], shape=(1, 1), dtype=float32)\n",
      "tf.Tensor([[-0.93279326]], shape=(1, 1), dtype=float32)\n",
      "tf.Tensor([[-0.9325253]], shape=(1, 1), dtype=float32)\n",
      "tf.Tensor([[-0.9322678]], shape=(1, 1), dtype=float32)\n",
      "tf.Tensor([[-0.93203986]], shape=(1, 1), dtype=float32)\n",
      "tf.Tensor([[-0.9318563]], shape=(1, 1), dtype=float32)\n",
      "tf.Tensor([[-0.93172705]], shape=(1, 1), dtype=float32)\n",
      "tf.Tensor([[-0.93165696]], shape=(1, 1), dtype=float32)\n",
      "tf.Tensor([[-0.9316454]], shape=(1, 1), dtype=float32)\n",
      "tf.Tensor([[-0.93168795]], shape=(1, 1), dtype=float32)\n",
      "tf.Tensor([[-0.93177545]], shape=(1, 1), dtype=float32)\n",
      "tf.Tensor([[-0.9318967]], shape=(1, 1), dtype=float32)\n",
      "tf.Tensor([[-0.93203926]], shape=(1, 1), dtype=float32)\n",
      "tf.Tensor([[-0.9321892]], shape=(1, 1), dtype=float32)\n",
      "tf.Tensor([[-0.93233466]], shape=(1, 1), dtype=float32)\n",
      "tf.Tensor([[-0.93246436]], shape=(1, 1), dtype=float32)\n",
      "tf.Tensor([[-0.93256974]], shape=(1, 1), dtype=float32)\n",
      "tf.Tensor([[-0.9326447]], shape=(1, 1), dtype=float32)\n"
     ]
    }
   ],
   "source": [
    "train(inputs[:10], outputs[:10], model, epochs=100)"
   ]
  },
  {
   "cell_type": "code",
   "execution_count": 1078,
   "metadata": {},
   "outputs": [
    {
     "data": {
      "text/plain": [
       "<tf.Tensor: shape=(6,), dtype=float32, numpy=\n",
       "array([ 4.3062096 ,  1.6320668 ,  2.0235517 ,  4.5212245 , -1.0618036 ,\n",
       "        0.43575823], dtype=float32)>"
      ]
     },
     "execution_count": 1078,
     "metadata": {},
     "output_type": "execute_result"
    }
   ],
   "source": [
    "outputs[:6]"
   ]
  },
  {
   "cell_type": "code",
   "execution_count": 1079,
   "metadata": {},
   "outputs": [
    {
     "data": {
      "text/plain": [
       "<tf.Tensor: shape=(6, 1), dtype=float32, numpy=\n",
       "array([[ 4.9364696],\n",
       "       [ 0.7714542],\n",
       "       [ 2.053067 ],\n",
       "       [ 3.5532763],\n",
       "       [-0.4360968],\n",
       "       [-0.7568892]], dtype=float32)>"
      ]
     },
     "execution_count": 1079,
     "metadata": {},
     "output_type": "execute_result"
    }
   ],
   "source": [
    "model(np.expand_dims(inputs[:6],-1))"
   ]
  },
  {
   "cell_type": "code",
   "execution_count": 918,
   "metadata": {},
   "outputs": [],
   "source": [
    "def grad(model, inputs, targets):\n",
    "  with tf.GradientTape() as tape:\n",
    "    #loss_value = tf.keras.metrics.mean_squared_error(inputs, targets)\n",
    "    loss_value = tf.reduce_mean(tf.keras.losses.mean_squared_error(inputs, targets))\n",
    "  return loss_value, tape.gradient(loss_value, model.trainable_variables,\n",
    "                                  )"
   ]
  },
  {
   "cell_type": "code",
   "execution_count": 815,
   "metadata": {},
   "outputs": [
    {
     "data": {
      "text/plain": [
       "(<tf.Tensor: shape=(), dtype=float32, numpy=12.642272>, [None, None])"
      ]
     },
     "execution_count": 815,
     "metadata": {},
     "output_type": "execute_result"
    }
   ],
   "source": [
    "grad(model, model(np.expand_dims(inputs,-1)), np.expand_dims(outputs,-1))"
   ]
  },
  {
   "cell_type": "code",
   "execution_count": 816,
   "metadata": {},
   "outputs": [
    {
     "data": {
      "text/plain": [
       "[<tf.Variable 'dense_14/kernel:0' shape=(1, 1) dtype=float32, numpy=array([[-0.22585037]], dtype=float32)>,\n",
       " <tf.Variable 'dense_14/bias:0' shape=(1,) dtype=float32, numpy=array([1.4195695], dtype=float32)>]"
      ]
     },
     "execution_count": 816,
     "metadata": {},
     "output_type": "execute_result"
    }
   ],
   "source": [
    "model.trainable_weights"
   ]
  },
  {
   "cell_type": "code",
   "execution_count": 828,
   "metadata": {},
   "outputs": [
    {
     "name": "stdout",
     "output_type": "stream",
     "text": [
      "None\n"
     ]
    }
   ],
   "source": [
    "x = tf.constant(3.0) # note: floating point\n",
    "y = tf.constant(9.0)\n",
    "with tf.GradientTape() as tpe:\n",
    "    tpe.watch(x)\n",
    "    print(tpe.gradient(y, x))"
   ]
  },
  {
   "cell_type": "code",
   "execution_count": 826,
   "metadata": {},
   "outputs": [],
   "source": [
    "x = tf.ones((2, 2))\n",
    "\n",
    "with tf.GradientTape() as t:\n",
    "  t.watch(x)\n",
    "  y = tf.reduce_sum(x)\n",
    "  z = tf.multiply(y, y)\n",
    "\n",
    "# Use the tape to compute the derivative of z with respect to the\n",
    "# intermediate value y.\n",
    "dz_dy = t.gradient(z, y)\n",
    "assert dz_dy.numpy() == 8.0"
   ]
  },
  {
   "cell_type": "code",
   "execution_count": 827,
   "metadata": {},
   "outputs": [
    {
     "data": {
      "text/plain": [
       "<tf.Tensor: shape=(), dtype=float32, numpy=8.0>"
      ]
     },
     "execution_count": 827,
     "metadata": {},
     "output_type": "execute_result"
    }
   ],
   "source": [
    "dz_dy"
   ]
  },
  {
   "cell_type": "code",
   "execution_count": null,
   "metadata": {},
   "outputs": [],
   "source": []
  }
 ],
 "metadata": {
  "kernelspec": {
   "display_name": "Python (tf-2.0)",
   "language": "python",
   "name": "mcmc"
  },
  "language_info": {
   "codemirror_mode": {
    "name": "ipython",
    "version": 3
   },
   "file_extension": ".py",
   "mimetype": "text/x-python",
   "name": "python",
   "nbconvert_exporter": "python",
   "pygments_lexer": "ipython3",
   "version": "3.6.10"
  }
 },
 "nbformat": 4,
 "nbformat_minor": 4
}
