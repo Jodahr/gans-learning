{
 "cells": [
  {
   "cell_type": "markdown",
   "metadata": {},
   "source": [
    "# Custom Training with Tensorflow 2\n",
    "In this notebook we learn how to compute gradients with tensorflow 2 and how to use them for \n",
    "custom model training."
   ]
  },
  {
   "cell_type": "code",
   "execution_count": 228,
   "metadata": {},
   "outputs": [],
   "source": [
    "import numpy as np\n",
    "import pandas as pd\n",
    "import seaborn as sns\n",
    "from sklearn.datasets import make_classification\n",
    "from sklearn.model_selection import train_test_split\n",
    "import tensorflow as tf\n",
    "from tensorflow.keras import layers, metrics, losses\n",
    "from matplotlib import pyplot as plt"
   ]
  },
  {
   "cell_type": "markdown",
   "metadata": {},
   "source": [
    "## 1. Computing gradients\n",
    "- to compute gradients you need the tf.GradientTape()context"
   ]
  },
  {
   "cell_type": "markdown",
   "metadata": {},
   "source": [
    "**First Derivative**"
   ]
  },
  {
   "cell_type": "code",
   "execution_count": 9,
   "metadata": {},
   "outputs": [],
   "source": [
    "x = tf.constant(3.)"
   ]
  },
  {
   "cell_type": "code",
   "execution_count": 15,
   "metadata": {},
   "outputs": [
    {
     "name": "stdout",
     "output_type": "stream",
     "text": [
      "tf.Tensor(6.0, shape=(), dtype=float32)\n"
     ]
    }
   ],
   "source": [
    "with tf.GradientTape() as tpe:\n",
    "    tpe.watch(x)\n",
    "    \n",
    "    # function needs to be defined in the context\n",
    "    y = tf.square(x)\n",
    "    \n",
    "dy_dx = tpe.gradient(y,x)  # dy/dx|3 = 2x|3 = 6\n",
    "print(dy_dx)"
   ]
  },
  {
   "cell_type": "markdown",
   "metadata": {},
   "source": [
    "**Second Derivative**"
   ]
  },
  {
   "cell_type": "code",
   "execution_count": 16,
   "metadata": {},
   "outputs": [
    {
     "name": "stdout",
     "output_type": "stream",
     "text": [
      "tf.Tensor(6.0, shape=(), dtype=float32)\n",
      "tf.Tensor(2.0, shape=(), dtype=float32)\n"
     ]
    }
   ],
   "source": [
    "with tf.GradientTape() as g:\n",
    "    g.watch(x)\n",
    "    with tf.GradientTape() as gg:\n",
    "        gg.watch(x)\n",
    "        # function needs to be defined in the context\n",
    "        y = tf.square(x)\n",
    "        dy_dx = gg.gradient(y,x)  # dy/dx|3 = 2x|3 = 6\n",
    "    dy_dx_2 = g.gradient(dy_dx, x) # d(2x)/dy = 2\n",
    "print(dy_dx)\n",
    "print(dy_dx_2)"
   ]
  },
  {
   "cell_type": "markdown",
   "metadata": {},
   "source": [
    "**Gradient Descent**\n",
    "Finding minimum of quadratic loss function using gradient descent. First, we update using the simple gradient descent rule $x_n = x - \\alpha \\frac{dy}{dx}$. Afterwards, we use an optimzer keras provides."
   ]
  },
  {
   "cell_type": "code",
   "execution_count": 18,
   "metadata": {},
   "outputs": [],
   "source": [
    "def loss(x):\n",
    "    return (x-3)**2"
   ]
  },
  {
   "cell_type": "code",
   "execution_count": 23,
   "metadata": {},
   "outputs": [
    {
     "data": {
      "text/plain": [
       "[<matplotlib.lines.Line2D at 0x7f1a8a896ad0>]"
      ]
     },
     "execution_count": 23,
     "metadata": {},
     "output_type": "execute_result"
    },
    {
     "data": {
      "image/png": "[encoded data removed]",
      "text/plain": [
       "<Figure size 432x288 with 1 Axes>"
      ]
     },
     "metadata": {
      "needs_background": "light"
     },
     "output_type": "display_data"
    }
   ],
   "source": [
    "x = np.linspace(start=-6, stop=12, num=100)\n",
    "plt.plot(x, loss(x))"
   ]
  },
  {
   "cell_type": "code",
   "execution_count": 66,
   "metadata": {},
   "outputs": [
    {
     "name": "stdout",
     "output_type": "stream",
     "text": [
      "Results during epoch:  0\n",
      "next x:  8.6\n",
      "current loss:  49.0\n",
      "dloss_dx:  14.0\n",
      "\n",
      "Results during epoch:  20\n",
      "next x:  3.0645635\n",
      "current loss:  0.006513208\n",
      "dloss_dx:  0.1614089\n",
      "\n",
      "Results during epoch:  40\n",
      "next x:  3.0007443\n",
      "current loss:  8.654754e-07\n",
      "dloss_dx:  0.0018606186\n",
      "\n",
      "Results during epoch:  60\n",
      "next x:  3.0000086\n",
      "current loss:  1.1510792e-10\n",
      "dloss_dx:  2.1457672e-05\n",
      "\n",
      "Results during epoch:  80\n",
      "next x:  3.0000005\n",
      "current loss:  2.2737368e-13\n",
      "dloss_dx:  9.536743e-07\n",
      "\n"
     ]
    }
   ],
   "source": [
    "x_start = tf.Variable(10.0)\n",
    "optimizer = tf.keras.optimizers.RMSprop(learning_rate=0.1)\n",
    "learning_rate = 0.1\n",
    "epochs = 100\n",
    "for epoch in range(epochs):\n",
    "    with tf.GradientTape() as g:\n",
    "        g.watch(x_start)\n",
    "        current_loss = loss(x_start)\n",
    "        dloss_dx = g.gradient(current_loss, x_start)\n",
    "    x_start.assign_add(-learning_rate*dloss_dx)\n",
    "    if epoch % 20 == 0:\n",
    "        print(\"Results during epoch: \", epoch)\n",
    "        print(\"next x: \", x_start.numpy())\n",
    "        print(\"current loss: \", current_loss.numpy())\n",
    "        print(\"dloss_dx: \", dloss_dx.numpy())\n",
    "        print(\"\")"
   ]
  },
  {
   "cell_type": "code",
   "execution_count": 67,
   "metadata": {},
   "outputs": [
    {
     "name": "stdout",
     "output_type": "stream",
     "text": [
      "Results during epoch:  0\n",
      "next x:  9.683772\n",
      "current loss:  49.0\n",
      "dloss_dx:  14.0\n",
      "\n",
      "Results during epoch:  20\n",
      "next x:  7.259191\n",
      "current loss:  18.925993\n",
      "dloss_dx:  8.700803\n",
      "\n",
      "Results during epoch:  40\n",
      "next x:  5.589483\n",
      "current loss:  7.1140885\n",
      "dloss_dx:  5.33445\n",
      "\n",
      "Results during epoch:  60\n",
      "next x:  4.180467\n",
      "current loss:  1.5444623\n",
      "dloss_dx:  2.485528\n",
      "\n",
      "Results during epoch:  80\n",
      "next x:  3.2355545\n",
      "current loss:  0.07062252\n",
      "dloss_dx:  0.53149796\n",
      "\n"
     ]
    }
   ],
   "source": [
    "x_start = tf.Variable(10.0)\n",
    "optimizer = tf.keras.optimizers.RMSprop(learning_rate=0.1)\n",
    "learning_rate = 0.1\n",
    "epochs = 100\n",
    "for epoch in range(epochs):\n",
    "    with tf.GradientTape() as g:\n",
    "        g.watch(x_start)\n",
    "        current_loss = loss(x_start)\n",
    "        dloss_dx = g.gradient(current_loss, x_start)\n",
    "    optimizer.apply_gradients(zip([dloss_dx],[x_start]))\n",
    "    if epoch % 20 == 0:\n",
    "        print(\"Results during epoch: \", epoch)\n",
    "        print(\"next x: \", x_start.numpy())\n",
    "        print(\"current loss: \", current_loss.numpy())\n",
    "        print(\"dloss_dx: \", dloss_dx.numpy())\n",
    "        print(\"\")"
   ]
  },
  {
   "cell_type": "markdown",
   "metadata": {},
   "source": [
    "## 2. Linear Regresion"
   ]
  },
  {
   "cell_type": "code",
   "execution_count": 74,
   "metadata": {},
   "outputs": [],
   "source": [
    "def my_function(x_arr, w0=2.3, w1=-3.7, noise=1.5):\n",
    "    y = w1 * x_arr + w0 + np.random.normal(scale=noise, size=len(x_arr))\n",
    "    return y"
   ]
  },
  {
   "cell_type": "code",
   "execution_count": 75,
   "metadata": {},
   "outputs": [],
   "source": [
    "x = np.linspace(start=-5, stop=5, num=100)\n",
    "y = my_function(x)"
   ]
  },
  {
   "cell_type": "code",
   "execution_count": 78,
   "metadata": {},
   "outputs": [
    {
     "data": {
      "text/plain": [
       "[<matplotlib.lines.Line2D at 0x7f1a496a4a10>]"
      ]
     },
     "execution_count": 78,
     "metadata": {},
     "output_type": "execute_result"
    },
    {
     "data": {
      "image/png": "[encoded data removed]",
      "text/plain": [
       "<Figure size 432x288 with 1 Axes>"
      ]
     },
     "metadata": {
      "needs_background": "light"
     },
     "output_type": "display_data"
    }
   ],
   "source": [
    "plt.plot(x,y, linestyle=\"None\", marker=\"o\")"
   ]
  },
  {
   "cell_type": "code",
   "execution_count": 127,
   "metadata": {},
   "outputs": [],
   "source": [
    "x_data = tf.data.Dataset.from_tensor_slices(np.expand_dims(x,-1))\n",
    "y_data = tf.data.Dataset.from_tensor_slices(y)\n",
    "regression_data = tf.data.Dataset.zip((x_data,y_data))"
   ]
  },
  {
   "cell_type": "code",
   "execution_count": 128,
   "metadata": {},
   "outputs": [],
   "source": [
    "input_dim = x_data.element_spec.shape[0]"
   ]
  },
  {
   "cell_type": "markdown",
   "metadata": {},
   "source": [
    "### a) keras fit method"
   ]
  },
  {
   "cell_type": "code",
   "execution_count": 143,
   "metadata": {},
   "outputs": [],
   "source": [
    "regressor = tf.keras.Sequential()\n",
    "regressor.add(layers.Dense(1, input_shape=(1,))) # features, examples"
   ]
  },
  {
   "cell_type": "code",
   "execution_count": 144,
   "metadata": {},
   "outputs": [
    {
     "name": "stdout",
     "output_type": "stream",
     "text": [
      "Model: \"sequential_13\"\n",
      "_________________________________________________________________\n",
      "Layer (type)                 Output Shape              Param #   \n",
      "=================================================================\n",
      "dense_12 (Dense)             (None, 1)                 2         \n",
      "=================================================================\n",
      "Total params: 2\n",
      "Trainable params: 2\n",
      "Non-trainable params: 0\n",
      "_________________________________________________________________\n"
     ]
    }
   ],
   "source": [
    "regressor.summary()"
   ]
  },
  {
   "cell_type": "code",
   "execution_count": 145,
   "metadata": {},
   "outputs": [],
   "source": [
    "regressor.compile(loss=losses.mean_squared_error)"
   ]
  },
  {
   "cell_type": "code",
   "execution_count": 151,
   "metadata": {},
   "outputs": [
    {
     "data": {
      "text/plain": [
       "<tensorflow.python.keras.callbacks.History at 0x7f1a31762550>"
      ]
     },
     "execution_count": 151,
     "metadata": {},
     "output_type": "execute_result"
    }
   ],
   "source": [
    "regressor.fit(regression_data, epochs=100, verbose=0)"
   ]
  },
  {
   "cell_type": "code",
   "execution_count": 157,
   "metadata": {},
   "outputs": [
    {
     "name": "stdout",
     "output_type": "stream",
     "text": [
      "[[-3.715647]]\n",
      "[2.0540555]\n"
     ]
    }
   ],
   "source": [
    "print(regressor.weights[0].numpy())\n",
    "print(regressor.weights[1].numpy())"
   ]
  },
  {
   "cell_type": "code",
   "execution_count": 164,
   "metadata": {},
   "outputs": [
    {
     "data": {
      "text/plain": [
       "array([20.632292], dtype=float32)"
      ]
     },
     "execution_count": 164,
     "metadata": {},
     "output_type": "execute_result"
    }
   ],
   "source": [
    "y_pred = regressor.predict(x_data)\n",
    "y_pred[0]"
   ]
  },
  {
   "cell_type": "markdown",
   "metadata": {},
   "source": [
    "### b) custom training"
   ]
  },
  {
   "cell_type": "code",
   "execution_count": 304,
   "metadata": {},
   "outputs": [],
   "source": [
    "class CustomTraining():\n",
    "    \n",
    "    def __init__(self, model, batch_size=32, optimizer=tf.keras.optimizers.RMSprop(learning_rate=0.1), loss=losses.MeanSquaredError()):\n",
    "        self.model = model\n",
    "        self.batch_size = batch_size\n",
    "        self.optimizer = optimizer\n",
    "        self.loss = loss\n",
    "    \n",
    "    def train_epoch(self, X,y):\n",
    "        loss_total = 0\n",
    "        batches = 0\n",
    "        for i, (X_batch, y_batch) in enumerate(zip(X,y)):\n",
    "            with tf.GradientTape() as g:\n",
    "                g.watch(self.model.weights)\n",
    "                y_pred = self.model(X_batch)\n",
    "                loss_epoch = self.loss(y_batch, y_pred)\n",
    "                grads = g.gradient(loss_epoch, self.model.weights)\n",
    "            loss_total = loss_total + loss_epoch.numpy()\n",
    "            self.optimizer.apply_gradients(zip(grads,self.model.weights))\n",
    "            batches = batches + i\n",
    "        return loss_total / batches\n",
    "        \n",
    "    def fit(self, X, y, epochs=1, verbose=True):\n",
    "        X_ = X.batch(self.batch_size)\n",
    "        y_ = y.batch(self.batch_size)\n",
    "        for epoch in range(epochs):\n",
    "            loss = self.train_epoch(X_,y_)\n",
    "            if verbose:\n",
    "                if epoch % 10 == 0:\n",
    "                    print(\"epoch: \", epoch)\n",
    "                    print(\"loss: \", loss)\n",
    "                    print(\"model: \", self.model.weights)\n",
    "        \n",
    "    "
   ]
  },
  {
   "cell_type": "code",
   "execution_count": 305,
   "metadata": {},
   "outputs": [],
   "source": [
    "regressor = tf.keras.Sequential()\n",
    "regressor.add(layers.Dense(1, input_shape=(1,))) # features, examples"
   ]
  },
  {
   "cell_type": "code",
   "execution_count": 306,
   "metadata": {},
   "outputs": [],
   "source": [
    "custom = CustomTraining(model=regressor)"
   ]
  },
  {
   "cell_type": "code",
   "execution_count": 307,
   "metadata": {},
   "outputs": [
    {
     "name": "stdout",
     "output_type": "stream",
     "text": [
      "WARNING:tensorflow:Layer dense_20 is casting an input tensor from dtype float64 to the layer's dtype of float32, which is new behavior in TensorFlow 2.  The layer has dtype float32 because it's dtype defaults to floatx.\n",
      "\n",
      "If you intended to run this layer in float32, you can safely ignore this warning. If in doubt, this warning is likely only an issue if you are porting a TensorFlow 1.X model to TensorFlow 2.\n",
      "\n",
      "To change all layers to have dtype float64 by default, call `tf.keras.backend.set_floatx('float64')`. To change just this layer, pass dtype='float64' to the layer constructor. If you are the author of this layer, you can disable autocasting by passing autocast=False to the base Layer constructor.\n",
      "\n"
     ]
    },
    {
     "data": {
      "text/plain": [
       "192.41701380411783"
      ]
     },
     "execution_count": 307,
     "metadata": {},
     "output_type": "execute_result"
    }
   ],
   "source": [
    "custom.train_epoch(x_data.batch(32), y_data.batch(32))"
   ]
  },
  {
   "cell_type": "code",
   "execution_count": 308,
   "metadata": {},
   "outputs": [
    {
     "name": "stdout",
     "output_type": "stream",
     "text": [
      "epoch:  0\n",
      "loss:  147.12256304423013\n",
      "model:  [<tf.Variable 'dense_20/kernel:0' shape=(1, 1) dtype=float32, numpy=array([[0.50162536]], dtype=float32)>, <tf.Variable 'dense_20/bias:0' shape=(1,) dtype=float32, numpy=array([-0.12403852], dtype=float32)>]\n",
      "epoch:  10\n",
      "loss:  18.582685311635334\n",
      "model:  [<tf.Variable 'dense_20/kernel:0' shape=(1, 1) dtype=float32, numpy=array([[-2.2838416]], dtype=float32)>, <tf.Variable 'dense_20/bias:0' shape=(1,) dtype=float32, numpy=array([-0.2991233], dtype=float32)>]\n",
      "epoch:  20\n",
      "loss:  2.422836869955063\n",
      "model:  [<tf.Variable 'dense_20/kernel:0' shape=(1, 1) dtype=float32, numpy=array([[-3.4732163]], dtype=float32)>, <tf.Variable 'dense_20/bias:0' shape=(1,) dtype=float32, numpy=array([1.1818415], dtype=float32)>]\n",
      "epoch:  30\n",
      "loss:  1.6612948973973591\n",
      "model:  [<tf.Variable 'dense_20/kernel:0' shape=(1, 1) dtype=float32, numpy=array([[-3.5703938]], dtype=float32)>, <tf.Variable 'dense_20/bias:0' shape=(1,) dtype=float32, numpy=array([2.2343714], dtype=float32)>]\n",
      "epoch:  40\n",
      "loss:  1.6712696254253387\n",
      "model:  [<tf.Variable 'dense_20/kernel:0' shape=(1, 1) dtype=float32, numpy=array([[-3.5702412]], dtype=float32)>, <tf.Variable 'dense_20/bias:0' shape=(1,) dtype=float32, numpy=array([2.2515914], dtype=float32)>]\n",
      "epoch:  50\n",
      "loss:  1.6712743441263835\n",
      "model:  [<tf.Variable 'dense_20/kernel:0' shape=(1, 1) dtype=float32, numpy=array([[-3.5702415]], dtype=float32)>, <tf.Variable 'dense_20/bias:0' shape=(1,) dtype=float32, numpy=array([2.251594], dtype=float32)>]\n",
      "epoch:  60\n",
      "loss:  1.671274185180664\n",
      "model:  [<tf.Variable 'dense_20/kernel:0' shape=(1, 1) dtype=float32, numpy=array([[-3.5702415]], dtype=float32)>, <tf.Variable 'dense_20/bias:0' shape=(1,) dtype=float32, numpy=array([2.251594], dtype=float32)>]\n",
      "epoch:  70\n",
      "loss:  1.671274185180664\n",
      "model:  [<tf.Variable 'dense_20/kernel:0' shape=(1, 1) dtype=float32, numpy=array([[-3.5702415]], dtype=float32)>, <tf.Variable 'dense_20/bias:0' shape=(1,) dtype=float32, numpy=array([2.251594], dtype=float32)>]\n",
      "epoch:  80\n",
      "loss:  1.671274185180664\n",
      "model:  [<tf.Variable 'dense_20/kernel:0' shape=(1, 1) dtype=float32, numpy=array([[-3.5702415]], dtype=float32)>, <tf.Variable 'dense_20/bias:0' shape=(1,) dtype=float32, numpy=array([2.251594], dtype=float32)>]\n",
      "epoch:  90\n",
      "loss:  1.671274185180664\n",
      "model:  [<tf.Variable 'dense_20/kernel:0' shape=(1, 1) dtype=float32, numpy=array([[-3.5702415]], dtype=float32)>, <tf.Variable 'dense_20/bias:0' shape=(1,) dtype=float32, numpy=array([2.251594], dtype=float32)>]\n"
     ]
    }
   ],
   "source": [
    "custom.fit(x_data, y_data, epochs=100, verbose=True)"
   ]
  },
  {
   "cell_type": "code",
   "execution_count": 295,
   "metadata": {},
   "outputs": [
    {
     "data": {
      "text/plain": [
       "[<tf.Variable 'dense_17/kernel:0' shape=(1, 1) dtype=float32, numpy=array([[-3.5702415]], dtype=float32)>,\n",
       " <tf.Variable 'dense_17/bias:0' shape=(1,) dtype=float32, numpy=array([2.251594], dtype=float32)>]"
      ]
     },
     "execution_count": 295,
     "metadata": {},
     "output_type": "execute_result"
    }
   ],
   "source": [
    "custom.model.weights"
   ]
  },
  {
   "cell_type": "code",
   "execution_count": 197,
   "metadata": {},
   "outputs": [],
   "source": [
    "X,y = make_classification(n_samples=100, n_features=2, n_redundant=0, random_state=42)"
   ]
  },
  {
   "cell_type": "code",
   "execution_count": null,
   "metadata": {},
   "outputs": [],
   "source": []
  },
  {
   "cell_type": "code",
   "execution_count": 516,
   "metadata": {},
   "outputs": [],
   "source": [
    "X, X_test, y, y_test = train_test_split(X,y, test_size=0.2, random_state=42)"
   ]
  },
  {
   "cell_type": "code",
   "execution_count": 517,
   "metadata": {},
   "outputs": [],
   "source": [
    "X_data = tf.data.Dataset.from_tensor_slices(X).batch(16)\n",
    "y_data = tf.data.Dataset.from_tensor_slices(y).batch(16)\n",
    "data = tf.data.Dataset.zip((X_data, y_data))"
   ]
  },
  {
   "cell_type": "markdown",
   "metadata": {},
   "source": [
    "### built-in keras model"
   ]
  },
  {
   "cell_type": "code",
   "execution_count": 518,
   "metadata": {},
   "outputs": [],
   "source": [
    "model =tf.keras.Sequential()\n",
    "model.add(layers.Dense(1, input_shape=(2,)))\n",
    "model.add(layers.Activation(tf.nn.sigmoid))"
   ]
  },
  {
   "cell_type": "code",
   "execution_count": 519,
   "metadata": {},
   "outputs": [
    {
     "name": "stdout",
     "output_type": "stream",
     "text": [
      "Model: \"sequential_55\"\n",
      "_________________________________________________________________\n",
      "Layer (type)                 Output Shape              Param #   \n",
      "=================================================================\n",
      "dense_80 (Dense)             (None, 1)                 3         \n",
      "_________________________________________________________________\n",
      "activation_73 (Activation)   (None, 1)                 0         \n",
      "=================================================================\n",
      "Total params: 3\n",
      "Trainable params: 3\n",
      "Non-trainable params: 0\n",
      "_________________________________________________________________\n"
     ]
    }
   ],
   "source": [
    "model.summary()"
   ]
  },
  {
   "cell_type": "code",
   "execution_count": 520,
   "metadata": {},
   "outputs": [
    {
     "data": {
      "text/plain": [
       "<tf.Tensor 'dense_80_input:0' shape=(None, 2) dtype=float32>"
      ]
     },
     "execution_count": 520,
     "metadata": {},
     "output_type": "execute_result"
    }
   ],
   "source": [
    "model.input"
   ]
  },
  {
   "cell_type": "code",
   "execution_count": 521,
   "metadata": {},
   "outputs": [],
   "source": [
    "model.compile(loss=losses.binary_crossentropy, metrics=[\"accuracy\"])"
   ]
  },
  {
   "cell_type": "code",
   "execution_count": 524,
   "metadata": {},
   "outputs": [
    {
     "name": "stdout",
     "output_type": "stream",
     "text": [
      "Train on 80 samples\n",
      "Epoch 1/10\n",
      "80/80 [==============================] - 0s 298us/sample - loss: 1.0905 - accuracy: 0.4000\n",
      "Epoch 2/10\n",
      "80/80 [==============================] - 0s 174us/sample - loss: 1.0857 - accuracy: 0.4000\n",
      "Epoch 3/10\n",
      "80/80 [==============================] - 0s 152us/sample - loss: 1.0809 - accuracy: 0.4000\n",
      "Epoch 4/10\n",
      "80/80 [==============================] - 0s 230us/sample - loss: 1.0762 - accuracy: 0.4000\n",
      "Epoch 5/10\n",
      "80/80 [==============================] - 0s 270us/sample - loss: 1.0713 - accuracy: 0.4000\n",
      "Epoch 6/10\n",
      "80/80 [==============================] - 0s 268us/sample - loss: 1.0666 - accuracy: 0.4125\n",
      "Epoch 7/10\n",
      "80/80 [==============================] - 0s 192us/sample - loss: 1.0617 - accuracy: 0.4125\n",
      "Epoch 8/10\n",
      "80/80 [==============================] - 0s 397us/sample - loss: 1.0570 - accuracy: 0.4250\n",
      "Epoch 9/10\n",
      "80/80 [==============================] - 0s 287us/sample - loss: 1.0523 - accuracy: 0.4250\n",
      "Epoch 10/10\n",
      "80/80 [==============================] - 0s 245us/sample - loss: 1.0475 - accuracy: 0.4250\n"
     ]
    },
    {
     "data": {
      "text/plain": [
       "<tensorflow.python.keras.callbacks.History at 0x7f8c5e36bb38>"
      ]
     },
     "execution_count": 524,
     "metadata": {},
     "output_type": "execute_result"
    }
   ],
   "source": [
    "model.fit(X,y, epochs=10, batch_size=16)"
   ]
  },
  {
   "cell_type": "code",
   "execution_count": 525,
   "metadata": {},
   "outputs": [
    {
     "data": {
      "text/plain": [
       "array([[0.8800186 ],\n",
       "       [0.549698  ],\n",
       "       [0.785006  ],\n",
       "       [0.1833115 ],\n",
       "       [0.2452526 ],\n",
       "       [0.8910201 ],\n",
       "       [0.31538123],\n",
       "       [0.6776275 ],\n",
       "       [0.87074286],\n",
       "       [0.31687728],\n",
       "       [0.3627581 ],\n",
       "       [0.8689618 ],\n",
       "       [0.15098341],\n",
       "       [0.15089563],\n",
       "       [0.6378209 ],\n",
       "       [0.24943331],\n",
       "       [0.8973662 ],\n",
       "       [0.61711556],\n",
       "       [0.29531568],\n",
       "       [0.71479034],\n",
       "       [0.75450593],\n",
       "       [0.14664929],\n",
       "       [0.3245311 ],\n",
       "       [0.42136616],\n",
       "       [0.50786066],\n",
       "       [0.6530947 ],\n",
       "       [0.37605837],\n",
       "       [0.4801928 ],\n",
       "       [0.3080136 ],\n",
       "       [0.26759043],\n",
       "       [0.71887094],\n",
       "       [0.6811843 ],\n",
       "       [0.7242301 ],\n",
       "       [0.7754773 ],\n",
       "       [0.8479359 ],\n",
       "       [0.86165786],\n",
       "       [0.92784965],\n",
       "       [0.38679603],\n",
       "       [0.5613064 ],\n",
       "       [0.77490234],\n",
       "       [0.16259794],\n",
       "       [0.51793253],\n",
       "       [0.28424367],\n",
       "       [0.21209168],\n",
       "       [0.49498746],\n",
       "       [0.6931041 ],\n",
       "       [0.7376695 ],\n",
       "       [0.16462894],\n",
       "       [0.6933959 ],\n",
       "       [0.20125057],\n",
       "       [0.25030676],\n",
       "       [0.29195988],\n",
       "       [0.82104456],\n",
       "       [0.5440051 ],\n",
       "       [0.3443653 ],\n",
       "       [0.8221456 ],\n",
       "       [0.87577635],\n",
       "       [0.6159385 ],\n",
       "       [0.09507701],\n",
       "       [0.33659482],\n",
       "       [0.3269165 ],\n",
       "       [0.05669348],\n",
       "       [0.27699298],\n",
       "       [0.4449377 ],\n",
       "       [0.607957  ],\n",
       "       [0.17995976],\n",
       "       [0.5420327 ],\n",
       "       [0.9265163 ],\n",
       "       [0.75773406],\n",
       "       [0.6762088 ],\n",
       "       [0.9527151 ],\n",
       "       [0.08897455],\n",
       "       [0.16336049],\n",
       "       [0.0961519 ],\n",
       "       [0.7992597 ],\n",
       "       [0.71924824],\n",
       "       [0.9027694 ],\n",
       "       [0.4883731 ],\n",
       "       [0.17437726],\n",
       "       [0.23986872]], dtype=float32)"
      ]
     },
     "execution_count": 525,
     "metadata": {},
     "output_type": "execute_result"
    }
   ],
   "source": [
    "model.predict(X)"
   ]
  },
  {
   "cell_type": "code",
   "execution_count": 526,
   "metadata": {},
   "outputs": [],
   "source": [
    "optimizer = tf.keras.optimizers.RMSprop()"
   ]
  },
  {
   "cell_type": "code",
   "execution_count": 538,
   "metadata": {},
   "outputs": [],
   "source": [
    "model =tf.keras.Sequential()\n",
    "model.add(layers.Dense(1, input_shape=(2,)))\n",
    "model.add(layers.Activation(tf.nn.relu))\n",
    "model.add(layers.Dense(12))\n",
    "model.add(layers.Activation(tf.nn.relu))\n",
    "model.add(layers.Dense(1))\n",
    "model.add(layers.Activation(tf.nn.sigmoid))"
   ]
  },
  {
   "cell_type": "code",
   "execution_count": 551,
   "metadata": {},
   "outputs": [
    {
     "name": "stdout",
     "output_type": "stream",
     "text": [
      "0.56971747\n",
      "0.56213033\n",
      "0.55508447\n",
      "0.548448\n",
      "0.54253495\n",
      "0.53719985\n",
      "0.5320817\n",
      "0.52750957\n",
      "0.5237171\n",
      "0.52085793\n"
     ]
    }
   ],
   "source": [
    "for epoch in range(100):\n",
    "    #print(\"epoch\", epoch)\n",
    "    loss_sum = 0\n",
    "    N = 0\n",
    "    for x_batch, y_batch in data:\n",
    "        \n",
    "        with tf.GradientTape() as tpe:\n",
    "            tpe.watch(model.trainable_variables)\n",
    "            y_pred = model(x_batch, training=True)\n",
    "            #print(model.trainable_weights)\n",
    "            loss_sum = tf.reduce_mean(losses.binary_crossentropy(np.expand_dims(y_batch,-1), y_pred, from_logits=True))\n",
    "            #n = x_batch.shape[0]\n",
    "            #loss = loss_sum/n\n",
    "            #N = n + N\n",
    "            grads = tpe.gradient(loss_sum, model.trainable_variables)\n",
    "            optimizer.apply_gradients(zip(grads, model.trainable_variables))\n",
    "    if epoch % 10 == 0:\n",
    "        print(loss_sum.numpy())\n",
    "        #print(grads)"
   ]
  },
  {
   "cell_type": "code",
   "execution_count": 552,
   "metadata": {},
   "outputs": [
    {
     "data": {
      "text/plain": [
       "[<tf.Tensor: shape=(16,), dtype=int64, numpy=array([0, 0, 1, 0, 1, 0, 1, 1, 1, 0, 0, 1, 1, 1, 0, 0])>,\n",
       " <tf.Tensor: shape=(16,), dtype=int64, numpy=array([0, 1, 1, 1, 1, 1, 1, 1, 1, 0, 1, 0, 1, 1, 1, 0])>,\n",
       " <tf.Tensor: shape=(16,), dtype=int64, numpy=array([0, 0, 0, 0, 1, 0, 0, 0, 0, 0, 0, 1, 0, 0, 1, 0])>,\n",
       " <tf.Tensor: shape=(16,), dtype=int64, numpy=array([1, 0, 0, 1, 0, 1, 0, 1, 0, 0, 1, 0, 1, 1, 0, 1])>,\n",
       " <tf.Tensor: shape=(16,), dtype=int64, numpy=array([1, 1, 1, 0, 0, 1, 0, 1, 1, 0, 1, 0, 0, 1, 1, 1])>]"
      ]
     },
     "execution_count": 552,
     "metadata": {},
     "output_type": "execute_result"
    }
   ],
   "source": [
    "list(y_data)"
   ]
  },
  {
   "cell_type": "code",
   "execution_count": 553,
   "metadata": {},
   "outputs": [],
   "source": [
    "res = model.predict(X_test)"
   ]
  },
  {
   "cell_type": "code",
   "execution_count": 554,
   "metadata": {},
   "outputs": [],
   "source": [
    "preds = np.where(res[:,0]>0.5, 1, 0)"
   ]
  },
  {
   "cell_type": "code",
   "execution_count": 555,
   "metadata": {},
   "outputs": [
    {
     "data": {
      "text/plain": [
       "array([0, 1, 1, 0, 1, 0, 0, 0, 1, 0, 1, 0, 1, 0, 0, 1, 1, 1, 0, 0])"
      ]
     },
     "execution_count": 555,
     "metadata": {},
     "output_type": "execute_result"
    }
   ],
   "source": [
    "y_test"
   ]
  },
  {
   "cell_type": "code",
   "execution_count": 556,
   "metadata": {},
   "outputs": [
    {
     "data": {
      "text/plain": [
       "array([0, 1, 1, 0, 1, 0, 0, 0, 1, 1, 1, 1, 1, 0, 0, 1, 1, 1, 0, 0])"
      ]
     },
     "execution_count": 556,
     "metadata": {},
     "output_type": "execute_result"
    }
   ],
   "source": [
    "preds"
   ]
  },
  {
   "cell_type": "code",
   "execution_count": null,
   "metadata": {},
   "outputs": [],
   "source": []
  }
 ],
 "metadata": {
  "kernelspec": {
   "display_name": "tf2",
   "language": "python",
   "name": "tf2"
  },
  "language_info": {
   "codemirror_mode": {
    "name": "ipython",
    "version": 3
   },
   "file_extension": ".py",
   "mimetype": "text/x-python",
   "name": "python",
   "nbconvert_exporter": "python",
   "pygments_lexer": "ipython3",
   "version": "3.7.6"
  }
 },
 "nbformat": 4,
 "nbformat_minor": 4
}
