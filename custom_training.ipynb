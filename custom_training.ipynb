{
 "cells": [
  {
   "cell_type": "markdown",
   "metadata": {},
   "source": [
    "# Custom Training with Tensorflow 2\n",
    "In this notebook we learn how to compute gradients with tensorflow 2 and how to use them for \n",
    "custom model training."
   ]
  },
  {
   "cell_type": "code",
   "execution_count": 374,
   "metadata": {},
   "outputs": [],
   "source": [
    "import numpy as np\n",
    "import pandas as pd\n",
    "import seaborn as sns\n",
    "from sklearn.datasets import make_classification\n",
    "from sklearn.model_selection import train_test_split\n",
    "import tensorflow as tf\n",
    "from tensorflow.keras import layers, metrics, losses\n",
    "from matplotlib import pyplot as plt\n",
    "from mlxtend.plotting import plot_decision_regions"
   ]
  },
  {
   "cell_type": "markdown",
   "metadata": {},
   "source": [
    "## 1. Computing gradients\n",
    "- to compute gradients you need the tf.GradientTape()context"
   ]
  },
  {
   "cell_type": "markdown",
   "metadata": {},
   "source": [
    "**First Derivative**"
   ]
  },
  {
   "cell_type": "code",
   "execution_count": 310,
   "metadata": {},
   "outputs": [],
   "source": [
    "x = tf.constant(3.)"
   ]
  },
  {
   "cell_type": "code",
   "execution_count": 311,
   "metadata": {},
   "outputs": [
    {
     "name": "stdout",
     "output_type": "stream",
     "text": [
      "tf.Tensor(6.0, shape=(), dtype=float32)\n"
     ]
    }
   ],
   "source": [
    "with tf.GradientTape() as tpe:\n",
    "    tpe.watch(x)\n",
    "    \n",
    "    # function needs to be defined in the context\n",
    "    y = tf.square(x)\n",
    "    \n",
    "dy_dx = tpe.gradient(y,x)  # dy/dx|3 = 2x|3 = 6\n",
    "print(dy_dx)"
   ]
  },
  {
   "cell_type": "markdown",
   "metadata": {},
   "source": [
    "**Second Derivative**"
   ]
  },
  {
   "cell_type": "code",
   "execution_count": 312,
   "metadata": {},
   "outputs": [
    {
     "name": "stdout",
     "output_type": "stream",
     "text": [
      "tf.Tensor(6.0, shape=(), dtype=float32)\n",
      "tf.Tensor(2.0, shape=(), dtype=float32)\n"
     ]
    }
   ],
   "source": [
    "with tf.GradientTape() as g:\n",
    "    g.watch(x)\n",
    "    with tf.GradientTape() as gg:\n",
    "        gg.watch(x)\n",
    "        # function needs to be defined in the context\n",
    "        y = tf.square(x)\n",
    "        dy_dx = gg.gradient(y,x)  # dy/dx|3 = 2x|3 = 6\n",
    "    dy_dx_2 = g.gradient(dy_dx, x) # d(2x)/dy = 2\n",
    "print(dy_dx)\n",
    "print(dy_dx_2)"
   ]
  },
  {
   "cell_type": "markdown",
   "metadata": {},
   "source": [
    "**Gradient Descent**\n",
    "Finding minimum of quadratic loss function using gradient descent. First, we update using the simple gradient descent rule $x_n = x - \\alpha \\frac{dy}{dx}$. Afterwards, we use an optimzer keras provides."
   ]
  },
  {
   "cell_type": "code",
   "execution_count": 313,
   "metadata": {},
   "outputs": [],
   "source": [
    "def loss(x):\n",
    "    return (x-3)**2"
   ]
  },
  {
   "cell_type": "code",
   "execution_count": 314,
   "metadata": {},
   "outputs": [
    {
     "data": {
      "text/plain": [
       "[<matplotlib.lines.Line2D at 0x7f1a30217690>]"
      ]
     },
     "execution_count": 314,
     "metadata": {},
     "output_type": "execute_result"
    },
    {
     "data": {
      "image/png": "[encoded data removed]",
      "text/plain": [
       "<Figure size 432x288 with 1 Axes>"
      ]
     },
     "metadata": {
      "needs_background": "light"
     },
     "output_type": "display_data"
    }
   ],
   "source": [
    "x = np.linspace(start=-6, stop=12, num=100)\n",
    "plt.plot(x, loss(x))"
   ]
  },
  {
   "cell_type": "code",
   "execution_count": 315,
   "metadata": {},
   "outputs": [
    {
     "name": "stdout",
     "output_type": "stream",
     "text": [
      "Results during epoch:  0\n",
      "next x:  8.6\n",
      "current loss:  49.0\n",
      "dloss_dx:  14.0\n",
      "\n",
      "Results during epoch:  20\n",
      "next x:  3.0645635\n",
      "current loss:  0.006513208\n",
      "dloss_dx:  0.1614089\n",
      "\n",
      "Results during epoch:  40\n",
      "next x:  3.0007443\n",
      "current loss:  8.654754e-07\n",
      "dloss_dx:  0.0018606186\n",
      "\n",
      "Results during epoch:  60\n",
      "next x:  3.0000086\n",
      "current loss:  1.1510792e-10\n",
      "dloss_dx:  2.1457672e-05\n",
      "\n",
      "Results during epoch:  80\n",
      "next x:  3.0000005\n",
      "current loss:  2.2737368e-13\n",
      "dloss_dx:  9.536743e-07\n",
      "\n"
     ]
    }
   ],
   "source": [
    "x_start = tf.Variable(10.0)\n",
    "optimizer = tf.keras.optimizers.RMSprop(learning_rate=0.1)\n",
    "learning_rate = 0.1\n",
    "epochs = 100\n",
    "for epoch in range(epochs):\n",
    "    with tf.GradientTape() as g:\n",
    "        g.watch(x_start)\n",
    "        current_loss = loss(x_start)\n",
    "        dloss_dx = g.gradient(current_loss, x_start)\n",
    "    x_start.assign_add(-learning_rate*dloss_dx)\n",
    "    if epoch % 20 == 0:\n",
    "        print(\"Results during epoch: \", epoch)\n",
    "        print(\"next x: \", x_start.numpy())\n",
    "        print(\"current loss: \", current_loss.numpy())\n",
    "        print(\"dloss_dx: \", dloss_dx.numpy())\n",
    "        print(\"\")"
   ]
  },
  {
   "cell_type": "code",
   "execution_count": 316,
   "metadata": {},
   "outputs": [
    {
     "name": "stdout",
     "output_type": "stream",
     "text": [
      "Results during epoch:  0\n",
      "next x:  9.683772\n",
      "current loss:  49.0\n",
      "dloss_dx:  14.0\n",
      "\n",
      "Results during epoch:  20\n",
      "next x:  7.259191\n",
      "current loss:  18.925993\n",
      "dloss_dx:  8.700803\n",
      "\n",
      "Results during epoch:  40\n",
      "next x:  5.589483\n",
      "current loss:  7.1140885\n",
      "dloss_dx:  5.33445\n",
      "\n",
      "Results during epoch:  60\n",
      "next x:  4.180467\n",
      "current loss:  1.5444623\n",
      "dloss_dx:  2.485528\n",
      "\n",
      "Results during epoch:  80\n",
      "next x:  3.2355545\n",
      "current loss:  0.07062252\n",
      "dloss_dx:  0.53149796\n",
      "\n"
     ]
    }
   ],
   "source": [
    "x_start = tf.Variable(10.0)\n",
    "optimizer = tf.keras.optimizers.RMSprop(learning_rate=0.1)\n",
    "learning_rate = 0.1\n",
    "epochs = 100\n",
    "for epoch in range(epochs):\n",
    "    with tf.GradientTape() as g:\n",
    "        g.watch(x_start)\n",
    "        current_loss = loss(x_start)\n",
    "        dloss_dx = g.gradient(current_loss, x_start)\n",
    "    optimizer.apply_gradients(zip([dloss_dx],[x_start]))\n",
    "    if epoch % 20 == 0:\n",
    "        print(\"Results during epoch: \", epoch)\n",
    "        print(\"next x: \", x_start.numpy())\n",
    "        print(\"current loss: \", current_loss.numpy())\n",
    "        print(\"dloss_dx: \", dloss_dx.numpy())\n",
    "        print(\"\")"
   ]
  },
  {
   "cell_type": "markdown",
   "metadata": {},
   "source": [
    "## 2. Linear Regresion"
   ]
  },
  {
   "cell_type": "code",
   "execution_count": 317,
   "metadata": {},
   "outputs": [],
   "source": [
    "def my_function(x_arr, w0=2.3, w1=-3.7, noise=1.5):\n",
    "    y = w1 * x_arr + w0 + np.random.normal(scale=noise, size=len(x_arr))\n",
    "    return y"
   ]
  },
  {
   "cell_type": "code",
   "execution_count": 318,
   "metadata": {},
   "outputs": [],
   "source": [
    "x = np.linspace(start=-5, stop=5, num=100)\n",
    "y = my_function(x)"
   ]
  },
  {
   "cell_type": "code",
   "execution_count": 319,
   "metadata": {},
   "outputs": [
    {
     "data": {
      "text/plain": [
       "[<matplotlib.lines.Line2D at 0x7f1a301bf810>]"
      ]
     },
     "execution_count": 319,
     "metadata": {},
     "output_type": "execute_result"
    },
    {
     "data": {
      "image/png": "[encoded data removed]",
      "text/plain": [
       "<Figure size 432x288 with 1 Axes>"
      ]
     },
     "metadata": {
      "needs_background": "light"
     },
     "output_type": "display_data"
    }
   ],
   "source": [
    "plt.plot(x,y, linestyle=\"None\", marker=\"o\")"
   ]
  },
  {
   "cell_type": "code",
   "execution_count": 320,
   "metadata": {},
   "outputs": [],
   "source": [
    "x_data = tf.data.Dataset.from_tensor_slices(np.expand_dims(x,-1))\n",
    "y_data = tf.data.Dataset.from_tensor_slices(y)\n",
    "regression_data = tf.data.Dataset.zip((x_data,y_data))"
   ]
  },
  {
   "cell_type": "code",
   "execution_count": 321,
   "metadata": {},
   "outputs": [],
   "source": [
    "input_dim = x_data.element_spec.shape[0]"
   ]
  },
  {
   "cell_type": "markdown",
   "metadata": {},
   "source": [
    "### a) keras fit method"
   ]
  },
  {
   "cell_type": "code",
   "execution_count": 322,
   "metadata": {},
   "outputs": [],
   "source": [
    "regressor = tf.keras.Sequential()\n",
    "regressor.add(layers.Dense(1, input_shape=(1,))) # features, examples"
   ]
  },
  {
   "cell_type": "code",
   "execution_count": 323,
   "metadata": {},
   "outputs": [
    {
     "name": "stdout",
     "output_type": "stream",
     "text": [
      "Model: \"sequential_22\"\n",
      "_________________________________________________________________\n",
      "Layer (type)                 Output Shape              Param #   \n",
      "=================================================================\n",
      "dense_21 (Dense)             (None, 1)                 2         \n",
      "=================================================================\n",
      "Total params: 2\n",
      "Trainable params: 2\n",
      "Non-trainable params: 0\n",
      "_________________________________________________________________\n"
     ]
    }
   ],
   "source": [
    "regressor.summary()"
   ]
  },
  {
   "cell_type": "code",
   "execution_count": 324,
   "metadata": {},
   "outputs": [],
   "source": [
    "regressor.compile(loss=losses.mean_squared_error)"
   ]
  },
  {
   "cell_type": "code",
   "execution_count": 325,
   "metadata": {},
   "outputs": [
    {
     "data": {
      "text/plain": [
       "<tensorflow.python.keras.callbacks.History at 0x7f1a30229b10>"
      ]
     },
     "execution_count": 325,
     "metadata": {},
     "output_type": "execute_result"
    }
   ],
   "source": [
    "regressor.fit(regression_data, epochs=100, verbose=0)"
   ]
  },
  {
   "cell_type": "code",
   "execution_count": 326,
   "metadata": {},
   "outputs": [
    {
     "name": "stdout",
     "output_type": "stream",
     "text": [
      "[[-3.65385]]\n",
      "[2.1052525]\n"
     ]
    }
   ],
   "source": [
    "print(regressor.weights[0].numpy())\n",
    "print(regressor.weights[1].numpy())"
   ]
  },
  {
   "cell_type": "code",
   "execution_count": 327,
   "metadata": {},
   "outputs": [
    {
     "data": {
      "text/plain": [
       "array([20.374504], dtype=float32)"
      ]
     },
     "execution_count": 327,
     "metadata": {},
     "output_type": "execute_result"
    }
   ],
   "source": [
    "y_pred = regressor.predict(x_data)\n",
    "y_pred[0]"
   ]
  },
  {
   "cell_type": "markdown",
   "metadata": {},
   "source": [
    "### b) custom training"
   ]
  },
  {
   "cell_type": "code",
   "execution_count": 328,
   "metadata": {},
   "outputs": [],
   "source": [
    "class CustomTraining():\n",
    "    \n",
    "    def __init__(self, model, batch_size=32, optimizer=tf.keras.optimizers.RMSprop(learning_rate=0.1), loss=losses.MeanSquaredError()):\n",
    "        self.model = model\n",
    "        self.batch_size = batch_size\n",
    "        self.optimizer = optimizer\n",
    "        self.loss = loss\n",
    "    \n",
    "    def train_epoch(self, X,y):\n",
    "        loss_total = 0\n",
    "        batches = 0\n",
    "        for i, (X_batch, y_batch) in enumerate(zip(X,y)):\n",
    "            with tf.GradientTape() as g:\n",
    "                g.watch(self.model.weights)\n",
    "                y_pred = self.model(X_batch)\n",
    "                loss_epoch = self.loss(y_batch, y_pred)\n",
    "                grads = g.gradient(loss_epoch, self.model.weights)\n",
    "            loss_total = loss_total + loss_epoch.numpy()\n",
    "            self.optimizer.apply_gradients(zip(grads,self.model.weights))\n",
    "            batches = batches + i\n",
    "        return loss_total / batches\n",
    "        \n",
    "    def fit(self, X, y, epochs=1, verbose=True):\n",
    "        X_ = X.batch(self.batch_size)\n",
    "        y_ = y.batch(self.batch_size)\n",
    "        for epoch in range(epochs):\n",
    "            loss = self.train_epoch(X_,y_)\n",
    "            if verbose:\n",
    "                if epoch % 10 == 0:\n",
    "                    print(\"epoch: \", epoch)\n",
    "                    print(\"loss: \", loss)\n",
    "                    print(\"model: \", self.model.weights)\n",
    "        \n",
    "    "
   ]
  },
  {
   "cell_type": "code",
   "execution_count": 329,
   "metadata": {},
   "outputs": [],
   "source": [
    "regressor = tf.keras.Sequential()\n",
    "regressor.add(layers.Dense(1, input_shape=(1,))) # features, examples"
   ]
  },
  {
   "cell_type": "code",
   "execution_count": 330,
   "metadata": {},
   "outputs": [],
   "source": [
    "custom = CustomTraining(model=regressor)"
   ]
  },
  {
   "cell_type": "code",
   "execution_count": 331,
   "metadata": {},
   "outputs": [
    {
     "name": "stdout",
     "output_type": "stream",
     "text": [
      "WARNING:tensorflow:Layer dense_22 is casting an input tensor from dtype float64 to the layer's dtype of float32, which is new behavior in TensorFlow 2.  The layer has dtype float32 because it's dtype defaults to floatx.\n",
      "\n",
      "If you intended to run this layer in float32, you can safely ignore this warning. If in doubt, this warning is likely only an issue if you are porting a TensorFlow 1.X model to TensorFlow 2.\n",
      "\n",
      "To change all layers to have dtype float64 by default, call `tf.keras.backend.set_floatx('float64')`. To change just this layer, pass dtype='float64' to the layer constructor. If you are the author of this layer, you can disable autocasting by passing autocast=False to the base Layer constructor.\n",
      "\n"
     ]
    },
    {
     "data": {
      "text/plain": [
       "32.814794858296715"
      ]
     },
     "execution_count": 331,
     "metadata": {},
     "output_type": "execute_result"
    }
   ],
   "source": [
    "custom.train_epoch(x_data.batch(32), y_data.batch(32))"
   ]
  },
  {
   "cell_type": "code",
   "execution_count": 332,
   "metadata": {},
   "outputs": [
    {
     "name": "stdout",
     "output_type": "stream",
     "text": [
      "epoch:  0\n",
      "loss:  18.331841309865315\n",
      "model:  [<tf.Variable 'dense_22/kernel:0' shape=(1, 1) dtype=float32, numpy=array([[-2.426633]], dtype=float32)>, <tf.Variable 'dense_22/bias:0' shape=(1,) dtype=float32, numpy=array([0.15486497], dtype=float32)>]\n",
      "epoch:  10\n",
      "loss:  1.5717472632726033\n",
      "model:  [<tf.Variable 'dense_22/kernel:0' shape=(1, 1) dtype=float32, numpy=array([[-3.6101685]], dtype=float32)>, <tf.Variable 'dense_22/bias:0' shape=(1,) dtype=float32, numpy=array([1.7979078], dtype=float32)>]\n",
      "epoch:  20\n",
      "loss:  1.2648730476697285\n",
      "model:  [<tf.Variable 'dense_22/kernel:0' shape=(1, 1) dtype=float32, numpy=array([[-3.621345]], dtype=float32)>, <tf.Variable 'dense_22/bias:0' shape=(1,) dtype=float32, numpy=array([2.4192452], dtype=float32)>]\n",
      "epoch:  30\n",
      "loss:  1.2765143314997356\n",
      "model:  [<tf.Variable 'dense_22/kernel:0' shape=(1, 1) dtype=float32, numpy=array([[-3.6411438]], dtype=float32)>, <tf.Variable 'dense_22/bias:0' shape=(1,) dtype=float32, numpy=array([2.459684], dtype=float32)>]\n",
      "epoch:  40\n",
      "loss:  1.2760331829388936\n",
      "model:  [<tf.Variable 'dense_22/kernel:0' shape=(1, 1) dtype=float32, numpy=array([[-3.6370788]], dtype=float32)>, <tf.Variable 'dense_22/bias:0' shape=(1,) dtype=float32, numpy=array([2.4645078], dtype=float32)>]\n",
      "epoch:  50\n",
      "loss:  1.2759670217831929\n",
      "model:  [<tf.Variable 'dense_22/kernel:0' shape=(1, 1) dtype=float32, numpy=array([[-3.6373277]], dtype=float32)>, <tf.Variable 'dense_22/bias:0' shape=(1,) dtype=float32, numpy=array([2.4639049], dtype=float32)>]\n",
      "epoch:  60\n",
      "loss:  1.275975227355957\n",
      "model:  [<tf.Variable 'dense_22/kernel:0' shape=(1, 1) dtype=float32, numpy=array([[-3.6373262]], dtype=float32)>, <tf.Variable 'dense_22/bias:0' shape=(1,) dtype=float32, numpy=array([2.4639354], dtype=float32)>]\n",
      "epoch:  70\n",
      "loss:  1.2759750088055928\n",
      "model:  [<tf.Variable 'dense_22/kernel:0' shape=(1, 1) dtype=float32, numpy=array([[-3.637325]], dtype=float32)>, <tf.Variable 'dense_22/bias:0' shape=(1,) dtype=float32, numpy=array([2.463936], dtype=float32)>]\n",
      "epoch:  80\n",
      "loss:  1.2759748299916585\n",
      "model:  [<tf.Variable 'dense_22/kernel:0' shape=(1, 1) dtype=float32, numpy=array([[-3.6373248]], dtype=float32)>, <tf.Variable 'dense_22/bias:0' shape=(1,) dtype=float32, numpy=array([2.4639359], dtype=float32)>]\n",
      "epoch:  90\n",
      "loss:  1.2759748299916585\n",
      "model:  [<tf.Variable 'dense_22/kernel:0' shape=(1, 1) dtype=float32, numpy=array([[-3.6373248]], dtype=float32)>, <tf.Variable 'dense_22/bias:0' shape=(1,) dtype=float32, numpy=array([2.4639359], dtype=float32)>]\n"
     ]
    }
   ],
   "source": [
    "custom.fit(x_data, y_data, epochs=100, verbose=True)"
   ]
  },
  {
   "cell_type": "code",
   "execution_count": 333,
   "metadata": {},
   "outputs": [
    {
     "data": {
      "text/plain": [
       "[<tf.Variable 'dense_22/kernel:0' shape=(1, 1) dtype=float32, numpy=array([[-3.6373248]], dtype=float32)>,\n",
       " <tf.Variable 'dense_22/bias:0' shape=(1,) dtype=float32, numpy=array([2.4639359], dtype=float32)>]"
      ]
     },
     "execution_count": 333,
     "metadata": {},
     "output_type": "execute_result"
    }
   ],
   "source": [
    "custom.model.weights"
   ]
  },
  {
   "cell_type": "markdown",
   "metadata": {},
   "source": [
    "### 3. Binary Classification"
   ]
  },
  {
   "cell_type": "code",
   "execution_count": 339,
   "metadata": {},
   "outputs": [],
   "source": [
    "X,y = make_classification(n_samples=600, n_features=2, n_redundant=0, random_state=42)"
   ]
  },
  {
   "cell_type": "code",
   "execution_count": 340,
   "metadata": {},
   "outputs": [],
   "source": [
    "X_train, X_test, y_train, y_test = train_test_split(X,y, test_size=0.2, random_state=42)"
   ]
  },
  {
   "cell_type": "code",
   "execution_count": 359,
   "metadata": {},
   "outputs": [],
   "source": [
    "X_data = tf.data.Dataset.from_tensor_slices(X_train)\n",
    "y_data = tf.data.Dataset.from_tensor_slices(y_train)\n",
    "data = tf.data.Dataset.zip((X_data, y_data))"
   ]
  },
  {
   "cell_type": "code",
   "execution_count": 360,
   "metadata": {},
   "outputs": [],
   "source": [
    "df_data = pd.DataFrame(data=X, columns=[\"x_1\", \"x_2\"])\n",
    "df_data[\"y\"] = y"
   ]
  },
  {
   "cell_type": "code",
   "execution_count": 361,
   "metadata": {},
   "outputs": [
    {
     "data": {
      "text/plain": [
       "<seaborn.axisgrid.PairGrid at 0x7f1a201d1750>"
      ]
     },
     "execution_count": 361,
     "metadata": {},
     "output_type": "execute_result"
    },
    {
     "data": {
      "image/png": "[encoded data removed]",
      "text/plain": [
       "<Figure size 402.375x360 with 6 Axes>"
      ]
     },
     "metadata": {
      "needs_background": "light"
     },
     "output_type": "display_data"
    }
   ],
   "source": [
    "sns.pairplot(data=df_data, hue=\"y\", vars=[\"x_1\", \"x_2\"])"
   ]
  },
  {
   "cell_type": "code",
   "execution_count": 362,
   "metadata": {},
   "outputs": [],
   "source": [
    "clf = tf.keras.Sequential()\n",
    "clf.add(layers.Dense(1, input_shape=(2,)))\n",
    "clf.add(layers.Activation(tf.nn.sigmoid))"
   ]
  },
  {
   "cell_type": "code",
   "execution_count": 363,
   "metadata": {},
   "outputs": [
    {
     "name": "stdout",
     "output_type": "stream",
     "text": [
      "Model: \"sequential_26\"\n",
      "_________________________________________________________________\n",
      "Layer (type)                 Output Shape              Param #   \n",
      "=================================================================\n",
      "dense_25 (Dense)             (None, 1)                 3         \n",
      "_________________________________________________________________\n",
      "activation_2 (Activation)    (None, 1)                 0         \n",
      "=================================================================\n",
      "Total params: 3\n",
      "Trainable params: 3\n",
      "Non-trainable params: 0\n",
      "_________________________________________________________________\n"
     ]
    }
   ],
   "source": [
    "clf.summary()"
   ]
  },
  {
   "cell_type": "code",
   "execution_count": 366,
   "metadata": {},
   "outputs": [],
   "source": [
    "custom_training = CustomTraining(model=clf, loss=losses.BinaryCrossentropy(from_logits=True))"
   ]
  },
  {
   "cell_type": "code",
   "execution_count": 368,
   "metadata": {},
   "outputs": [
    {
     "name": "stdout",
     "output_type": "stream",
     "text": [
      "epoch:  0\n",
      "loss:  0.09843276739120484\n",
      "model:  [<tf.Variable 'dense_25/kernel:0' shape=(2, 1) dtype=float32, numpy=\n",
      "array([[0.5223336 ],\n",
      "       [0.06824602]], dtype=float32)>, <tf.Variable 'dense_25/bias:0' shape=(1,) dtype=float32, numpy=array([-0.21927133], dtype=float32)>]\n",
      "epoch:  10\n",
      "loss:  0.07840925199644906\n",
      "model:  [<tf.Variable 'dense_25/kernel:0' shape=(2, 1) dtype=float32, numpy=\n",
      "array([[ 7.1053376],\n",
      "       [-1.1755619]], dtype=float32)>, <tf.Variable 'dense_25/bias:0' shape=(1,) dtype=float32, numpy=array([-0.7427837], dtype=float32)>]\n",
      "epoch:  20\n",
      "loss:  0.07812236263638452\n",
      "model:  [<tf.Variable 'dense_25/kernel:0' shape=(2, 1) dtype=float32, numpy=\n",
      "array([[10.088914 ],\n",
      "       [-1.6738311]], dtype=float32)>, <tf.Variable 'dense_25/bias:0' shape=(1,) dtype=float32, numpy=array([-1.1074785], dtype=float32)>]\n",
      "epoch:  30\n",
      "loss:  0.07805440709704445\n",
      "model:  [<tf.Variable 'dense_25/kernel:0' shape=(2, 1) dtype=float32, numpy=\n",
      "array([[11.779388 ],\n",
      "       [-1.9363257]], dtype=float32)>, <tf.Variable 'dense_25/bias:0' shape=(1,) dtype=float32, numpy=array([-1.3567215], dtype=float32)>]\n",
      "epoch:  40\n",
      "loss:  0.0780180641583034\n",
      "model:  [<tf.Variable 'dense_25/kernel:0' shape=(2, 1) dtype=float32, numpy=\n",
      "array([[13.089239 ],\n",
      "       [-2.1339414]], dtype=float32)>, <tf.Variable 'dense_25/bias:0' shape=(1,) dtype=float32, numpy=array([-1.5413362], dtype=float32)>]\n",
      "epoch:  50\n",
      "loss:  0.0779935984384446\n",
      "model:  [<tf.Variable 'dense_25/kernel:0' shape=(2, 1) dtype=float32, numpy=\n",
      "array([[14.200817 ],\n",
      "       [-2.3001492]], dtype=float32)>, <tf.Variable 'dense_25/bias:0' shape=(1,) dtype=float32, numpy=array([-1.6916115], dtype=float32)>]\n",
      "epoch:  60\n",
      "loss:  0.0779752044450669\n",
      "model:  [<tf.Variable 'dense_25/kernel:0' shape=(2, 1) dtype=float32, numpy=\n",
      "array([[15.186091 ],\n",
      "       [-2.4472458]], dtype=float32)>, <tf.Variable 'dense_25/bias:0' shape=(1,) dtype=float32, numpy=array([-1.8209577], dtype=float32)>]\n",
      "epoch:  70\n",
      "loss:  0.07796043554941813\n",
      "model:  [<tf.Variable 'dense_25/kernel:0' shape=(2, 1) dtype=float32, numpy=\n",
      "array([[16.082296 ],\n",
      "       [-2.5812638]], dtype=float32)>, <tf.Variable 'dense_25/bias:0' shape=(1,) dtype=float32, numpy=array([-1.936304], dtype=float32)>]\n",
      "epoch:  80\n",
      "loss:  0.07794806304432098\n",
      "model:  [<tf.Variable 'dense_25/kernel:0' shape=(2, 1) dtype=float32, numpy=\n",
      "array([[16.911753],\n",
      "       [-2.705666]], dtype=float32)>, <tf.Variable 'dense_25/bias:0' shape=(1,) dtype=float32, numpy=array([-2.0416431], dtype=float32)>]\n",
      "epoch:  90\n",
      "loss:  0.0779373790536608\n",
      "model:  [<tf.Variable 'dense_25/kernel:0' shape=(2, 1) dtype=float32, numpy=\n",
      "array([[17.689072],\n",
      "       [-2.822644]], dtype=float32)>, <tf.Variable 'dense_25/bias:0' shape=(1,) dtype=float32, numpy=array([-2.1394637], dtype=float32)>]\n"
     ]
    }
   ],
   "source": [
    "custom_training.fit(X=X_data, y=y_data, epochs=100)"
   ]
  },
  {
   "cell_type": "code",
   "execution_count": 369,
   "metadata": {},
   "outputs": [],
   "source": [
    "clf = custom_training.model"
   ]
  },
  {
   "cell_type": "code",
   "execution_count": 371,
   "metadata": {},
   "outputs": [
    {
     "data": {
      "text/plain": [
       "[<tf.Variable 'dense_25/kernel:0' shape=(2, 1) dtype=float32, numpy=\n",
       " array([[18.352562 ],\n",
       "        [-2.9228141]], dtype=float32)>,\n",
       " <tf.Variable 'dense_25/bias:0' shape=(1,) dtype=float32, numpy=array([-2.2224464], dtype=float32)>]"
      ]
     },
     "execution_count": 371,
     "metadata": {},
     "output_type": "execute_result"
    }
   ],
   "source": [
    "clf.weights"
   ]
  },
  {
   "cell_type": "code",
   "execution_count": 373,
   "metadata": {},
   "outputs": [
    {
     "data": {
      "text/plain": [
       "array([[2.7560134e-04],\n",
       "       [1.6284206e-10],\n",
       "       [8.4686142e-01]], dtype=float32)"
      ]
     },
     "execution_count": 373,
     "metadata": {},
     "output_type": "execute_result"
    }
   ],
   "source": [
    "clf.predict(X_test)[:3]"
   ]
  },
  {
   "cell_type": "code",
   "execution_count": 375,
   "metadata": {},
   "outputs": [
    {
     "data": {
      "text/plain": [
       "<matplotlib.axes._subplots.AxesSubplot at 0x7f1a201ce650>"
      ]
     },
     "execution_count": 375,
     "metadata": {},
     "output_type": "execute_result"
    },
    {
     "data": {
      "image/png": "[encoded data removed]",
      "text/plain": [
       "<Figure size 432x288 with 1 Axes>"
      ]
     },
     "metadata": {
      "needs_background": "light"
     },
     "output_type": "display_data"
    }
   ],
   "source": [
    "plot_decision_regions(X_train, y_train, clf=clf)"
   ]
  },
  {
   "cell_type": "code",
   "execution_count": 376,
   "metadata": {},
   "outputs": [],
   "source": [
    "clf = tf.keras.Sequential()\n",
    "clf.add(layers.Dense(8, input_shape=(2,)))\n",
    "clf.add(layers.Activation(tf.nn.sigmoid))\n",
    "clf.add(layers.Dense(1, input_shape=(2,)))\n",
    "clf.add(layers.Activation(tf.nn.sigmoid))"
   ]
  },
  {
   "cell_type": "code",
   "execution_count": 377,
   "metadata": {},
   "outputs": [
    {
     "name": "stdout",
     "output_type": "stream",
     "text": [
      "WARNING:tensorflow:Layer dense_26 is casting an input tensor from dtype float64 to the layer's dtype of float32, which is new behavior in TensorFlow 2.  The layer has dtype float32 because it's dtype defaults to floatx.\n",
      "\n",
      "If you intended to run this layer in float32, you can safely ignore this warning. If in doubt, this warning is likely only an issue if you are porting a TensorFlow 1.X model to TensorFlow 2.\n",
      "\n",
      "To change all layers to have dtype float64 by default, call `tf.keras.backend.set_floatx('float64')`. To change just this layer, pass dtype='float64' to the layer constructor. If you are the author of this layer, you can disable autocasting by passing autocast=False to the base Layer constructor.\n",
      "\n",
      "epoch:  0\n",
      "loss:  0.08698532183965048\n",
      "model:  [<tf.Variable 'dense_26/kernel:0' shape=(2, 8) dtype=float32, numpy=\n",
      "array([[ 0.5026407 , -1.4141338 , -1.6832645 ,  1.4652658 , -2.0108504 ,\n",
      "         1.4024752 ,  1.4578724 ,  1.4922479 ],\n",
      "       [ 0.03992398,  0.6396711 ,  0.55807906, -0.3539572 ,  0.4941697 ,\n",
      "        -0.22571975, -0.3792092 , -0.43649372]], dtype=float32)>, <tf.Variable 'dense_26/bias:0' shape=(8,) dtype=float32, numpy=\n",
      "array([-0.1852021 ,  0.06175438,  0.09182926, -0.20793822,  0.11821315,\n",
      "       -0.09197527, -0.1521102 , -0.2548216 ], dtype=float32)>, <tf.Variable 'dense_27/kernel:0' shape=(8, 1) dtype=float32, numpy=\n",
      "array([[ 0.16139254],\n",
      "       [-1.6044278 ],\n",
      "       [-2.0587926 ],\n",
      "       [ 1.0960157 ],\n",
      "       [-2.0449007 ],\n",
      "       [ 1.4406035 ],\n",
      "       [ 1.5105865 ],\n",
      "       [ 1.0402327 ]], dtype=float32)>, <tf.Variable 'dense_27/bias:0' shape=(1,) dtype=float32, numpy=array([-0.11188538], dtype=float32)>]\n",
      "epoch:  10\n",
      "loss:  0.07814230180922009\n",
      "model:  [<tf.Variable 'dense_26/kernel:0' shape=(2, 8) dtype=float32, numpy=\n",
      "array([[ 2.299345  , -3.9929779 , -4.1358805 ,  4.0368013 , -4.4140234 ,\n",
      "         3.765353  ,  3.82839   ,  4.12186   ],\n",
      "       [-0.6991479 ,  0.90011376,  0.9181223 , -0.9518685 ,  0.95587486,\n",
      "        -0.8938981 , -0.9207266 , -0.9677177 ]], dtype=float32)>, <tf.Variable 'dense_26/bias:0' shape=(8,) dtype=float32, numpy=\n",
      "array([-1.7978996 ,  0.36942196,  0.43076593, -0.7641546 ,  0.4831921 ,\n",
      "       -0.6606887 , -0.6985128 , -0.7931078 ], dtype=float32)>, <tf.Variable 'dense_27/kernel:0' shape=(8, 1) dtype=float32, numpy=\n",
      "array([[ 0.29174486],\n",
      "       [-3.1492016 ],\n",
      "       [-3.6969771 ],\n",
      "       [ 2.2013485 ],\n",
      "       [-3.7961867 ],\n",
      "       [ 2.3413353 ],\n",
      "       [ 2.4872339 ],\n",
      "       [ 2.207241  ]], dtype=float32)>, <tf.Variable 'dense_27/bias:0' shape=(1,) dtype=float32, numpy=array([-0.4012163], dtype=float32)>]\n",
      "epoch:  20\n",
      "loss:  0.07823328148751031\n",
      "model:  [<tf.Variable 'dense_26/kernel:0' shape=(2, 8) dtype=float32, numpy=\n",
      "array([[ 3.1307292 , -5.1881747 , -5.26286   ,  4.96242   , -5.4986987 ,\n",
      "         4.6829624 ,  4.7599044 ,  5.0502625 ],\n",
      "       [-0.8423697 ,  0.83378816,  0.9154142 , -1.0987663 ,  0.9872777 ,\n",
      "        -1.0572984 , -1.0687059 , -1.1104207 ]], dtype=float32)>, <tf.Variable 'dense_26/bias:0' shape=(8,) dtype=float32, numpy=\n",
      "array([-3.1762934 ,  0.29488444,  0.4141156 , -1.0984341 ,  0.50011015,\n",
      "       -1.0007877 , -1.0234091 , -1.1208547 ], dtype=float32)>, <tf.Variable 'dense_27/kernel:0' shape=(8, 1) dtype=float32, numpy=\n",
      "array([[ 0.26515985],\n",
      "       [-3.398105  ],\n",
      "       [-3.9890707 ],\n",
      "       [ 2.4522822 ],\n",
      "       [-4.158715  ],\n",
      "       [ 2.5172887 ],\n",
      "       [ 2.683882  ],\n",
      "       [ 2.4808476 ]], dtype=float32)>, <tf.Variable 'dense_27/bias:0' shape=(1,) dtype=float32, numpy=array([-0.44054505], dtype=float32)>]\n",
      "epoch:  30\n",
      "loss:  0.0780804469471886\n",
      "model:  [<tf.Variable 'dense_26/kernel:0' shape=(2, 8) dtype=float32, numpy=\n",
      "array([[ 3.6778543, -7.2306504, -6.0572643,  5.38308  , -6.051299 ,\n",
      "         5.099747 ,  5.179776 ,  5.4709005],\n",
      "       [-0.9960118, -0.4171928,  0.9318046, -1.3323008,  1.2246202,\n",
      "        -1.3057201, -1.3132873, -1.3418534]], dtype=float32)>, <tf.Variable 'dense_26/bias:0' shape=(8,) dtype=float32, numpy=\n",
      "array([-4.523068  , -0.8434189 ,  0.14570059, -1.3733946 ,  0.41979092,\n",
      "       -1.2758385 , -1.2869768 , -1.3913699 ], dtype=float32)>, <tf.Variable 'dense_27/kernel:0' shape=(8, 1) dtype=float32, numpy=\n",
      "array([[ 0.3202244],\n",
      "       [-3.645144 ],\n",
      "       [-3.9990294],\n",
      "       [ 2.5355127],\n",
      "       [-4.2822795],\n",
      "       [ 2.5599527],\n",
      "       [ 2.7364368],\n",
      "       [ 2.5764086]], dtype=float32)>, <tf.Variable 'dense_27/bias:0' shape=(1,) dtype=float32, numpy=array([-0.48200405], dtype=float32)>]\n",
      "epoch:  40\n",
      "loss:  0.07786214749018351\n",
      "model:  [<tf.Variable 'dense_26/kernel:0' shape=(2, 8) dtype=float32, numpy=\n",
      "array([[  4.3020463, -11.122191 ,  -6.8750896,   5.83761  ,  -6.2514105,\n",
      "          5.5521703,   5.6333075,   5.9253297],\n",
      "       [ -1.1707697,  -1.5165265,   0.9648839,  -1.4862968,   1.8535582,\n",
      "         -1.4734528,  -1.4801822,  -1.4943789]], dtype=float32)>, <tf.Variable 'dense_26/bias:0' shape=(8,) dtype=float32, numpy=\n",
      "array([-5.4034185 , -3.087132  , -0.41210958, -1.3883871 ,  0.04431282,\n",
      "       -1.2661254 , -1.2688041 , -1.4045169 ], dtype=float32)>, <tf.Variable 'dense_27/kernel:0' shape=(8, 1) dtype=float32, numpy=\n",
      "array([[ 0.48830917],\n",
      "       [-7.3557186 ],\n",
      "       [-3.8454752 ],\n",
      "       [ 2.743808  ],\n",
      "       [-4.3985047 ],\n",
      "       [ 2.7474651 ],\n",
      "       [ 2.9321795 ],\n",
      "       [ 2.793803  ]], dtype=float32)>, <tf.Variable 'dense_27/bias:0' shape=(1,) dtype=float32, numpy=array([-0.33743945], dtype=float32)>]\n",
      "epoch:  50\n",
      "loss:  0.07756795457431248\n",
      "model:  [<tf.Variable 'dense_26/kernel:0' shape=(2, 8) dtype=float32, numpy=\n",
      "array([[  4.6690097 , -13.117221  ,  -8.353993  ,   5.8942604 ,\n",
      "         -6.157065  ,   5.565766  ,   5.6536646 ,   5.9894304 ],\n",
      "       [ -1.2779343 ,  -1.943263  ,  -0.22250777,  -1.7800682 ,\n",
      "          2.4849951 ,  -1.8275014 ,  -1.8303697 ,  -1.7801652 ]],\n",
      "      dtype=float32)>, <tf.Variable 'dense_26/bias:0' shape=(8,) dtype=float32, numpy=\n",
      "array([-6.390855 , -4.5778394, -2.5344305, -1.2463809, -1.2113867,\n",
      "       -0.9498157, -0.9577118, -1.2806371], dtype=float32)>, <tf.Variable 'dense_27/kernel:0' shape=(8, 1) dtype=float32, numpy=\n",
      "array([[  0.3808974],\n",
      "       [-11.501843 ],\n",
      "       [ -3.326279 ],\n",
      "       [  2.7042518],\n",
      "       [ -4.8878374],\n",
      "       [  2.785744 ],\n",
      "       [  2.9708214],\n",
      "       [  2.7509527]], dtype=float32)>, <tf.Variable 'dense_27/bias:0' shape=(1,) dtype=float32, numpy=array([-0.08085112], dtype=float32)>]\n",
      "epoch:  60\n",
      "loss:  0.07707662383715312\n",
      "model:  [<tf.Variable 'dense_26/kernel:0' shape=(2, 8) dtype=float32, numpy=\n",
      "array([[  4.379736 , -16.172308 , -10.008139 ,   4.865463 ,  -5.009027 ,\n",
      "          4.4469743,   4.559845 ,   4.985877 ],\n",
      "       [ -1.531897 ,  -2.2415252,  -2.3981614,  -2.3838787,   3.1568086,\n",
      "         -2.4098728,  -2.412857 ,  -2.3849123]], dtype=float32)>, <tf.Variable 'dense_26/bias:0' shape=(8,) dtype=float32, numpy=\n",
      "array([-7.4906034 , -5.927782  , -5.260682  , -0.26607627, -3.0018764 ,\n",
      "        0.52966654,  0.47578558, -0.3934334 ], dtype=float32)>, <tf.Variable 'dense_27/kernel:0' shape=(8, 1) dtype=float32, numpy=\n",
      "array([[ 1.5239976e-02],\n",
      "       [-1.5762765e+01],\n",
      "       [-6.4322100e+00],\n",
      "       [ 3.0268583e+00],\n",
      "       [-6.1805425e+00],\n",
      "       [ 3.7369711e+00],\n",
      "       [ 3.8554699e+00],\n",
      "       [ 2.9727254e+00]], dtype=float32)>, <tf.Variable 'dense_27/bias:0' shape=(1,) dtype=float32, numpy=array([0.38070762], dtype=float32)>]\n",
      "epoch:  70\n",
      "loss:  0.07678315894944328\n",
      "model:  [<tf.Variable 'dense_26/kernel:0' shape=(2, 8) dtype=float32, numpy=\n",
      "array([[  3.966432 , -18.600367 , -11.3008375,   3.2376   ,  -3.6727393,\n",
      "          2.709517 ,   2.8527203,   3.4035516],\n",
      "       [ -2.250426 ,  -2.7958858,  -2.6100888,  -3.1232364,   3.530124 ,\n",
      "         -3.0313447,  -3.0564191,  -3.1526713]], dtype=float32)>, <tf.Variable 'dense_26/bias:0' shape=(8,) dtype=float32, numpy=\n",
      "array([-8.4344025e+00, -6.5947533e+00, -6.5246100e+00,  2.1748720e-01,\n",
      "       -3.9623842e+00,  1.3369689e+00,  1.2211802e+00, -1.9100755e-03],\n",
      "      dtype=float32)>, <tf.Variable 'dense_27/kernel:0' shape=(8, 1) dtype=float32, numpy=\n",
      "array([[  0.05654663],\n",
      "       [-18.591309  ],\n",
      "       [ -9.281831  ],\n",
      "       [  3.5205724 ],\n",
      "       [ -6.642815  ],\n",
      "       [  4.5907273 ],\n",
      "       [  4.615802  ],\n",
      "       [  3.3736734 ]], dtype=float32)>, <tf.Variable 'dense_27/bias:0' shape=(1,) dtype=float32, numpy=array([0.763011], dtype=float32)>]\n",
      "epoch:  80\n",
      "loss:  0.07664768071401687\n",
      "model:  [<tf.Variable 'dense_26/kernel:0' shape=(2, 8) dtype=float32, numpy=\n",
      "array([[  4.7878714, -20.016155 , -12.931686 ,   3.0122812,  -3.4717298,\n",
      "          1.9572418,   2.1884425,   3.3298378],\n",
      "       [ -2.3705351,  -3.278438 ,  -2.4451532,  -3.2523193,   3.6866548,\n",
      "         -3.2125103,  -3.229455 ,  -3.2603278]], dtype=float32)>, <tf.Variable 'dense_26/bias:0' shape=(8,) dtype=float32, numpy=\n",
      "array([-7.4786897 , -6.957013  , -6.78165   ,  0.5147807 , -4.3868713 ,\n",
      "        1.9159615 ,  1.7571518 ,  0.22404104], dtype=float32)>, <tf.Variable 'dense_27/kernel:0' shape=(8, 1) dtype=float32, numpy=\n",
      "array([[  1.5156566],\n",
      "       [-20.330654 ],\n",
      "       [-10.430001 ],\n",
      "       [  3.9901872],\n",
      "       [ -7.2756805],\n",
      "       [  5.304302 ],\n",
      "       [  5.256948 ],\n",
      "       [  3.8174572]], dtype=float32)>, <tf.Variable 'dense_27/bias:0' shape=(1,) dtype=float32, numpy=array([0.7505239], dtype=float32)>]\n",
      "epoch:  90\n",
      "loss:  0.07656207567169553\n",
      "model:  [<tf.Variable 'dense_26/kernel:0' shape=(2, 8) dtype=float32, numpy=\n",
      "array([[  7.2056203, -21.105164 , -14.494383 ,   2.744051 ,  -3.677928 ,\n",
      "          1.2348745,   1.5119689,   3.248962 ],\n",
      "       [ -0.8745252,  -3.4725928,  -2.6194005,  -3.5580647,   3.8861475,\n",
      "         -3.3746176,  -3.4075992,  -3.5802264]], dtype=float32)>, <tf.Variable 'dense_26/bias:0' shape=(8,) dtype=float32, numpy=\n",
      "array([-6.0167656 , -7.1687164 , -6.893651  ,  0.6496964 , -4.6331687 ,\n",
      "        2.49164   ,  2.2896051 ,  0.21551469], dtype=float32)>, <tf.Variable 'dense_27/kernel:0' shape=(8, 1) dtype=float32, numpy=\n",
      "array([[  3.5272388],\n",
      "       [-21.95661  ],\n",
      "       [-11.220141 ],\n",
      "       [  4.327226 ],\n",
      "       [ -7.827028 ],\n",
      "       [  6.133413 ],\n",
      "       [  5.992066 ],\n",
      "       [  4.04899  ]], dtype=float32)>, <tf.Variable 'dense_27/bias:0' shape=(1,) dtype=float32, numpy=array([0.70721614], dtype=float32)>]\n"
     ]
    }
   ],
   "source": [
    "custom_training = CustomTraining(model=clf, loss=losses.BinaryCrossentropy(from_logits=True))\n",
    "custom_training.fit(X=X_data, y=y_data, epochs=100)"
   ]
  },
  {
   "cell_type": "code",
   "execution_count": 378,
   "metadata": {},
   "outputs": [
    {
     "data": {
      "text/plain": [
       "<matplotlib.axes._subplots.AxesSubplot at 0x7f1a226ceb50>"
      ]
     },
     "execution_count": 378,
     "metadata": {},
     "output_type": "execute_result"
    },
    {
     "data": {
      "image/png": "[encoded data removed]",
      "text/plain": [
       "<Figure size 432x288 with 1 Axes>"
      ]
     },
     "metadata": {
      "needs_background": "light"
     },
     "output_type": "display_data"
    }
   ],
   "source": [
    "plot_decision_regions(X_train, y_train, clf=clf)"
   ]
  },
  {
   "cell_type": "code",
   "execution_count": null,
   "metadata": {},
   "outputs": [],
   "source": []
  }
 ],
 "metadata": {
  "kernelspec": {
   "display_name": "tf2",
   "language": "python",
   "name": "tf2"
  },
  "language_info": {
   "codemirror_mode": {
    "name": "ipython",
    "version": 3
   },
   "file_extension": ".py",
   "mimetype": "text/x-python",
   "name": "python",
   "nbconvert_exporter": "python",
   "pygments_lexer": "ipython3",
   "version": "3.7.6"
  }
 },
 "nbformat": 4,
 "nbformat_minor": 4
}
