{
 "cells": [
  {
   "cell_type": "code",
   "execution_count": 144,
   "metadata": {},
   "outputs": [],
   "source": [
    "import numpy as np\n",
    "import pandas as pd\n",
    "import seaborn as sns\n",
    "from sklearn.datasets import make_classification\n",
    "from sklearn.model_selection import train_test_split\n",
    "import tensorflow as tf\n",
    "from tensorflow.keras import layers, metrics, losses"
   ]
  },
  {
   "cell_type": "code",
   "execution_count": 515,
   "metadata": {},
   "outputs": [],
   "source": [
    "X,y = make_classification(n_samples=100, n_features=2, n_redundant=0, random_state=42)"
   ]
  },
  {
   "cell_type": "code",
   "execution_count": 516,
   "metadata": {},
   "outputs": [],
   "source": [
    "X, X_test, y, y_test = train_test_split(X,y, test_size=0.2, random_state=42)"
   ]
  },
  {
   "cell_type": "code",
   "execution_count": 517,
   "metadata": {},
   "outputs": [],
   "source": [
    "X_data = tf.data.Dataset.from_tensor_slices(X).batch(16)\n",
    "y_data = tf.data.Dataset.from_tensor_slices(y).batch(16)\n",
    "data = tf.data.Dataset.zip((X_data, y_data))"
   ]
  },
  {
   "cell_type": "markdown",
   "metadata": {},
   "source": [
    "### built-in keras model"
   ]
  },
  {
   "cell_type": "code",
   "execution_count": 518,
   "metadata": {},
   "outputs": [],
   "source": [
    "model =tf.keras.Sequential()\n",
    "model.add(layers.Dense(1, input_shape=(2,)))\n",
    "model.add(layers.Activation(tf.nn.sigmoid))"
   ]
  },
  {
   "cell_type": "code",
   "execution_count": 519,
   "metadata": {},
   "outputs": [
    {
     "name": "stdout",
     "output_type": "stream",
     "text": [
      "Model: \"sequential_55\"\n",
      "_________________________________________________________________\n",
      "Layer (type)                 Output Shape              Param #   \n",
      "=================================================================\n",
      "dense_80 (Dense)             (None, 1)                 3         \n",
      "_________________________________________________________________\n",
      "activation_73 (Activation)   (None, 1)                 0         \n",
      "=================================================================\n",
      "Total params: 3\n",
      "Trainable params: 3\n",
      "Non-trainable params: 0\n",
      "_________________________________________________________________\n"
     ]
    }
   ],
   "source": [
    "model.summary()"
   ]
  },
  {
   "cell_type": "code",
   "execution_count": 520,
   "metadata": {},
   "outputs": [
    {
     "data": {
      "text/plain": [
       "<tf.Tensor 'dense_80_input:0' shape=(None, 2) dtype=float32>"
      ]
     },
     "execution_count": 520,
     "metadata": {},
     "output_type": "execute_result"
    }
   ],
   "source": [
    "model.input"
   ]
  },
  {
   "cell_type": "code",
   "execution_count": 521,
   "metadata": {},
   "outputs": [],
   "source": [
    "model.compile(loss=losses.binary_crossentropy, metrics=[\"accuracy\"])"
   ]
  },
  {
   "cell_type": "code",
   "execution_count": 524,
   "metadata": {},
   "outputs": [
    {
     "name": "stdout",
     "output_type": "stream",
     "text": [
      "Train on 80 samples\n",
      "Epoch 1/10\n",
      "80/80 [==============================] - 0s 298us/sample - loss: 1.0905 - accuracy: 0.4000\n",
      "Epoch 2/10\n",
      "80/80 [==============================] - 0s 174us/sample - loss: 1.0857 - accuracy: 0.4000\n",
      "Epoch 3/10\n",
      "80/80 [==============================] - 0s 152us/sample - loss: 1.0809 - accuracy: 0.4000\n",
      "Epoch 4/10\n",
      "80/80 [==============================] - 0s 230us/sample - loss: 1.0762 - accuracy: 0.4000\n",
      "Epoch 5/10\n",
      "80/80 [==============================] - 0s 270us/sample - loss: 1.0713 - accuracy: 0.4000\n",
      "Epoch 6/10\n",
      "80/80 [==============================] - 0s 268us/sample - loss: 1.0666 - accuracy: 0.4125\n",
      "Epoch 7/10\n",
      "80/80 [==============================] - 0s 192us/sample - loss: 1.0617 - accuracy: 0.4125\n",
      "Epoch 8/10\n",
      "80/80 [==============================] - 0s 397us/sample - loss: 1.0570 - accuracy: 0.4250\n",
      "Epoch 9/10\n",
      "80/80 [==============================] - 0s 287us/sample - loss: 1.0523 - accuracy: 0.4250\n",
      "Epoch 10/10\n",
      "80/80 [==============================] - 0s 245us/sample - loss: 1.0475 - accuracy: 0.4250\n"
     ]
    },
    {
     "data": {
      "text/plain": [
       "<tensorflow.python.keras.callbacks.History at 0x7f8c5e36bb38>"
      ]
     },
     "execution_count": 524,
     "metadata": {},
     "output_type": "execute_result"
    }
   ],
   "source": [
    "model.fit(X,y, epochs=10, batch_size=16)"
   ]
  },
  {
   "cell_type": "code",
   "execution_count": 525,
   "metadata": {},
   "outputs": [
    {
     "data": {
      "text/plain": [
       "array([[0.8800186 ],\n",
       "       [0.549698  ],\n",
       "       [0.785006  ],\n",
       "       [0.1833115 ],\n",
       "       [0.2452526 ],\n",
       "       [0.8910201 ],\n",
       "       [0.31538123],\n",
       "       [0.6776275 ],\n",
       "       [0.87074286],\n",
       "       [0.31687728],\n",
       "       [0.3627581 ],\n",
       "       [0.8689618 ],\n",
       "       [0.15098341],\n",
       "       [0.15089563],\n",
       "       [0.6378209 ],\n",
       "       [0.24943331],\n",
       "       [0.8973662 ],\n",
       "       [0.61711556],\n",
       "       [0.29531568],\n",
       "       [0.71479034],\n",
       "       [0.75450593],\n",
       "       [0.14664929],\n",
       "       [0.3245311 ],\n",
       "       [0.42136616],\n",
       "       [0.50786066],\n",
       "       [0.6530947 ],\n",
       "       [0.37605837],\n",
       "       [0.4801928 ],\n",
       "       [0.3080136 ],\n",
       "       [0.26759043],\n",
       "       [0.71887094],\n",
       "       [0.6811843 ],\n",
       "       [0.7242301 ],\n",
       "       [0.7754773 ],\n",
       "       [0.8479359 ],\n",
       "       [0.86165786],\n",
       "       [0.92784965],\n",
       "       [0.38679603],\n",
       "       [0.5613064 ],\n",
       "       [0.77490234],\n",
       "       [0.16259794],\n",
       "       [0.51793253],\n",
       "       [0.28424367],\n",
       "       [0.21209168],\n",
       "       [0.49498746],\n",
       "       [0.6931041 ],\n",
       "       [0.7376695 ],\n",
       "       [0.16462894],\n",
       "       [0.6933959 ],\n",
       "       [0.20125057],\n",
       "       [0.25030676],\n",
       "       [0.29195988],\n",
       "       [0.82104456],\n",
       "       [0.5440051 ],\n",
       "       [0.3443653 ],\n",
       "       [0.8221456 ],\n",
       "       [0.87577635],\n",
       "       [0.6159385 ],\n",
       "       [0.09507701],\n",
       "       [0.33659482],\n",
       "       [0.3269165 ],\n",
       "       [0.05669348],\n",
       "       [0.27699298],\n",
       "       [0.4449377 ],\n",
       "       [0.607957  ],\n",
       "       [0.17995976],\n",
       "       [0.5420327 ],\n",
       "       [0.9265163 ],\n",
       "       [0.75773406],\n",
       "       [0.6762088 ],\n",
       "       [0.9527151 ],\n",
       "       [0.08897455],\n",
       "       [0.16336049],\n",
       "       [0.0961519 ],\n",
       "       [0.7992597 ],\n",
       "       [0.71924824],\n",
       "       [0.9027694 ],\n",
       "       [0.4883731 ],\n",
       "       [0.17437726],\n",
       "       [0.23986872]], dtype=float32)"
      ]
     },
     "execution_count": 525,
     "metadata": {},
     "output_type": "execute_result"
    }
   ],
   "source": [
    "model.predict(X)"
   ]
  },
  {
   "cell_type": "code",
   "execution_count": 526,
   "metadata": {},
   "outputs": [],
   "source": [
    "optimizer = tf.keras.optimizers.RMSprop()"
   ]
  },
  {
   "cell_type": "code",
   "execution_count": 538,
   "metadata": {},
   "outputs": [],
   "source": [
    "model =tf.keras.Sequential()\n",
    "model.add(layers.Dense(1, input_shape=(2,)))\n",
    "model.add(layers.Activation(tf.nn.relu))\n",
    "model.add(layers.Dense(12))\n",
    "model.add(layers.Activation(tf.nn.relu))\n",
    "model.add(layers.Dense(1))\n",
    "model.add(layers.Activation(tf.nn.sigmoid))"
   ]
  },
  {
   "cell_type": "code",
   "execution_count": 551,
   "metadata": {},
   "outputs": [
    {
     "name": "stdout",
     "output_type": "stream",
     "text": [
      "0.56971747\n",
      "0.56213033\n",
      "0.55508447\n",
      "0.548448\n",
      "0.54253495\n",
      "0.53719985\n",
      "0.5320817\n",
      "0.52750957\n",
      "0.5237171\n",
      "0.52085793\n"
     ]
    }
   ],
   "source": [
    "for epoch in range(100):\n",
    "    #print(\"epoch\", epoch)\n",
    "    loss_sum = 0\n",
    "    N = 0\n",
    "    for x_batch, y_batch in data:\n",
    "        \n",
    "        with tf.GradientTape() as tpe:\n",
    "            tpe.watch(model.trainable_variables)\n",
    "            y_pred = model(x_batch, training=True)\n",
    "            #print(model.trainable_weights)\n",
    "            loss_sum = tf.reduce_mean(losses.binary_crossentropy(np.expand_dims(y_batch,-1), y_pred, from_logits=True))\n",
    "            #n = x_batch.shape[0]\n",
    "            #loss = loss_sum/n\n",
    "            #N = n + N\n",
    "            grads = tpe.gradient(loss_sum, model.trainable_variables)\n",
    "            optimizer.apply_gradients(zip(grads, model.trainable_variables))\n",
    "    if epoch % 10 == 0:\n",
    "        print(loss_sum.numpy())\n",
    "        #print(grads)"
   ]
  },
  {
   "cell_type": "code",
   "execution_count": 552,
   "metadata": {},
   "outputs": [
    {
     "data": {
      "text/plain": [
       "[<tf.Tensor: shape=(16,), dtype=int64, numpy=array([0, 0, 1, 0, 1, 0, 1, 1, 1, 0, 0, 1, 1, 1, 0, 0])>,\n",
       " <tf.Tensor: shape=(16,), dtype=int64, numpy=array([0, 1, 1, 1, 1, 1, 1, 1, 1, 0, 1, 0, 1, 1, 1, 0])>,\n",
       " <tf.Tensor: shape=(16,), dtype=int64, numpy=array([0, 0, 0, 0, 1, 0, 0, 0, 0, 0, 0, 1, 0, 0, 1, 0])>,\n",
       " <tf.Tensor: shape=(16,), dtype=int64, numpy=array([1, 0, 0, 1, 0, 1, 0, 1, 0, 0, 1, 0, 1, 1, 0, 1])>,\n",
       " <tf.Tensor: shape=(16,), dtype=int64, numpy=array([1, 1, 1, 0, 0, 1, 0, 1, 1, 0, 1, 0, 0, 1, 1, 1])>]"
      ]
     },
     "execution_count": 552,
     "metadata": {},
     "output_type": "execute_result"
    }
   ],
   "source": [
    "list(y_data)"
   ]
  },
  {
   "cell_type": "code",
   "execution_count": 553,
   "metadata": {},
   "outputs": [],
   "source": [
    "res = model.predict(X_test)"
   ]
  },
  {
   "cell_type": "code",
   "execution_count": 554,
   "metadata": {},
   "outputs": [],
   "source": [
    "preds = np.where(res[:,0]>0.5, 1, 0)"
   ]
  },
  {
   "cell_type": "code",
   "execution_count": 555,
   "metadata": {},
   "outputs": [
    {
     "data": {
      "text/plain": [
       "array([0, 1, 1, 0, 1, 0, 0, 0, 1, 0, 1, 0, 1, 0, 0, 1, 1, 1, 0, 0])"
      ]
     },
     "execution_count": 555,
     "metadata": {},
     "output_type": "execute_result"
    }
   ],
   "source": [
    "y_test"
   ]
  },
  {
   "cell_type": "code",
   "execution_count": 556,
   "metadata": {},
   "outputs": [
    {
     "data": {
      "text/plain": [
       "array([0, 1, 1, 0, 1, 0, 0, 0, 1, 1, 1, 1, 1, 0, 0, 1, 1, 1, 0, 0])"
      ]
     },
     "execution_count": 556,
     "metadata": {},
     "output_type": "execute_result"
    }
   ],
   "source": [
    "preds"
   ]
  },
  {
   "cell_type": "code",
   "execution_count": null,
   "metadata": {},
   "outputs": [],
   "source": []
  }
 ],
 "metadata": {
  "kernelspec": {
   "display_name": "Python (tf-2.0)",
   "language": "python",
   "name": "mcmc"
  },
  "language_info": {
   "codemirror_mode": {
    "name": "ipython",
    "version": 3
   },
   "file_extension": ".py",
   "mimetype": "text/x-python",
   "name": "python",
   "nbconvert_exporter": "python",
   "pygments_lexer": "ipython3",
   "version": "3.6.10"
  }
 },
 "nbformat": 4,
 "nbformat_minor": 4
}
