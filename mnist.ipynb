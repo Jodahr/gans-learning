{
 "cells": [
  {
   "cell_type": "code",
   "execution_count": 376,
   "metadata": {},
   "outputs": [],
   "source": [
    "import tensorflow as tf\n",
    "from PIL import Image\n",
    "from matplotlib import pyplot as plt\n",
    "import numpy as np\n",
    "from tensorflow.keras import backend as K"
   ]
  },
  {
   "cell_type": "code",
   "execution_count": 291,
   "metadata": {},
   "outputs": [],
   "source": [
    "data = tf.keras.datasets.mnist.load_data()"
   ]
  },
  {
   "cell_type": "code",
   "execution_count": 292,
   "metadata": {},
   "outputs": [],
   "source": [
    "X_train, y_train = data[0]\n",
    "X_test, y_test = data[1]"
   ]
  },
  {
   "cell_type": "code",
   "execution_count": 293,
   "metadata": {},
   "outputs": [
    {
     "data": {
      "text/plain": [
       "(<PIL.Image.Image image mode=L size=28x28 at 0x7F559CE05490>,\n",
       " <PIL.Image.Image image mode=L size=28x28 at 0x7F559CE053D0>)"
      ]
     },
     "execution_count": 293,
     "metadata": {},
     "output_type": "execute_result"
    }
   ],
   "source": [
    "Image.fromarray(X_train[1]), Image.fromarray(X_train[2]), "
   ]
  },
  {
   "cell_type": "code",
   "execution_count": 294,
   "metadata": {},
   "outputs": [
    {
     "data": {
      "text/plain": [
       "(-0.5, 27.5, 27.5, -0.5)"
      ]
     },
     "execution_count": 294,
     "metadata": {},
     "output_type": "execute_result"
    },
    {
     "data": {
      "image/png": "[encoded data removed]",
      "text/plain": [
       "<Figure size 432x288 with 1 Axes>"
      ]
     },
     "metadata": {
      "needs_background": "light"
     },
     "output_type": "display_data"
    }
   ],
   "source": [
    "plt.imshow(X_test[0], cmap='gray_r', vmin=0, vmax=255)\n",
    "plt.axis('off')"
   ]
  },
  {
   "cell_type": "code",
   "execution_count": 295,
   "metadata": {},
   "outputs": [],
   "source": [
    "image_count_train = len(y_train)"
   ]
  },
  {
   "cell_type": "code",
   "execution_count": 296,
   "metadata": {},
   "outputs": [],
   "source": [
    "BATCH_SIZE = 32\n",
    "IMG_HEIGHT = 28\n",
    "IMG_WIDTH = 28\n",
    "STEPS_PER_EPOCH = np.ceil(image_count_train/BATCH_SIZE)"
   ]
  },
  {
   "cell_type": "code",
   "execution_count": 297,
   "metadata": {},
   "outputs": [
    {
     "data": {
      "text/plain": [
       "(28, 28)"
      ]
     },
     "execution_count": 297,
     "metadata": {},
     "output_type": "execute_result"
    }
   ],
   "source": [
    "X_train[0].shape"
   ]
  },
  {
   "cell_type": "code",
   "execution_count": 298,
   "metadata": {},
   "outputs": [],
   "source": [
    "X_train_s = X_train / 255.\n",
    "X_test_s = X_test / 255."
   ]
  },
  {
   "cell_type": "markdown",
   "metadata": {},
   "source": [
    "### CNN Discriminator"
   ]
  },
  {
   "cell_type": "code",
   "execution_count": 299,
   "metadata": {},
   "outputs": [],
   "source": [
    "# final shape: batch size, rows, cols, channel\n",
    "img_inputs = tf.keras.Input(shape=(28,28,1), batch_size=BATCH_SIZE)"
   ]
  },
  {
   "cell_type": "code",
   "execution_count": 300,
   "metadata": {},
   "outputs": [
    {
     "data": {
      "text/plain": [
       "TensorShape([32, 28, 28, 1])"
      ]
     },
     "execution_count": 300,
     "metadata": {},
     "output_type": "execute_result"
    }
   ],
   "source": [
    "img_inputs.get_shape()"
   ]
  },
  {
   "cell_type": "code",
   "execution_count": 301,
   "metadata": {},
   "outputs": [],
   "source": [
    "from tensorflow.keras import layers"
   ]
  },
  {
   "cell_type": "code",
   "execution_count": 302,
   "metadata": {},
   "outputs": [],
   "source": [
    "x = layers.Conv2D(filters=32, kernel_size=(4,4), input_shape=(28,28,1),\n",
    "                  activation=\"relu\")(img_inputs)\n",
    "x = layers.MaxPool2D(pool_size=(2,2))(x)\n",
    "x = layers.Conv2D(filters=32, kernel_size=(2,2),\n",
    "                 activation=\"relu\")(x)\n",
    "x = layers.Dropout(0.2)(x)\n",
    "x = layers.MaxPool2D(pool_size=(2,2))(x)\n",
    "x = layers.Flatten()(x)\n",
    "outputs = layers.Dense(units=10, activation=\"softmax\")(x)\n",
    "\n",
    "disc_model = tf.keras.Model(inputs=img_inputs, outputs=outputs, name='mnist_model')"
   ]
  },
  {
   "cell_type": "code",
   "execution_count": 303,
   "metadata": {},
   "outputs": [
    {
     "name": "stdout",
     "output_type": "stream",
     "text": [
      "Model: \"mnist_model\"\n",
      "_________________________________________________________________\n",
      "Layer (type)                 Output Shape              Param #   \n",
      "=================================================================\n",
      "input_33 (InputLayer)        [(32, 28, 28, 1)]         0         \n",
      "_________________________________________________________________\n",
      "conv2d_37 (Conv2D)           (32, 25, 25, 32)          544       \n",
      "_________________________________________________________________\n",
      "max_pooling2d_36 (MaxPooling (32, 12, 12, 32)          0         \n",
      "_________________________________________________________________\n",
      "conv2d_38 (Conv2D)           (32, 11, 11, 32)          4128      \n",
      "_________________________________________________________________\n",
      "dropout_17 (Dropout)         (32, 11, 11, 32)          0         \n",
      "_________________________________________________________________\n",
      "max_pooling2d_37 (MaxPooling (32, 5, 5, 32)            0         \n",
      "_________________________________________________________________\n",
      "flatten_17 (Flatten)         (32, 800)                 0         \n",
      "_________________________________________________________________\n",
      "dense_47 (Dense)             (32, 10)                  8010      \n",
      "=================================================================\n",
      "Total params: 12,682\n",
      "Trainable params: 12,682\n",
      "Non-trainable params: 0\n",
      "_________________________________________________________________\n"
     ]
    }
   ],
   "source": [
    "disc_model.summary()"
   ]
  },
  {
   "cell_type": "code",
   "execution_count": 304,
   "metadata": {},
   "outputs": [
    {
     "data": {
      "text/plain": [
       "(60000, 28, 28)"
      ]
     },
     "execution_count": 304,
     "metadata": {},
     "output_type": "execute_result"
    }
   ],
   "source": [
    "# channel is missing\n",
    "X_train.shape"
   ]
  },
  {
   "cell_type": "code",
   "execution_count": 305,
   "metadata": {},
   "outputs": [
    {
     "data": {
      "text/plain": [
       "(60000, 28, 28, 1)"
      ]
     },
     "execution_count": 305,
     "metadata": {},
     "output_type": "execute_result"
    }
   ],
   "source": [
    "# add channel\n",
    "X = np.expand_dims(X_train_s,-1)\n",
    "X.shape"
   ]
  },
  {
   "cell_type": "code",
   "execution_count": 174,
   "metadata": {},
   "outputs": [
    {
     "name": "stdout",
     "output_type": "stream",
     "text": [
      "Train on 48000 samples, validate on 12000 samples\n",
      "Epoch 1/5\n",
      "48000/48000 [==============================] - 15s 308us/sample - loss: 0.2420 - accuracy: 0.9269 - val_loss: 0.1025 - val_accuracy: 0.9695\n",
      "Epoch 2/5\n",
      "48000/48000 [==============================] - 14s 297us/sample - loss: 0.0855 - accuracy: 0.9739 - val_loss: 0.0794 - val_accuracy: 0.9777\n",
      "Epoch 3/5\n",
      "48000/48000 [==============================] - 14s 299us/sample - loss: 0.0658 - accuracy: 0.9795 - val_loss: 0.0608 - val_accuracy: 0.9821\n",
      "Epoch 4/5\n",
      "48000/48000 [==============================] - 14s 298us/sample - loss: 0.0559 - accuracy: 0.9830 - val_loss: 0.0567 - val_accuracy: 0.9845\n",
      "Epoch 5/5\n",
      "48000/48000 [==============================] - 14s 297us/sample - loss: 0.0495 - accuracy: 0.9847 - val_loss: 0.0473 - val_accuracy: 0.9867\n"
     ]
    }
   ],
   "source": [
    "disc_model.compile(loss='sparse_categorical_crossentropy',\n",
    "              optimizer=tf.keras.optimizers.RMSprop(),\n",
    "              metrics=['accuracy'])\n",
    "history = disc_model.fit(X, y_train,\n",
    "                    batch_size=BATCH_SIZE,\n",
    "                    epochs=5,\n",
    "                   validation_split=0.2)"
   ]
  },
  {
   "cell_type": "code",
   "execution_count": 162,
   "metadata": {},
   "outputs": [
    {
     "data": {
      "text/plain": [
       "7"
      ]
     },
     "execution_count": 162,
     "metadata": {},
     "output_type": "execute_result"
    }
   ],
   "source": [
    "model.predict(np.expand_dims(X_test,-1))[0].argmax()"
   ]
  },
  {
   "cell_type": "markdown",
   "metadata": {},
   "source": [
    "### expand dim\n",
    "Added a feature dimension"
   ]
  },
  {
   "cell_type": "code",
   "execution_count": 23,
   "metadata": {},
   "outputs": [
    {
     "name": "stdout",
     "output_type": "stream",
     "text": [
      "[1 1 1 1 1]\n"
     ]
    },
    {
     "data": {
      "text/plain": [
       "(5,)"
      ]
     },
     "execution_count": 23,
     "metadata": {},
     "output_type": "execute_result"
    }
   ],
   "source": [
    "a = np.array([1,1,1,1,1])\n",
    "print(a)\n",
    "a.shape"
   ]
  },
  {
   "cell_type": "code",
   "execution_count": 24,
   "metadata": {},
   "outputs": [],
   "source": [
    "a_exp = np.expand_dims(a,-1)"
   ]
  },
  {
   "cell_type": "code",
   "execution_count": 25,
   "metadata": {},
   "outputs": [
    {
     "name": "stdout",
     "output_type": "stream",
     "text": [
      "[[1]\n",
      " [1]\n",
      " [1]\n",
      " [1]\n",
      " [1]]\n"
     ]
    }
   ],
   "source": [
    "print(a_exp)"
   ]
  },
  {
   "cell_type": "code",
   "execution_count": 26,
   "metadata": {},
   "outputs": [
    {
     "data": {
      "text/plain": [
       "(5, 1)"
      ]
     },
     "execution_count": 26,
     "metadata": {},
     "output_type": "execute_result"
    }
   ],
   "source": [
    "a_exp.shape"
   ]
  },
  {
   "cell_type": "markdown",
   "metadata": {},
   "source": [
    "### Generator Architecture\n",
    "Needs to generate an image out of N random numbers"
   ]
  },
  {
   "cell_type": "code",
   "execution_count": 175,
   "metadata": {},
   "outputs": [],
   "source": [
    "# build discriminator (fake, real); as above but just two classes --> sigmoid\n",
    "# generator: samke architecture as above, but deconv"
   ]
  },
  {
   "cell_type": "code",
   "execution_count": 72,
   "metadata": {},
   "outputs": [],
   "source": [
    "def noise_vector(size, n=1):\n",
    "    return np.array([np.random.uniform(size=size) for i in range(n)])"
   ]
  },
  {
   "cell_type": "code",
   "execution_count": 73,
   "metadata": {},
   "outputs": [
    {
     "data": {
      "text/plain": [
       "array([[0.79170708, 0.46052481, 0.65414726, 0.19719191, 0.9193853 ,\n",
       "        0.60837298, 0.62500247, 0.2427843 , 0.08571641, 0.62737638]])"
      ]
     },
     "execution_count": 73,
     "metadata": {},
     "output_type": "execute_result"
    }
   ],
   "source": [
    "noise_vector(10)"
   ]
  },
  {
   "cell_type": "code",
   "execution_count": 79,
   "metadata": {},
   "outputs": [],
   "source": [
    "noise_inputs = tf.keras.Input(shape=100, batch_size=1)"
   ]
  },
  {
   "cell_type": "code",
   "execution_count": 146,
   "metadata": {},
   "outputs": [
    {
     "data": {
      "text/plain": [
       "144"
      ]
     },
     "execution_count": 146,
     "metadata": {},
     "output_type": "execute_result"
    }
   ],
   "source": [
    "#np.sqrt(256)\n",
    "12**2"
   ]
  },
  {
   "cell_type": "code",
   "execution_count": 80,
   "metadata": {},
   "outputs": [
    {
     "data": {
      "text/plain": [
       "<tf.Tensor 'input_8:0' shape=(1, 100) dtype=float32>"
      ]
     },
     "execution_count": 80,
     "metadata": {},
     "output_type": "execute_result"
    }
   ],
   "source": [
    "noise_inputs"
   ]
  },
  {
   "cell_type": "code",
   "execution_count": 653,
   "metadata": {},
   "outputs": [],
   "source": [
    "# https://www.tensorflow.org/api_docs/python/tf/keras/layers/Conv2DTranspose?version=stable\n",
    "#x = layers.Dense(100,input_shape=noise_inputs, activation=\"relu\")(noise_inputs)\n",
    "x = layers.Reshape(target_shape=(10,10,1), input_shape=noise_inputs)(noise_inputs)\n",
    "x = layers.Conv2DTranspose(filters=5, kernel_size=(3,3), strides=(2,2))(x)\n",
    "x = layers.Conv2DTranspose(filters=5, kernel_size=(3,3), strides=(1,1))(x)\n",
    "outputs = layers.Conv2DTranspose(filters=1, kernel_size=(6,6), strides=(1,1))(x)\n",
    "model = tf.keras.Model(inputs=noise_inputs, outputs=outputs, name='mnist_model')"
   ]
  },
  {
   "cell_type": "code",
   "execution_count": 654,
   "metadata": {},
   "outputs": [
    {
     "name": "stdout",
     "output_type": "stream",
     "text": [
      "Model: \"mnist_model\"\n",
      "_________________________________________________________________\n",
      "Layer (type)                 Output Shape              Param #   \n",
      "=================================================================\n",
      "input_8 (InputLayer)         [(1, 100)]                0         \n",
      "_________________________________________________________________\n",
      "reshape_107 (Reshape)        (1, 10, 10, 1)            0         \n",
      "_________________________________________________________________\n",
      "conv2d_transpose_223 (Conv2D (1, 21, 21, 5)            50        \n",
      "_________________________________________________________________\n",
      "conv2d_transpose_224 (Conv2D (1, 23, 23, 5)            230       \n",
      "_________________________________________________________________\n",
      "conv2d_transpose_225 (Conv2D (1, 28, 28, 1)            181       \n",
      "=================================================================\n",
      "Total params: 461\n",
      "Trainable params: 461\n",
      "Non-trainable params: 0\n",
      "_________________________________________________________________\n"
     ]
    }
   ],
   "source": [
    "model.summary()"
   ]
  },
  {
   "cell_type": "code",
   "execution_count": 92,
   "metadata": {},
   "outputs": [
    {
     "data": {
      "text/plain": [
       "(1, 100)"
      ]
     },
     "execution_count": 92,
     "metadata": {},
     "output_type": "execute_result"
    }
   ],
   "source": [
    "input_vector = noise_vector(100)\n",
    "input_vector.shape"
   ]
  },
  {
   "cell_type": "code",
   "execution_count": 152,
   "metadata": {},
   "outputs": [
    {
     "data": {
      "text/plain": [
       "(1, 28, 28, 1)"
      ]
     },
     "execution_count": 152,
     "metadata": {},
     "output_type": "execute_result"
    }
   ],
   "source": [
    "model.predict(input_vector).shape"
   ]
  },
  {
   "cell_type": "code",
   "execution_count": 160,
   "metadata": {},
   "outputs": [],
   "source": [
    "test = model.predict(input_vector)[0].reshape(28,28)"
   ]
  },
  {
   "cell_type": "code",
   "execution_count": 175,
   "metadata": {},
   "outputs": [
    {
     "data": {
      "text/plain": [
       "(-0.5, 27.5, 27.5, -0.5)"
      ]
     },
     "execution_count": 175,
     "metadata": {},
     "output_type": "execute_result"
    },
    {
     "data": {
      "image/png": "[encoded data removed]",
      "text/plain": [
       "<Figure size 432x288 with 1 Axes>"
      ]
     },
     "metadata": {
      "needs_background": "light"
     },
     "output_type": "display_data"
    }
   ],
   "source": [
    "plt.imshow(test, cmap='gray_r')\n",
    "plt.axis('off')"
   ]
  },
  {
   "cell_type": "code",
   "execution_count": 919,
   "metadata": {},
   "outputs": [],
   "source": [
    "class GAN():\n",
    "    \n",
    "    def __init__(self, real):\n",
    "        self.BATCH_SIZE = 32\n",
    "        self.IMG_HEIGHT = 28\n",
    "        self.IMG_WIDTH = 28\n",
    "        self.CHANNELS = 1\n",
    "        self.STEPS_PER_EPOCH = np.ceil(image_count_train/self.BATCH_SIZE)\n",
    "        \n",
    "        self.discriminator = self._set_discriminator()\n",
    "        self.generator = self._set_generator()\n",
    "        \n",
    "        self.real = real / 255.\n",
    "        \n",
    "        self.discriminator_optimizer = tf.keras.optimizers.Adam(0.0005)\n",
    "        self.generator_optimizer = tf.keras.optimizers.Adam(0.0005)\n",
    "        \n",
    "        \n",
    "    def _set_discriminator(self):\n",
    "        \n",
    "        # input\n",
    "        img_inputs = tf.keras.Input(shape=(28,28,1), batch_size=self.BATCH_SIZE)\n",
    "        \n",
    "        # model architecture\n",
    "        x = layers.Conv2D(filters=4, kernel_size=(4,4), input_shape=(self.IMG_HEIGHT,self.IMG_WIDTH,self.CHANNELS),\n",
    "                  activation=\"relu\")(img_inputs)\n",
    "        x = layers.MaxPool2D(pool_size=(2,2))(x)\n",
    "        \n",
    "        #x = layers.Conv2D(filters=32, kernel_size=(2,2),\n",
    "        #                  activation=\"relu\")(x)\n",
    "        x = layers.Dropout(0.2)(x)\n",
    "        #x = layers.MaxPool2D(pool_size=(2,2))(x)\n",
    "        \n",
    "        # flatten\n",
    "        x = layers.Flatten()(x)\n",
    "        outputs = layers.Dense(units=1, activation=\"sigmoid\")(x)\n",
    "     \n",
    "        return tf.keras.Model(inputs=img_inputs, outputs=outputs, name='mnist_discriminator')\n",
    "    \n",
    "    def _set_generator(self):\n",
    "        \n",
    "        noise_inputs = tf.keras.Input(shape=(100,1), batch_size=self.BATCH_SIZE)\n",
    "        x = layers.Reshape(target_shape=(10,10,1), input_shape=noise_inputs)(noise_inputs)\n",
    "        x = layers.Conv2DTranspose(filters=10, kernel_size=(3,3), strides=(2,2))(x)\n",
    "        x = layers.Conv2DTranspose(filters=10, kernel_size=(3,3), strides=(1,1))(x)\n",
    "        outputs = layers.Conv2DTranspose(filters=1, kernel_size=(6,6), strides=(1,1))(x)\n",
    "\n",
    "        #x = layers.Dense(10,input_shape=noise_inputs, activation=\"relu\")(noise_inputs)\n",
    "        #outputs = layers.Reshape(target_shape=(28,28,1), input_shape=noise_inputs)(x)\n",
    "        #x = layers.Conv2DTranspose(filters=1, kernel_size=(3,3), strides=(2,2))(x)\n",
    "        #x = layers.Conv2DTranspose(filters=1, kernel_size=(3,3), strides=(1,1))(x)\n",
    "        #outputs = layers.Conv2DTranspose(filters=1, kernel_size=(6,6), strides=(1,1))(x)\n",
    "        return tf.keras.Model(inputs=noise_inputs, outputs=outputs, name='mnist_generator')\n",
    "    \n",
    "    def noise_vector(self, features, size=1):\n",
    "        return np.array([np.random.uniform(size=features) for i in range(size)])\n",
    "    \n",
    "    def show_image(self, img_array):\n",
    "        plt.imshow(img_array, cmap='gray_r')\n",
    "        plt.axis('off')\n",
    "        \n",
    "    def compile_models(self):\n",
    "        self.discriminator.compile(loss=\"binary_crossentropy\",\n",
    "              optimizer=self.discriminator_optimizer,\n",
    "              metrics=['accuracy'])\n",
    "        #self.generator.compile()\n",
    "\n",
    "        \n",
    "    def train_discriminator(self, real_img_array, fake_img_array):\n",
    "        self.unfreeze_weights(self.discriminator)\n",
    "        #self.compile_models()\n",
    "        \n",
    "        \n",
    "        # reshape real\n",
    "        real_img_array = np.expand_dims(real_img_array,-1)\n",
    "\n",
    "        print(real_img_array.shape)\n",
    "        print(fake_img_array.shape)\n",
    "        \n",
    "        X = np.concatenate((real_img_array, fake_img_array))\n",
    "        y_real = np.repeat(1, repeats=len(real_img_array))\n",
    "        y_fake = np.repeat(0, repeats=len(fake_img_array))\n",
    "        y = np.concatenate((y_real, y_fake))\n",
    "        \n",
    "        print(X.shape)\n",
    "        print(y.shape)\n",
    "        \n",
    "        history = self.discriminator.fit(X, y,\n",
    "                    batch_size=BATCH_SIZE,\n",
    "                    epochs=1,\n",
    "                    validation_split=0.2)\n",
    "    \n",
    "    def generator_loss(self,y_true, y_pred):\n",
    "        ## infinite loss\n",
    "        loss = K.sum(K.log(1-y_pred))\n",
    "        return loss\n",
    "    \n",
    "    def freeze_weights(self, model):\n",
    "        for layer in model.layers:\n",
    "            layer.trainable = False\n",
    "    \n",
    "    def unfreeze_weights(self, model):\n",
    "        for layer in model.layers:\n",
    "            layer.trainable = True\n",
    "          \n",
    "    def train_generator(self, fake_data):\n",
    "        \n",
    "        # freeze disc\n",
    "        self.freeze_weights(self.discriminator)\n",
    "        \n",
    "        am = tf.keras.Sequential()\n",
    "        am.add(self.generator)\n",
    "        am.add(self.discriminator)\n",
    "        am.compile(loss=\"binary_crossentropy\", optimizer=self.generator_optimizer, metrics=['accuracy'])\n",
    "        \n",
    "        #fake_data = self.noise_vector(features=100,size=1600)\n",
    "        #fake_data = np.expand_dims(fake_data,-1)\n",
    "        #for i in range(5):\n",
    "        am.fit(fake_data, np.repeat(1, repeats=len(fake_data)), validation_split=0.2)\n",
    "        #fake_img_array = self.generator.predict(fake_data)\n",
    "        #y_pred_proba = np.squeeze(self.discriminator.predict(fake_img_array))\n",
    "        ##loss = self.generator_loss(y_pred_proba)\n",
    "        #updates_op = self.optimizer.get_updates(params=self.generator.trainable_weights, loss=self.generator_loss(y_pred_proba))\n",
    "        return am\n",
    "    \n",
    "    def fit(self, epochs=5):\n",
    "        for i in range(epochs):\n",
    "            \n",
    "            # train discriminator\n",
    "            fake_data = self.noise_vector(features=100,size=1600)\n",
    "            fake_data = np.expand_dims(fake_data,-1)\n",
    "            X_fake = gan.generator.predict(fake_data)\n",
    "            self.train_discriminator(self.real[:1600], X_fake)\n",
    "            \n",
    "            # train generator\n",
    "            self.train_generator(fake_data)\n",
    "            \n",
    "    "
   ]
  },
  {
   "cell_type": "code",
   "execution_count": 920,
   "metadata": {},
   "outputs": [],
   "source": [
    "gan = GAN(real=X_train)"
   ]
  },
  {
   "cell_type": "code",
   "execution_count": 921,
   "metadata": {},
   "outputs": [],
   "source": [
    "gan.compile_models()"
   ]
  },
  {
   "cell_type": "code",
   "execution_count": 922,
   "metadata": {},
   "outputs": [
    {
     "name": "stdout",
     "output_type": "stream",
     "text": [
      "Model: \"mnist_discriminator\"\n",
      "_________________________________________________________________\n",
      "Layer (type)                 Output Shape              Param #   \n",
      "=================================================================\n",
      "input_206 (InputLayer)       [(32, 28, 28, 1)]         0         \n",
      "_________________________________________________________________\n",
      "conv2d_164 (Conv2D)          (32, 25, 25, 4)           68        \n",
      "_________________________________________________________________\n",
      "max_pooling2d_163 (MaxPoolin (32, 12, 12, 4)           0         \n",
      "_________________________________________________________________\n",
      "dropout_99 (Dropout)         (32, 12, 12, 4)           0         \n",
      "_________________________________________________________________\n",
      "flatten_104 (Flatten)        (32, 576)                 0         \n",
      "_________________________________________________________________\n",
      "dense_188 (Dense)            (32, 1)                   577       \n",
      "=================================================================\n",
      "Total params: 645\n",
      "Trainable params: 645\n",
      "Non-trainable params: 0\n",
      "_________________________________________________________________\n"
     ]
    }
   ],
   "source": [
    "gan.discriminator.summary()"
   ]
  },
  {
   "cell_type": "code",
   "execution_count": 923,
   "metadata": {},
   "outputs": [
    {
     "name": "stdout",
     "output_type": "stream",
     "text": [
      "Model: \"mnist_generator\"\n",
      "_________________________________________________________________\n",
      "Layer (type)                 Output Shape              Param #   \n",
      "=================================================================\n",
      "input_207 (InputLayer)       [(32, 100, 1)]            0         \n",
      "_________________________________________________________________\n",
      "reshape_145 (Reshape)        (32, 10, 10, 1)           0         \n",
      "_________________________________________________________________\n",
      "conv2d_transpose_316 (Conv2D (32, 21, 21, 10)          100       \n",
      "_________________________________________________________________\n",
      "conv2d_transpose_317 (Conv2D (32, 23, 23, 10)          910       \n",
      "_________________________________________________________________\n",
      "conv2d_transpose_318 (Conv2D (32, 28, 28, 1)           361       \n",
      "=================================================================\n",
      "Total params: 1,371\n",
      "Trainable params: 1,371\n",
      "Non-trainable params: 0\n",
      "_________________________________________________________________\n"
     ]
    }
   ],
   "source": [
    "gan.generator.summary()"
   ]
  },
  {
   "cell_type": "code",
   "execution_count": 924,
   "metadata": {},
   "outputs": [
    {
     "name": "stdout",
     "output_type": "stream",
     "text": [
      "(1600, 28, 28, 1)\n",
      "(1600, 28, 28, 1)\n",
      "(3200, 28, 28, 1)\n",
      "(3200,)\n",
      "Train on 2560 samples, validate on 640 samples\n",
      "2560/2560 [==============================] - 1s 351us/sample - loss: 0.4994 - accuracy: 0.9094 - val_loss: 0.3941 - val_accuracy: 1.0000\n",
      "Train on 1280 samples, validate on 320 samples\n",
      "1280/1280 [==============================] - 1s 949us/sample - loss: 0.4381 - accuracy: 0.9141 - val_loss: 0.2351 - val_accuracy: 1.0000\n",
      "(1600, 28, 28, 1)\n",
      "(1600, 28, 28, 1)\n",
      "(3200, 28, 28, 1)\n",
      "(3200,)\n",
      "Train on 2560 samples, validate on 640 samples\n",
      "2560/2560 [==============================] - 1s 202us/sample - loss: 0.3507 - accuracy: 0.8898 - val_loss: 0.1343 - val_accuracy: 1.0000\n",
      "Train on 1280 samples, validate on 320 samples\n",
      "1280/1280 [==============================] - 1s 763us/sample - loss: 1.1571 - accuracy: 0.0820 - val_loss: 0.7357 - val_accuracy: 0.2281\n",
      "(1600, 28, 28, 1)\n",
      "(1600, 28, 28, 1)\n",
      "(3200, 28, 28, 1)\n",
      "(3200,)\n",
      "Train on 2560 samples, validate on 640 samples\n",
      "2560/2560 [==============================] - 1s 200us/sample - loss: 0.3242 - accuracy: 0.9191 - val_loss: 0.4549 - val_accuracy: 1.0000\n",
      "Train on 1280 samples, validate on 320 samples\n",
      "1184/1280 [==========================>...] - ETA: 0s - loss: 0.8138 - accuracy: 0.2221"
     ]
    },
    {
     "ename": "KeyboardInterrupt",
     "evalue": "",
     "output_type": "error",
     "traceback": [
      "\u001b[0;31m---------------------------------------------------------------------------\u001b[0m",
      "\u001b[0;31mKeyboardInterrupt\u001b[0m                         Traceback (most recent call last)",
      "\u001b[0;32m<ipython-input-924-2e866bbc1d6e>\u001b[0m in \u001b[0;36m<module>\u001b[0;34m\u001b[0m\n\u001b[0;32m----> 1\u001b[0;31m \u001b[0mgan\u001b[0m\u001b[0;34m.\u001b[0m\u001b[0mfit\u001b[0m\u001b[0;34m(\u001b[0m\u001b[0;34m)\u001b[0m\u001b[0;34m\u001b[0m\u001b[0;34m\u001b[0m\u001b[0m\n\u001b[0m",
      "\u001b[0;32m<ipython-input-919-8ad600a0309e>\u001b[0m in \u001b[0;36mfit\u001b[0;34m(self, epochs)\u001b[0m\n\u001b[1;32m    134\u001b[0m \u001b[0;34m\u001b[0m\u001b[0m\n\u001b[1;32m    135\u001b[0m             \u001b[0;31m# train generator\u001b[0m\u001b[0;34m\u001b[0m\u001b[0;34m\u001b[0m\u001b[0;34m\u001b[0m\u001b[0m\n\u001b[0;32m--> 136\u001b[0;31m             \u001b[0mself\u001b[0m\u001b[0;34m.\u001b[0m\u001b[0mtrain_generator\u001b[0m\u001b[0;34m(\u001b[0m\u001b[0mfake_data\u001b[0m\u001b[0;34m)\u001b[0m\u001b[0;34m\u001b[0m\u001b[0;34m\u001b[0m\u001b[0m\n\u001b[0m\u001b[1;32m    137\u001b[0m \u001b[0;34m\u001b[0m\u001b[0m\n\u001b[1;32m    138\u001b[0m \u001b[0;34m\u001b[0m\u001b[0m\n",
      "\u001b[0;32m<ipython-input-919-8ad600a0309e>\u001b[0m in \u001b[0;36mtrain_generator\u001b[0;34m(self, fake_data)\u001b[0m\n\u001b[1;32m    117\u001b[0m         \u001b[0;31m#fake_data = np.expand_dims(fake_data,-1)\u001b[0m\u001b[0;34m\u001b[0m\u001b[0;34m\u001b[0m\u001b[0;34m\u001b[0m\u001b[0m\n\u001b[1;32m    118\u001b[0m         \u001b[0;31m#for i in range(5):\u001b[0m\u001b[0;34m\u001b[0m\u001b[0;34m\u001b[0m\u001b[0;34m\u001b[0m\u001b[0m\n\u001b[0;32m--> 119\u001b[0;31m         \u001b[0mam\u001b[0m\u001b[0;34m.\u001b[0m\u001b[0mfit\u001b[0m\u001b[0;34m(\u001b[0m\u001b[0mfake_data\u001b[0m\u001b[0;34m,\u001b[0m \u001b[0mnp\u001b[0m\u001b[0;34m.\u001b[0m\u001b[0mrepeat\u001b[0m\u001b[0;34m(\u001b[0m\u001b[0;36m1\u001b[0m\u001b[0;34m,\u001b[0m \u001b[0mrepeats\u001b[0m\u001b[0;34m=\u001b[0m\u001b[0mlen\u001b[0m\u001b[0;34m(\u001b[0m\u001b[0mfake_data\u001b[0m\u001b[0;34m)\u001b[0m\u001b[0;34m)\u001b[0m\u001b[0;34m,\u001b[0m \u001b[0mvalidation_split\u001b[0m\u001b[0;34m=\u001b[0m\u001b[0;36m0.2\u001b[0m\u001b[0;34m)\u001b[0m\u001b[0;34m\u001b[0m\u001b[0;34m\u001b[0m\u001b[0m\n\u001b[0m\u001b[1;32m    120\u001b[0m         \u001b[0;31m#fake_img_array = self.generator.predict(fake_data)\u001b[0m\u001b[0;34m\u001b[0m\u001b[0;34m\u001b[0m\u001b[0;34m\u001b[0m\u001b[0m\n\u001b[1;32m    121\u001b[0m         \u001b[0;31m#y_pred_proba = np.squeeze(self.discriminator.predict(fake_img_array))\u001b[0m\u001b[0;34m\u001b[0m\u001b[0;34m\u001b[0m\u001b[0;34m\u001b[0m\u001b[0m\n",
      "\u001b[0;32m~/anaconda3/envs/tf2/lib/python3.7/site-packages/tensorflow_core/python/keras/engine/training.py\u001b[0m in \u001b[0;36mfit\u001b[0;34m(self, x, y, batch_size, epochs, verbose, callbacks, validation_split, validation_data, shuffle, class_weight, sample_weight, initial_epoch, steps_per_epoch, validation_steps, validation_freq, max_queue_size, workers, use_multiprocessing, **kwargs)\u001b[0m\n\u001b[1;32m    817\u001b[0m         \u001b[0mmax_queue_size\u001b[0m\u001b[0;34m=\u001b[0m\u001b[0mmax_queue_size\u001b[0m\u001b[0;34m,\u001b[0m\u001b[0;34m\u001b[0m\u001b[0;34m\u001b[0m\u001b[0m\n\u001b[1;32m    818\u001b[0m         \u001b[0mworkers\u001b[0m\u001b[0;34m=\u001b[0m\u001b[0mworkers\u001b[0m\u001b[0;34m,\u001b[0m\u001b[0;34m\u001b[0m\u001b[0;34m\u001b[0m\u001b[0m\n\u001b[0;32m--> 819\u001b[0;31m         use_multiprocessing=use_multiprocessing)\n\u001b[0m\u001b[1;32m    820\u001b[0m \u001b[0;34m\u001b[0m\u001b[0m\n\u001b[1;32m    821\u001b[0m   def evaluate(self,\n",
      "\u001b[0;32m~/anaconda3/envs/tf2/lib/python3.7/site-packages/tensorflow_core/python/keras/engine/training_v2.py\u001b[0m in \u001b[0;36mfit\u001b[0;34m(self, model, x, y, batch_size, epochs, verbose, callbacks, validation_split, validation_data, shuffle, class_weight, sample_weight, initial_epoch, steps_per_epoch, validation_steps, validation_freq, max_queue_size, workers, use_multiprocessing, **kwargs)\u001b[0m\n\u001b[1;32m    340\u001b[0m                 \u001b[0mmode\u001b[0m\u001b[0;34m=\u001b[0m\u001b[0mModeKeys\u001b[0m\u001b[0;34m.\u001b[0m\u001b[0mTRAIN\u001b[0m\u001b[0;34m,\u001b[0m\u001b[0;34m\u001b[0m\u001b[0;34m\u001b[0m\u001b[0m\n\u001b[1;32m    341\u001b[0m                 \u001b[0mtraining_context\u001b[0m\u001b[0;34m=\u001b[0m\u001b[0mtraining_context\u001b[0m\u001b[0;34m,\u001b[0m\u001b[0;34m\u001b[0m\u001b[0;34m\u001b[0m\u001b[0m\n\u001b[0;32m--> 342\u001b[0;31m                 total_epochs=epochs)\n\u001b[0m\u001b[1;32m    343\u001b[0m             \u001b[0mcbks\u001b[0m\u001b[0;34m.\u001b[0m\u001b[0mmake_logs\u001b[0m\u001b[0;34m(\u001b[0m\u001b[0mmodel\u001b[0m\u001b[0;34m,\u001b[0m \u001b[0mepoch_logs\u001b[0m\u001b[0;34m,\u001b[0m \u001b[0mtraining_result\u001b[0m\u001b[0;34m,\u001b[0m \u001b[0mModeKeys\u001b[0m\u001b[0;34m.\u001b[0m\u001b[0mTRAIN\u001b[0m\u001b[0;34m)\u001b[0m\u001b[0;34m\u001b[0m\u001b[0;34m\u001b[0m\u001b[0m\n\u001b[1;32m    344\u001b[0m \u001b[0;34m\u001b[0m\u001b[0m\n",
      "\u001b[0;32m~/anaconda3/envs/tf2/lib/python3.7/site-packages/tensorflow_core/python/keras/engine/training_v2.py\u001b[0m in \u001b[0;36mrun_one_epoch\u001b[0;34m(model, iterator, execution_function, dataset_size, batch_size, strategy, steps_per_epoch, num_samples, mode, training_context, total_epochs)\u001b[0m\n\u001b[1;32m    126\u001b[0m         step=step, mode=mode, size=current_batch_size) as batch_logs:\n\u001b[1;32m    127\u001b[0m       \u001b[0;32mtry\u001b[0m\u001b[0;34m:\u001b[0m\u001b[0;34m\u001b[0m\u001b[0;34m\u001b[0m\u001b[0m\n\u001b[0;32m--> 128\u001b[0;31m         \u001b[0mbatch_outs\u001b[0m \u001b[0;34m=\u001b[0m \u001b[0mexecution_function\u001b[0m\u001b[0;34m(\u001b[0m\u001b[0miterator\u001b[0m\u001b[0;34m)\u001b[0m\u001b[0;34m\u001b[0m\u001b[0;34m\u001b[0m\u001b[0m\n\u001b[0m\u001b[1;32m    129\u001b[0m       \u001b[0;32mexcept\u001b[0m \u001b[0;34m(\u001b[0m\u001b[0mStopIteration\u001b[0m\u001b[0;34m,\u001b[0m \u001b[0merrors\u001b[0m\u001b[0;34m.\u001b[0m\u001b[0mOutOfRangeError\u001b[0m\u001b[0;34m)\u001b[0m\u001b[0;34m:\u001b[0m\u001b[0;34m\u001b[0m\u001b[0;34m\u001b[0m\u001b[0m\n\u001b[1;32m    130\u001b[0m         \u001b[0;31m# TODO(kaftan): File bug about tf function and errors.OutOfRangeError?\u001b[0m\u001b[0;34m\u001b[0m\u001b[0;34m\u001b[0m\u001b[0;34m\u001b[0m\u001b[0m\n",
      "\u001b[0;32m~/anaconda3/envs/tf2/lib/python3.7/site-packages/tensorflow_core/python/keras/engine/training_v2_utils.py\u001b[0m in \u001b[0;36mexecution_function\u001b[0;34m(input_fn)\u001b[0m\n\u001b[1;32m     96\u001b[0m     \u001b[0;31m# `numpy` translates Tensors to values in Eager mode.\u001b[0m\u001b[0;34m\u001b[0m\u001b[0;34m\u001b[0m\u001b[0;34m\u001b[0m\u001b[0m\n\u001b[1;32m     97\u001b[0m     return nest.map_structure(_non_none_constant_value,\n\u001b[0;32m---> 98\u001b[0;31m                               distributed_function(input_fn))\n\u001b[0m\u001b[1;32m     99\u001b[0m \u001b[0;34m\u001b[0m\u001b[0m\n\u001b[1;32m    100\u001b[0m   \u001b[0;32mreturn\u001b[0m \u001b[0mexecution_function\u001b[0m\u001b[0;34m\u001b[0m\u001b[0;34m\u001b[0m\u001b[0m\n",
      "\u001b[0;32m~/anaconda3/envs/tf2/lib/python3.7/site-packages/tensorflow_core/python/eager/def_function.py\u001b[0m in \u001b[0;36m__call__\u001b[0;34m(self, *args, **kwds)\u001b[0m\n\u001b[1;32m    566\u001b[0m         \u001b[0mxla_context\u001b[0m\u001b[0;34m.\u001b[0m\u001b[0mExit\u001b[0m\u001b[0;34m(\u001b[0m\u001b[0;34m)\u001b[0m\u001b[0;34m\u001b[0m\u001b[0;34m\u001b[0m\u001b[0m\n\u001b[1;32m    567\u001b[0m     \u001b[0;32melse\u001b[0m\u001b[0;34m:\u001b[0m\u001b[0;34m\u001b[0m\u001b[0;34m\u001b[0m\u001b[0m\n\u001b[0;32m--> 568\u001b[0;31m       \u001b[0mresult\u001b[0m \u001b[0;34m=\u001b[0m \u001b[0mself\u001b[0m\u001b[0;34m.\u001b[0m\u001b[0m_call\u001b[0m\u001b[0;34m(\u001b[0m\u001b[0;34m*\u001b[0m\u001b[0margs\u001b[0m\u001b[0;34m,\u001b[0m \u001b[0;34m**\u001b[0m\u001b[0mkwds\u001b[0m\u001b[0;34m)\u001b[0m\u001b[0;34m\u001b[0m\u001b[0;34m\u001b[0m\u001b[0m\n\u001b[0m\u001b[1;32m    569\u001b[0m \u001b[0;34m\u001b[0m\u001b[0m\n\u001b[1;32m    570\u001b[0m     \u001b[0;32mif\u001b[0m \u001b[0mtracing_count\u001b[0m \u001b[0;34m==\u001b[0m \u001b[0mself\u001b[0m\u001b[0;34m.\u001b[0m\u001b[0m_get_tracing_count\u001b[0m\u001b[0;34m(\u001b[0m\u001b[0;34m)\u001b[0m\u001b[0;34m:\u001b[0m\u001b[0;34m\u001b[0m\u001b[0;34m\u001b[0m\u001b[0m\n",
      "\u001b[0;32m~/anaconda3/envs/tf2/lib/python3.7/site-packages/tensorflow_core/python/eager/def_function.py\u001b[0m in \u001b[0;36m_call\u001b[0;34m(self, *args, **kwds)\u001b[0m\n\u001b[1;32m    604\u001b[0m       \u001b[0;31m# In this case we have not created variables on the first call. So we can\u001b[0m\u001b[0;34m\u001b[0m\u001b[0;34m\u001b[0m\u001b[0;34m\u001b[0m\u001b[0m\n\u001b[1;32m    605\u001b[0m       \u001b[0;31m# run the first trace but we should fail if variables are created.\u001b[0m\u001b[0;34m\u001b[0m\u001b[0;34m\u001b[0m\u001b[0;34m\u001b[0m\u001b[0m\n\u001b[0;32m--> 606\u001b[0;31m       \u001b[0mresults\u001b[0m \u001b[0;34m=\u001b[0m \u001b[0mself\u001b[0m\u001b[0;34m.\u001b[0m\u001b[0m_stateful_fn\u001b[0m\u001b[0;34m(\u001b[0m\u001b[0;34m*\u001b[0m\u001b[0margs\u001b[0m\u001b[0;34m,\u001b[0m \u001b[0;34m**\u001b[0m\u001b[0mkwds\u001b[0m\u001b[0;34m)\u001b[0m\u001b[0;34m\u001b[0m\u001b[0;34m\u001b[0m\u001b[0m\n\u001b[0m\u001b[1;32m    607\u001b[0m       \u001b[0;32mif\u001b[0m \u001b[0mself\u001b[0m\u001b[0;34m.\u001b[0m\u001b[0m_created_variables\u001b[0m\u001b[0;34m:\u001b[0m\u001b[0;34m\u001b[0m\u001b[0;34m\u001b[0m\u001b[0m\n\u001b[1;32m    608\u001b[0m         raise ValueError(\"Creating variables on a non-first call to a function\"\n",
      "\u001b[0;32m~/anaconda3/envs/tf2/lib/python3.7/site-packages/tensorflow_core/python/eager/function.py\u001b[0m in \u001b[0;36m__call__\u001b[0;34m(self, *args, **kwargs)\u001b[0m\n\u001b[1;32m   2361\u001b[0m     \u001b[0;32mwith\u001b[0m \u001b[0mself\u001b[0m\u001b[0;34m.\u001b[0m\u001b[0m_lock\u001b[0m\u001b[0;34m:\u001b[0m\u001b[0;34m\u001b[0m\u001b[0;34m\u001b[0m\u001b[0m\n\u001b[1;32m   2362\u001b[0m       \u001b[0mgraph_function\u001b[0m\u001b[0;34m,\u001b[0m \u001b[0margs\u001b[0m\u001b[0;34m,\u001b[0m \u001b[0mkwargs\u001b[0m \u001b[0;34m=\u001b[0m \u001b[0mself\u001b[0m\u001b[0;34m.\u001b[0m\u001b[0m_maybe_define_function\u001b[0m\u001b[0;34m(\u001b[0m\u001b[0margs\u001b[0m\u001b[0;34m,\u001b[0m \u001b[0mkwargs\u001b[0m\u001b[0;34m)\u001b[0m\u001b[0;34m\u001b[0m\u001b[0;34m\u001b[0m\u001b[0m\n\u001b[0;32m-> 2363\u001b[0;31m     \u001b[0;32mreturn\u001b[0m \u001b[0mgraph_function\u001b[0m\u001b[0;34m.\u001b[0m\u001b[0m_filtered_call\u001b[0m\u001b[0;34m(\u001b[0m\u001b[0margs\u001b[0m\u001b[0;34m,\u001b[0m \u001b[0mkwargs\u001b[0m\u001b[0;34m)\u001b[0m  \u001b[0;31m# pylint: disable=protected-access\u001b[0m\u001b[0;34m\u001b[0m\u001b[0;34m\u001b[0m\u001b[0m\n\u001b[0m\u001b[1;32m   2364\u001b[0m \u001b[0;34m\u001b[0m\u001b[0m\n\u001b[1;32m   2365\u001b[0m   \u001b[0;34m@\u001b[0m\u001b[0mproperty\u001b[0m\u001b[0;34m\u001b[0m\u001b[0;34m\u001b[0m\u001b[0m\n",
      "\u001b[0;32m~/anaconda3/envs/tf2/lib/python3.7/site-packages/tensorflow_core/python/eager/function.py\u001b[0m in \u001b[0;36m_filtered_call\u001b[0;34m(self, args, kwargs)\u001b[0m\n\u001b[1;32m   1609\u001b[0m          if isinstance(t, (ops.Tensor,\n\u001b[1;32m   1610\u001b[0m                            resource_variable_ops.BaseResourceVariable))),\n\u001b[0;32m-> 1611\u001b[0;31m         self.captured_inputs)\n\u001b[0m\u001b[1;32m   1612\u001b[0m \u001b[0;34m\u001b[0m\u001b[0m\n\u001b[1;32m   1613\u001b[0m   \u001b[0;32mdef\u001b[0m \u001b[0m_call_flat\u001b[0m\u001b[0;34m(\u001b[0m\u001b[0mself\u001b[0m\u001b[0;34m,\u001b[0m \u001b[0margs\u001b[0m\u001b[0;34m,\u001b[0m \u001b[0mcaptured_inputs\u001b[0m\u001b[0;34m,\u001b[0m \u001b[0mcancellation_manager\u001b[0m\u001b[0;34m=\u001b[0m\u001b[0;32mNone\u001b[0m\u001b[0;34m)\u001b[0m\u001b[0;34m:\u001b[0m\u001b[0;34m\u001b[0m\u001b[0;34m\u001b[0m\u001b[0m\n",
      "\u001b[0;32m~/anaconda3/envs/tf2/lib/python3.7/site-packages/tensorflow_core/python/eager/function.py\u001b[0m in \u001b[0;36m_call_flat\u001b[0;34m(self, args, captured_inputs, cancellation_manager)\u001b[0m\n\u001b[1;32m   1690\u001b[0m       \u001b[0;31m# No tape is watching; skip to running the function.\u001b[0m\u001b[0;34m\u001b[0m\u001b[0;34m\u001b[0m\u001b[0;34m\u001b[0m\u001b[0m\n\u001b[1;32m   1691\u001b[0m       return self._build_call_outputs(self._inference_function.call(\n\u001b[0;32m-> 1692\u001b[0;31m           ctx, args, cancellation_manager=cancellation_manager))\n\u001b[0m\u001b[1;32m   1693\u001b[0m     forward_backward = self._select_forward_and_backward_functions(\n\u001b[1;32m   1694\u001b[0m         \u001b[0margs\u001b[0m\u001b[0;34m,\u001b[0m\u001b[0;34m\u001b[0m\u001b[0;34m\u001b[0m\u001b[0m\n",
      "\u001b[0;32m~/anaconda3/envs/tf2/lib/python3.7/site-packages/tensorflow_core/python/eager/function.py\u001b[0m in \u001b[0;36mcall\u001b[0;34m(self, ctx, args, cancellation_manager)\u001b[0m\n\u001b[1;32m    543\u001b[0m               \u001b[0minputs\u001b[0m\u001b[0;34m=\u001b[0m\u001b[0margs\u001b[0m\u001b[0;34m,\u001b[0m\u001b[0;34m\u001b[0m\u001b[0;34m\u001b[0m\u001b[0m\n\u001b[1;32m    544\u001b[0m               \u001b[0mattrs\u001b[0m\u001b[0;34m=\u001b[0m\u001b[0;34m(\u001b[0m\u001b[0;34m\"executor_type\"\u001b[0m\u001b[0;34m,\u001b[0m \u001b[0mexecutor_type\u001b[0m\u001b[0;34m,\u001b[0m \u001b[0;34m\"config_proto\"\u001b[0m\u001b[0;34m,\u001b[0m \u001b[0mconfig\u001b[0m\u001b[0;34m)\u001b[0m\u001b[0;34m,\u001b[0m\u001b[0;34m\u001b[0m\u001b[0;34m\u001b[0m\u001b[0m\n\u001b[0;32m--> 545\u001b[0;31m               ctx=ctx)\n\u001b[0m\u001b[1;32m    546\u001b[0m         \u001b[0;32melse\u001b[0m\u001b[0;34m:\u001b[0m\u001b[0;34m\u001b[0m\u001b[0;34m\u001b[0m\u001b[0m\n\u001b[1;32m    547\u001b[0m           outputs = execute.execute_with_cancellation(\n",
      "\u001b[0;32m~/anaconda3/envs/tf2/lib/python3.7/site-packages/tensorflow_core/python/eager/execute.py\u001b[0m in \u001b[0;36mquick_execute\u001b[0;34m(op_name, num_outputs, inputs, attrs, ctx, name)\u001b[0m\n\u001b[1;32m     59\u001b[0m     tensors = pywrap_tensorflow.TFE_Py_Execute(ctx._handle, device_name,\n\u001b[1;32m     60\u001b[0m                                                \u001b[0mop_name\u001b[0m\u001b[0;34m,\u001b[0m \u001b[0minputs\u001b[0m\u001b[0;34m,\u001b[0m \u001b[0mattrs\u001b[0m\u001b[0;34m,\u001b[0m\u001b[0;34m\u001b[0m\u001b[0;34m\u001b[0m\u001b[0m\n\u001b[0;32m---> 61\u001b[0;31m                                                num_outputs)\n\u001b[0m\u001b[1;32m     62\u001b[0m   \u001b[0;32mexcept\u001b[0m \u001b[0mcore\u001b[0m\u001b[0;34m.\u001b[0m\u001b[0m_NotOkStatusException\u001b[0m \u001b[0;32mas\u001b[0m \u001b[0me\u001b[0m\u001b[0;34m:\u001b[0m\u001b[0;34m\u001b[0m\u001b[0;34m\u001b[0m\u001b[0m\n\u001b[1;32m     63\u001b[0m     \u001b[0;32mif\u001b[0m \u001b[0mname\u001b[0m \u001b[0;32mis\u001b[0m \u001b[0;32mnot\u001b[0m \u001b[0;32mNone\u001b[0m\u001b[0;34m:\u001b[0m\u001b[0;34m\u001b[0m\u001b[0;34m\u001b[0m\u001b[0m\n",
      "\u001b[0;31mKeyboardInterrupt\u001b[0m: "
     ]
    }
   ],
   "source": [
    "gan.fit()"
   ]
  },
  {
   "cell_type": "code",
   "execution_count": 918,
   "metadata": {},
   "outputs": [
    {
     "data": {
      "text/plain": [
       "<tensorflow.python.keras.engine.training.Model at 0x7f558e12a3d0>"
      ]
     },
     "execution_count": 918,
     "metadata": {},
     "output_type": "execute_result"
    }
   ],
   "source": [
    "gan.generator"
   ]
  },
  {
   "cell_type": "code",
   "execution_count": 505,
   "metadata": {},
   "outputs": [
    {
     "data": {
      "text/plain": [
       "<tf.Tensor: shape=(), dtype=float64, numpy=-4.8158912173037445>"
      ]
     },
     "execution_count": 505,
     "metadata": {},
     "output_type": "execute_result"
    }
   ],
   "source": [
    "gan.generator_loss(0,np.array([0.1,0.1,0.9,0.9]))"
   ]
  },
  {
   "cell_type": "code",
   "execution_count": 506,
   "metadata": {},
   "outputs": [],
   "source": [
    "gan.compile_models()"
   ]
  },
  {
   "cell_type": "code",
   "execution_count": 507,
   "metadata": {},
   "outputs": [],
   "source": [
    "#gan.generator.trainable_weights"
   ]
  },
  {
   "cell_type": "code",
   "execution_count": 758,
   "metadata": {},
   "outputs": [
    {
     "name": "stdout",
     "output_type": "stream",
     "text": [
      "Train on 12800 samples, validate on 3200 samples\n",
      "12800/12800 [==============================] - 6s 443us/sample - loss: 2.1148 - accuracy: 0.0025 - val_loss: 2.0796 - val_accuracy: 3.1250e-04\n",
      "Model: \"sequential_163\"\n",
      "_________________________________________________________________\n",
      "Layer (type)                 Output Shape              Param #   \n",
      "=================================================================\n",
      "mnist_generator (Model)      (32, 28, 28, 1)           461       \n",
      "_________________________________________________________________\n",
      "mnist_discriminator (Model)  (32, 1)                   645       \n",
      "=================================================================\n",
      "Total params: 1,106\n",
      "Trainable params: 461\n",
      "Non-trainable params: 645\n",
      "_________________________________________________________________\n"
     ]
    }
   ],
   "source": [
    "gan.train_generator().summary()"
   ]
  },
  {
   "cell_type": "code",
   "execution_count": 759,
   "metadata": {},
   "outputs": [
    {
     "name": "stdout",
     "output_type": "stream",
     "text": [
      "Model: \"mnist_generator\"\n",
      "_________________________________________________________________\n",
      "Layer (type)                 Output Shape              Param #   \n",
      "=================================================================\n",
      "input_165 (InputLayer)       [(32, 100, 1)]            0         \n",
      "_________________________________________________________________\n",
      "reshape_124 (Reshape)        (32, 10, 10, 1)           0         \n",
      "_________________________________________________________________\n",
      "conv2d_transpose_253 (Conv2D (32, 21, 21, 5)           50        \n",
      "_________________________________________________________________\n",
      "conv2d_transpose_254 (Conv2D (32, 23, 23, 5)           230       \n",
      "_________________________________________________________________\n",
      "conv2d_transpose_255 (Conv2D (32, 28, 28, 1)           181       \n",
      "=================================================================\n",
      "Total params: 461\n",
      "Trainable params: 461\n",
      "Non-trainable params: 0\n",
      "_________________________________________________________________\n"
     ]
    }
   ],
   "source": [
    "gan.generator.summary()"
   ]
  },
  {
   "cell_type": "code",
   "execution_count": 480,
   "metadata": {},
   "outputs": [],
   "source": [
    "gan.compile_models()"
   ]
  },
  {
   "cell_type": "code",
   "execution_count": 481,
   "metadata": {},
   "outputs": [
    {
     "ename": "TypeError",
     "evalue": "train_discriminator() missing 2 required positional arguments: 'real_img_array' and 'fake_img_array'",
     "output_type": "error",
     "traceback": [
      "\u001b[0;31m---------------------------------------------------------------------------\u001b[0m",
      "\u001b[0;31mTypeError\u001b[0m                                 Traceback (most recent call last)",
      "\u001b[0;32m<ipython-input-481-96ed32316f84>\u001b[0m in \u001b[0;36m<module>\u001b[0;34m\u001b[0m\n\u001b[0;32m----> 1\u001b[0;31m \u001b[0mgan\u001b[0m\u001b[0;34m.\u001b[0m\u001b[0mtrain_discriminator\u001b[0m\u001b[0;34m(\u001b[0m\u001b[0;34m)\u001b[0m\u001b[0;34m\u001b[0m\u001b[0;34m\u001b[0m\u001b[0m\n\u001b[0m",
      "\u001b[0;31mTypeError\u001b[0m: train_discriminator() missing 2 required positional arguments: 'real_img_array' and 'fake_img_array'"
     ]
    }
   ],
   "source": [
    "gan.train_discriminator()"
   ]
  },
  {
   "cell_type": "code",
   "execution_count": 748,
   "metadata": {},
   "outputs": [],
   "source": [
    "X_fake = gan.noise_vector(features=100, size=12000)"
   ]
  },
  {
   "cell_type": "code",
   "execution_count": 749,
   "metadata": {},
   "outputs": [
    {
     "data": {
      "text/plain": [
       "(12000, 100)"
      ]
     },
     "execution_count": 749,
     "metadata": {},
     "output_type": "execute_result"
    }
   ],
   "source": [
    "X_fake.shape"
   ]
  },
  {
   "cell_type": "code",
   "execution_count": 870,
   "metadata": {},
   "outputs": [
    {
     "data": {
      "text/plain": [
       "(12000, 28, 28, 1)"
      ]
     },
     "execution_count": 870,
     "metadata": {},
     "output_type": "execute_result"
    }
   ],
   "source": [
    "fake = gan.generator.predict(np.expand_dims(X_fake,-1))\n",
    "fake.shape"
   ]
  },
  {
   "cell_type": "code",
   "execution_count": 871,
   "metadata": {},
   "outputs": [],
   "source": [
    "#gan.train_generator(X_fake)"
   ]
  },
  {
   "cell_type": "code",
   "execution_count": 872,
   "metadata": {},
   "outputs": [
    {
     "data": {
      "text/plain": [
       "(28, 28)"
      ]
     },
     "execution_count": 872,
     "metadata": {},
     "output_type": "execute_result"
    }
   ],
   "source": [
    "np.squeeze(fake[0]).shape\n",
    "img_array = np.squeeze(fake[10])\n",
    "img_array.shape"
   ]
  },
  {
   "cell_type": "code",
   "execution_count": 873,
   "metadata": {},
   "outputs": [
    {
     "data": {
      "image/png": "[encoded data removed]",
      "text/plain": [
       "<Figure size 432x288 with 1 Axes>"
      ]
     },
     "metadata": {
      "needs_background": "light"
     },
     "output_type": "display_data"
    }
   ],
   "source": [
    "gan.show_image(img_array)"
   ]
  },
  {
   "cell_type": "code",
   "execution_count": 874,
   "metadata": {},
   "outputs": [
    {
     "data": {
      "text/plain": [
       "array([[0.99975353],\n",
       "       [0.9995646 ],\n",
       "       [0.99963963],\n",
       "       ...,\n",
       "       [0.99988246],\n",
       "       [0.9997265 ],\n",
       "       [0.99931383]], dtype=float32)"
      ]
     },
     "execution_count": 874,
     "metadata": {},
     "output_type": "execute_result"
    }
   ],
   "source": [
    "gan.discriminator.predict(fake)"
   ]
  },
  {
   "cell_type": "code",
   "execution_count": 875,
   "metadata": {},
   "outputs": [
    {
     "name": "stdout",
     "output_type": "stream",
     "text": [
      "WARNING:tensorflow:Model was constructed with shape Tensor(\"input_190:0\", shape=(32, 28, 28, 1), dtype=float32) for input (32, 28, 28, 1), but it was re-called on a Tensor with incompatible shape (60000, 28, 28, 1).\n",
      "WARNING:tensorflow:Layer conv2d_156 is casting an input tensor from dtype float64 to the layer's dtype of float32, which is new behavior in TensorFlow 2.  The layer has dtype float32 because it's dtype defaults to floatx.\n",
      "\n",
      "If you intended to run this layer in float32, you can safely ignore this warning. If in doubt, this warning is likely only an issue if you are porting a TensorFlow 1.X model to TensorFlow 2.\n",
      "\n",
      "To change all layers to have dtype float64 by default, call `tf.keras.backend.set_floatx('float64')`. To change just this layer, pass dtype='float64' to the layer constructor. If you are the author of this layer, you can disable autocasting by passing autocast=False to the base Layer constructor.\n",
      "\n"
     ]
    },
    {
     "data": {
      "text/plain": [
       "<tf.Tensor: shape=(60000, 1), dtype=float32, numpy=\n",
       "array([[0.9999076 ],\n",
       "       [0.99998903],\n",
       "       [0.8505106 ],\n",
       "       ...,\n",
       "       [0.9990171 ],\n",
       "       [0.99846363],\n",
       "       [0.9983368 ]], dtype=float32)>"
      ]
     },
     "execution_count": 875,
     "metadata": {},
     "output_type": "execute_result"
    }
   ],
   "source": [
    "gan.discriminator(np.expand_dims(gan.real,-1))"
   ]
  },
  {
   "cell_type": "code",
   "execution_count": 489,
   "metadata": {},
   "outputs": [
    {
     "name": "stdout",
     "output_type": "stream",
     "text": [
      "(60000, 28, 28, 1)\n",
      "(12000, 28, 28, 1)\n",
      "(72000, 28, 28, 1)\n",
      "(72000,)\n",
      "Train on 57600 samples, validate on 14400 samples\n",
      "57600/57600 [==============================] - 17s 302us/sample - loss: 5.5199e-08 - accuracy: 1.0000 - val_loss: 0.6836 - val_accuracy: 0.1667\n"
     ]
    }
   ],
   "source": [
    "gan.train_discriminator(gan.real, fake)"
   ]
  },
  {
   "cell_type": "code",
   "execution_count": null,
   "metadata": {},
   "outputs": [],
   "source": []
  },
  {
   "cell_type": "code",
   "execution_count": null,
   "metadata": {},
   "outputs": [],
   "source": []
  }
 ],
 "metadata": {
  "kernelspec": {
   "display_name": "tf2",
   "language": "python",
   "name": "tf2"
  },
  "language_info": {
   "codemirror_mode": {
    "name": "ipython",
    "version": 3
   },
   "file_extension": ".py",
   "mimetype": "text/x-python",
   "name": "python",
   "nbconvert_exporter": "python",
   "pygments_lexer": "ipython3",
   "version": "3.7.6"
  }
 },
 "nbformat": 4,
 "nbformat_minor": 4
}
